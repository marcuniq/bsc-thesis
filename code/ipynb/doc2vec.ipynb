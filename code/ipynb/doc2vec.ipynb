{
 "cells": [
  {
   "cell_type": "code",
   "execution_count": 2,
   "metadata": {
    "collapsed": true
   },
   "outputs": [],
   "source": [
    "from gensim.models.doc2vec import Doc2Vec"
   ]
  },
  {
   "cell_type": "code",
   "execution_count": 8,
   "metadata": {
    "collapsed": false
   },
   "outputs": [
    {
     "name": "stdout",
     "output_type": "stream",
     "text": [
      "\n"
     ]
    }
   ],
   "source": [
    "# free willy\n",
    "fw_imdb_id = 106965\n",
    "\n",
    "# free willy 2\n",
    "fw2_imdb_id = 113114\n",
    "\n",
    "# jurassic park\n",
    "jp_imdb_id = 107290\n",
    "\n",
    "# jurassic park 2\n",
    "jp2_imdb_id = 119567\n",
    "\n",
    "# scream\n",
    "scr_imdb_id = 117571\n",
    "\n",
    "# scream 2\n",
    "scr2_imdb_id = 120082\n",
    "\n",
    "# species\n",
    "sp_imdb_id = 114508\n",
    "\n",
    "# species 2\n",
    "sp2_imdb_id = 120841\n",
    "\n",
    "# star wars episode v\n",
    "swv_imdb_id = 80684\n",
    "\n",
    "# star wars episode vi\n",
    "swvi_imdb_id = 86190\n",
    "\n",
    "# toy story\n",
    "ts_imdb_id = 114709\n",
    "\n",
    "# toy story 2\n",
    "ts2_imdb_id = 120363"
   ]
  },
  {
   "cell_type": "code",
   "execution_count": 9,
   "metadata": {
    "collapsed": true
   },
   "outputs": [],
   "source": [
    "def print_similar_movies(path):\n",
    "    model = Doc2Vec.load(path)\n",
    "    \n",
    "    print \"Free Willy - Free Willy 2:\", model.docvecs.similarity('{}.txt'.format(fw_imdb_id),'{}.txt'.format(fw2_imdb_id))\n",
    "    print \"Jurassic Park - Jurassic Park 2\",model.docvecs.similarity('{}.txt'.format(jp_imdb_id),'{}.txt'.format(jp2_imdb_id))\n",
    "    print \"Scream - Scream 2\", model.docvecs.similarity('{}.txt'.format(scr_imdb_id),'{}.txt'.format(scr2_imdb_id))\n",
    "    print \"Species - Species II\",  model.docvecs.similarity('{}.txt'.format(sp_imdb_id),'{}.txt'.format(sp2_imdb_id))\n",
    "    print \"Star Wars V - Star Wars VI\", model.docvecs.similarity('{}.txt'.format(swv_imdb_id),'{}.txt'.format(swvi_imdb_id))\n",
    "    print \"Toy Story - Toy Story 2\", model.docvecs.similarity('{}.txt'.format(ts_imdb_id),'{}.txt'.format(ts2_imdb_id))"
   ]
  },
  {
   "cell_type": "code",
   "execution_count": 10,
   "metadata": {
    "collapsed": false
   },
   "outputs": [
    {
     "name": "stdout",
     "output_type": "stream",
     "text": [
      "Free Willy - Free Willy 2: 0.869402415927\n",
      "Jurassic Park - Jurassic Park 2 0.679550403011\n",
      "Scream - Scream 2 0.751414285162\n",
      "Species - Species II 0.683118008026\n",
      "Star Wars V - Star Wars VI 0.923075051745\n",
      "Toy Story - Toy Story 2 0.752913415752\n"
     ]
    }
   ],
   "source": [
    "print_similar_movies('../doc2vec-models/2016-04-14_17.36.08_20e_pv-dbow_size50_lr0.025_window8_neg5')"
   ]
  },
  {
   "cell_type": "code",
   "execution_count": 11,
   "metadata": {
    "collapsed": false
   },
   "outputs": [
    {
     "name": "stdout",
     "output_type": "stream",
     "text": [
      "Free Willy - Free Willy 2: 0.745256810058\n",
      "Jurassic Park - Jurassic Park 2 0.660888035098\n",
      "Scream - Scream 2 0.877650976132\n",
      "Species - Species II 0.669720641491\n",
      "Star Wars V - Star Wars VI 0.961327816412\n",
      "Toy Story - Toy Story 2 0.846541766107\n"
     ]
    }
   ],
   "source": [
    "print_similar_movies('../doc2vec-models/2016-05-06_20.23.41_100e_pv-dbow_size50_lr0.025_decay_3e-2_window8_neg5')"
   ]
  },
  {
   "cell_type": "code",
   "execution_count": 12,
   "metadata": {
    "collapsed": false
   },
   "outputs": [
    {
     "name": "stdout",
     "output_type": "stream",
     "text": [
      "Free Willy - Free Willy 2: 0.750639653519\n",
      "Jurassic Park - Jurassic Park 2 0.673796419245\n",
      "Scream - Scream 2 0.857082745907\n",
      "Species - Species II 0.644788170138\n",
      "Star Wars V - Star Wars VI 0.937864683034\n",
      "Toy Story - Toy Story 2 0.773457654621\n"
     ]
    }
   ],
   "source": [
    "print_similar_movies('../doc2vec-models/2016-05-23_19.19.52_20e_pv-dbow_size50_lr0.025-lin-delta_window10_hs1')"
   ]
  },
  {
   "cell_type": "code",
   "execution_count": 13,
   "metadata": {
    "collapsed": false
   },
   "outputs": [
    {
     "name": "stdout",
     "output_type": "stream",
     "text": [
      "Free Willy - Free Willy 2: 0.837277923984\n",
      "Jurassic Park - Jurassic Park 2 0.731217581033\n",
      "Scream - Scream 2 0.791658747204\n",
      "Species - Species II 0.720893995317\n",
      "Star Wars V - Star Wars VI 0.931855348471\n",
      "Toy Story - Toy Story 2 0.817496419989\n"
     ]
    }
   ],
   "source": [
    "print_similar_movies('../doc2vec-models/2016-05-27_17.42.02_20e_pv-dbow_size50_lr0.1-lin-delta_window10_neg5')"
   ]
  },
  {
   "cell_type": "code",
   "execution_count": 14,
   "metadata": {
    "collapsed": false
   },
   "outputs": [
    {
     "name": "stdout",
     "output_type": "stream",
     "text": [
      "Free Willy - Free Willy 2: 0.703867859007\n",
      "Jurassic Park - Jurassic Park 2 0.606160607066\n",
      "Scream - Scream 2 0.679622061895\n",
      "Species - Species II 0.467872272593\n",
      "Star Wars V - Star Wars VI 0.855444877492\n",
      "Toy Story - Toy Story 2 0.724635088861\n"
     ]
    }
   ],
   "source": [
    "# size 100\n",
    "print_similar_movies('../doc2vec-models/2016-04-11_16.00.28_100e_lr0.01_epoch99')"
   ]
  },
  {
   "cell_type": "code",
   "execution_count": 16,
   "metadata": {
    "collapsed": false
   },
   "outputs": [
    {
     "name": "stdout",
     "output_type": "stream",
     "text": [
      "Free Willy - Free Willy 2: 0.693729680294\n",
      "Jurassic Park - Jurassic Park 2 0.626884545428\n",
      "Scream - Scream 2 0.739926134488\n",
      "Species - Species II 0.507241332764\n",
      "Star Wars V - Star Wars VI 0.875357982037\n",
      "Toy Story - Toy Story 2 0.739532672257\n"
     ]
    }
   ],
   "source": [
    "# size 100\n",
    "print_similar_movies('../doc2vec-models/2016-04-11_17.48.40_100e_lr0.01_window8_neg4')"
   ]
  },
  {
   "cell_type": "code",
   "execution_count": 17,
   "metadata": {
    "collapsed": false
   },
   "outputs": [
    {
     "name": "stdout",
     "output_type": "stream",
     "text": [
      "Free Willy - Free Willy 2: 0.523558607301\n",
      "Jurassic Park - Jurassic Park 2 0.375941304938\n",
      "Scream - Scream 2 0.541937181905\n",
      "Species - Species II 0.326571889612\n",
      "Star Wars V - Star Wars VI 0.608465739265\n",
      "Toy Story - Toy Story 2 0.567407749325\n"
     ]
    }
   ],
   "source": [
    "# size 300\n",
    "print_similar_movies('../doc2vec-models/2016-04-14_17.11.01_20e_pv-dm_size300_lr0.025_window10_neg5')"
   ]
  },
  {
   "cell_type": "code",
   "execution_count": null,
   "metadata": {
    "collapsed": true
   },
   "outputs": [],
   "source": []
  }
 ],
 "metadata": {
  "kernelspec": {
   "display_name": "Python 2",
   "language": "python",
   "name": "python2"
  },
  "language_info": {
   "codemirror_mode": {
    "name": "ipython",
    "version": 2
   },
   "file_extension": ".py",
   "mimetype": "text/x-python",
   "name": "python",
   "nbconvert_exporter": "python",
   "pygments_lexer": "ipython2",
   "version": "2.7.11"
  }
 },
 "nbformat": 4,
 "nbformat_minor": 0
}
