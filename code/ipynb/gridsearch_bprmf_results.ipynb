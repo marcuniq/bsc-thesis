{
 "cells": [
  {
   "cell_type": "code",
   "execution_count": 1,
   "metadata": {
    "collapsed": true
   },
   "outputs": [],
   "source": [
    "import numpy as np\n",
    "import pandas as pd\n",
    "import json\n",
    "import pprint\n",
    "import json\n",
    "pp = pprint.PrettyPrinter(indent=4)"
   ]
  },
  {
   "cell_type": "markdown",
   "metadata": {},
   "source": [
    "## ML-100k - 0.7 train / 0.3 test - sparse item"
   ]
  },
  {
   "cell_type": "code",
   "execution_count": 9,
   "metadata": {
    "collapsed": true
   },
   "outputs": [],
   "source": [
    "results = [\n",
    "'../metrics/bprmf/2016-05-27_16.07.52_bprmf_ml-100k_e20_tt-0.7_task-22_user-metrics.csv',\n",
    "'../metrics/bprmf/2016-05-27_16.07.53_bprmf_ml-100k_e20_tt-0.7_task-2_user-metrics.csv',\n",
    "'../metrics/bprmf/2016-05-27_16.08.01_bprmf_ml-100k_e20_tt-0.7_task-11_user-metrics.csv',\n",
    "'../metrics/bprmf/2016-05-27_16.08.02_bprmf_ml-100k_e20_tt-0.7_task-3_user-metrics.csv',\n",
    "'../metrics/bprmf/2016-05-27_16.08.02_bprmf_ml-100k_e20_tt-0.7_task-6_user-metrics.csv',\n",
    "'../metrics/bprmf/2016-05-27_16.08.27_bprmf_ml-100k_e20_tt-0.7_task-5_user-metrics.csv',\n",
    "'../metrics/bprmf/2016-05-27_16.08.30_bprmf_ml-100k_e20_tt-0.7_task-1_user-metrics.csv',\n",
    "'../metrics/bprmf/2016-05-27_16.14.44_bprmf_ml-100k_e20_tt-0.7_task-23_user-metrics.csv',\n",
    "'../metrics/bprmf/2016-05-27_16.14.45_bprmf_ml-100k_e20_tt-0.7_task-7_user-metrics.csv',\n",
    "'../metrics/bprmf/2016-05-27_16.14.47_bprmf_ml-100k_e20_tt-0.7_task-17_user-metrics.csv',\n",
    "'../metrics/bprmf/2016-05-27_16.14.48_bprmf_ml-100k_e20_tt-0.7_task-13_user-metrics.csv',\n",
    "'../metrics/bprmf/2016-05-27_16.14.49_bprmf_ml-100k_e20_tt-0.7_task-19_user-metrics.csv',\n",
    "'../metrics/bprmf/2016-05-27_16.14.51_bprmf_ml-100k_e20_tt-0.7_task-18_user-metrics.csv',\n",
    "'../metrics/bprmf/2016-05-27_16.14.57_bprmf_ml-100k_e20_tt-0.7_task-21_user-metrics.csv',\n",
    "'../metrics/bprmf/2016-05-27_16.14.58_bprmf_ml-100k_e20_tt-0.7_task-0_user-metrics.csv',\n",
    "'../metrics/bprmf/2016-05-27_16.14.58_bprmf_ml-100k_e20_tt-0.7_task-16_user-metrics.csv',\n",
    "'../metrics/bprmf/2016-05-27_16.14.58_bprmf_ml-100k_e20_tt-0.7_task-9_user-metrics.csv',\n",
    "'../metrics/bprmf/2016-05-27_16.15.01_bprmf_ml-100k_e20_tt-0.7_task-14_user-metrics.csv',\n",
    "'../metrics/bprmf/2016-05-27_16.15.02_bprmf_ml-100k_e20_tt-0.7_task-4_user-metrics.csv',\n",
    "'../metrics/bprmf/2016-05-27_16.15.42_bprmf_ml-100k_e20_tt-0.7_task-10_user-metrics.csv',\n",
    "'../metrics/bprmf/2016-05-27_16.15.46_bprmf_ml-100k_e20_tt-0.7_task-8_user-metrics.csv',\n",
    "'../metrics/bprmf/2016-05-27_16.15.47_bprmf_ml-100k_e20_tt-0.7_task-15_user-metrics.csv',\n",
    "'../metrics/bprmf/2016-05-27_16.15.55_bprmf_ml-100k_e20_tt-0.7_task-20_user-metrics.csv',\n",
    "'../metrics/bprmf/2016-05-27_16.15.58_bprmf_ml-100k_e20_tt-0.7_task-12_user-metrics.csv',\n",
    "'../metrics/bprmf/2016-05-27_16.35.22_bprmf_ml-100k_e20_tt-0.7_task-18_user-metrics.csv',\n",
    "'../metrics/bprmf/2016-05-27_16.35.24_bprmf_ml-100k_e20_tt-0.7_task-11_user-metrics.csv',\n",
    "'../metrics/bprmf/2016-05-27_16.35.25_bprmf_ml-100k_e20_tt-0.7_task-0_user-metrics.csv',\n",
    "'../metrics/bprmf/2016-05-27_16.35.25_bprmf_ml-100k_e20_tt-0.7_task-21_user-metrics.csv',\n",
    "'../metrics/bprmf/2016-05-27_16.35.32_bprmf_ml-100k_e20_tt-0.7_task-15_user-metrics.csv',\n",
    "'../metrics/bprmf/2016-05-27_16.35.35_bprmf_ml-100k_e20_tt-0.7_task-20_user-metrics.csv',\n",
    "'../metrics/bprmf/2016-05-27_16.35.55_bprmf_ml-100k_e20_tt-0.7_task-23_user-metrics.csv',\n",
    "'../metrics/bprmf/2016-05-27_16.35.57_bprmf_ml-100k_e20_tt-0.7_task-14_user-metrics.csv',\n",
    "'../metrics/bprmf/2016-05-27_16.35.57_bprmf_ml-100k_e20_tt-0.7_task-3_user-metrics.csv',\n",
    "'../metrics/bprmf/2016-05-27_16.35.58_bprmf_ml-100k_e20_tt-0.7_task-22_user-metrics.csv',\n",
    "'../metrics/bprmf/2016-05-27_16.36.00_bprmf_ml-100k_e20_tt-0.7_task-12_user-metrics.csv',\n",
    "'../metrics/bprmf/2016-05-27_16.42.10_bprmf_ml-100k_e20_tt-0.7_task-16_user-metrics.csv',\n",
    "'../metrics/bprmf/2016-05-27_16.42.10_bprmf_ml-100k_e20_tt-0.7_task-2_user-metrics.csv',\n",
    "'../metrics/bprmf/2016-05-27_16.42.10_bprmf_ml-100k_e20_tt-0.7_task-6_user-metrics.csv',\n",
    "'../metrics/bprmf/2016-05-27_16.42.11_bprmf_ml-100k_e20_tt-0.7_task-4_user-metrics.csv',\n",
    "'../metrics/bprmf/2016-05-27_16.42.11_bprmf_ml-100k_e20_tt-0.7_task-7_user-metrics.csv',\n",
    "'../metrics/bprmf/2016-05-27_16.42.21_bprmf_ml-100k_e20_tt-0.7_task-1_user-metrics.csv',\n",
    "'../metrics/bprmf/2016-05-27_16.42.21_bprmf_ml-100k_e20_tt-0.7_task-9_user-metrics.csv',\n",
    "'../metrics/bprmf/2016-05-27_16.42.22_bprmf_ml-100k_e20_tt-0.7_task-13_user-metrics.csv',\n",
    "'../metrics/bprmf/2016-05-27_16.42.24_bprmf_ml-100k_e20_tt-0.7_task-19_user-metrics.csv',\n",
    "'../metrics/bprmf/2016-05-27_16.42.24_bprmf_ml-100k_e20_tt-0.7_task-8_user-metrics.csv',\n",
    "'../metrics/bprmf/2016-05-27_16.43.13_bprmf_ml-100k_e20_tt-0.7_task-5_user-metrics.csv',\n",
    "'../metrics/bprmf/2016-05-27_16.43.15_bprmf_ml-100k_e20_tt-0.7_task-10_user-metrics.csv',\n",
    "'../metrics/bprmf/2016-05-27_16.43.15_bprmf_ml-100k_e20_tt-0.7_task-17_user-metrics.csv',\n",
    "]"
   ]
  },
  {
   "cell_type": "code",
   "execution_count": 10,
   "metadata": {
    "collapsed": false
   },
   "outputs": [
    {
     "data": {
      "text/plain": [
       "[('../metrics/bprmf/2016-05-27_16.15.55_bprmf_ml-100k_e20_tt-0.7_task-20_user-metrics.csv',\n",
       "  0.9228777568505808),\n",
       " ('../metrics/bprmf/2016-05-27_16.42.21_bprmf_ml-100k_e20_tt-0.7_task-1_user-metrics.csv',\n",
       "  0.9218804066472251),\n",
       " ('../metrics/bprmf/2016-05-27_16.42.10_bprmf_ml-100k_e20_tt-0.7_task-2_user-metrics.csv',\n",
       "  0.9213373651124601),\n",
       " ('../metrics/bprmf/2016-05-27_16.15.47_bprmf_ml-100k_e20_tt-0.7_task-15_user-metrics.csv',\n",
       "  0.9213305080456915),\n",
       " ('../metrics/bprmf/2016-05-27_16.43.15_bprmf_ml-100k_e20_tt-0.7_task-10_user-metrics.csv',\n",
       "  0.921210868307364),\n",
       " ('../metrics/bprmf/2016-05-27_16.08.01_bprmf_ml-100k_e20_tt-0.7_task-11_user-metrics.csv',\n",
       "  0.9211244802938249),\n",
       " ('../metrics/bprmf/2016-05-27_16.43.15_bprmf_ml-100k_e20_tt-0.7_task-17_user-metrics.csv',\n",
       "  0.9209191777032413),\n",
       " ('../metrics/bprmf/2016-05-27_16.14.57_bprmf_ml-100k_e20_tt-0.7_task-21_user-metrics.csv',\n",
       "  0.9207818500807805),\n",
       " ('../metrics/bprmf/2016-05-27_16.15.58_bprmf_ml-100k_e20_tt-0.7_task-12_user-metrics.csv',\n",
       "  0.9207460606877863),\n",
       " ('../metrics/bprmf/2016-05-27_16.14.49_bprmf_ml-100k_e20_tt-0.7_task-19_user-metrics.csv',\n",
       "  0.9206595475300303),\n",
       " ('../metrics/bprmf/2016-05-27_16.15.01_bprmf_ml-100k_e20_tt-0.7_task-14_user-metrics.csv',\n",
       "  0.9206463982919487),\n",
       " ('../metrics/bprmf/2016-05-27_16.14.58_bprmf_ml-100k_e20_tt-0.7_task-9_user-metrics.csv',\n",
       "  0.9203928028995261),\n",
       " ('../metrics/bprmf/2016-05-27_16.14.58_bprmf_ml-100k_e20_tt-0.7_task-16_user-metrics.csv',\n",
       "  0.9199627536139688),\n",
       " ('../metrics/bprmf/2016-05-27_16.36.00_bprmf_ml-100k_e20_tt-0.7_task-12_user-metrics.csv',\n",
       "  0.9198240445242417),\n",
       " ('../metrics/bprmf/2016-05-27_16.14.48_bprmf_ml-100k_e20_tt-0.7_task-13_user-metrics.csv',\n",
       "  0.9197848481348629),\n",
       " ('../metrics/bprmf/2016-05-27_16.35.25_bprmf_ml-100k_e20_tt-0.7_task-21_user-metrics.csv',\n",
       "  0.9195956712931719),\n",
       " ('../metrics/bprmf/2016-05-27_16.42.10_bprmf_ml-100k_e20_tt-0.7_task-6_user-metrics.csv',\n",
       "  0.9185771470075889),\n",
       " ('../metrics/bprmf/2016-05-27_16.14.58_bprmf_ml-100k_e20_tt-0.7_task-0_user-metrics.csv',\n",
       "  0.9130275638555483),\n",
       " ('../metrics/bprmf/2016-05-27_16.43.13_bprmf_ml-100k_e20_tt-0.7_task-5_user-metrics.csv',\n",
       "  0.9127547822327504),\n",
       " ('../metrics/bprmf/2016-05-27_16.42.24_bprmf_ml-100k_e20_tt-0.7_task-8_user-metrics.csv',\n",
       "  0.9101955836490079),\n",
       " ('../metrics/bprmf/2016-05-27_16.08.02_bprmf_ml-100k_e20_tt-0.7_task-6_user-metrics.csv',\n",
       "  0.9079912522413811),\n",
       " ('../metrics/bprmf/2016-05-27_16.14.51_bprmf_ml-100k_e20_tt-0.7_task-18_user-metrics.csv',\n",
       "  0.9079651155136653),\n",
       " ('../metrics/bprmf/2016-05-27_16.14.45_bprmf_ml-100k_e20_tt-0.7_task-7_user-metrics.csv',\n",
       "  0.9076469634457109),\n",
       " ('../metrics/bprmf/2016-05-27_16.15.46_bprmf_ml-100k_e20_tt-0.7_task-8_user-metrics.csv',\n",
       "  0.907416751182951),\n",
       " ('../metrics/bprmf/2016-05-27_16.42.11_bprmf_ml-100k_e20_tt-0.7_task-7_user-metrics.csv',\n",
       "  0.9064675430487313),\n",
       " ('../metrics/bprmf/2016-05-27_16.08.02_bprmf_ml-100k_e20_tt-0.7_task-3_user-metrics.csv',\n",
       "  0.906027326610638),\n",
       " ('../metrics/bprmf/2016-05-27_16.35.57_bprmf_ml-100k_e20_tt-0.7_task-3_user-metrics.csv',\n",
       "  0.905154717491711),\n",
       " ('../metrics/bprmf/2016-05-27_16.35.58_bprmf_ml-100k_e20_tt-0.7_task-22_user-metrics.csv',\n",
       "  0.9049911279505004),\n",
       " ('../metrics/bprmf/2016-05-27_16.07.53_bprmf_ml-100k_e20_tt-0.7_task-2_user-metrics.csv',\n",
       "  0.9040298070938679),\n",
       " ('../metrics/bprmf/2016-05-27_16.35.24_bprmf_ml-100k_e20_tt-0.7_task-11_user-metrics.csv',\n",
       "  0.9037707849397546),\n",
       " ('../metrics/bprmf/2016-05-27_16.14.47_bprmf_ml-100k_e20_tt-0.7_task-17_user-metrics.csv',\n",
       "  0.9023623697363264),\n",
       " ('../metrics/bprmf/2016-05-27_16.42.22_bprmf_ml-100k_e20_tt-0.7_task-13_user-metrics.csv',\n",
       "  0.886043026815595),\n",
       " ('../metrics/bprmf/2016-05-27_16.35.25_bprmf_ml-100k_e20_tt-0.7_task-0_user-metrics.csv',\n",
       "  0.8854098975539656),\n",
       " ('../metrics/bprmf/2016-05-27_16.35.55_bprmf_ml-100k_e20_tt-0.7_task-23_user-metrics.csv',\n",
       "  0.8853068392367246),\n",
       " ('../metrics/bprmf/2016-05-27_16.15.02_bprmf_ml-100k_e20_tt-0.7_task-4_user-metrics.csv',\n",
       "  0.885155293205889),\n",
       " ('../metrics/bprmf/2016-05-27_16.15.42_bprmf_ml-100k_e20_tt-0.7_task-10_user-metrics.csv',\n",
       "  0.8849120130234841),\n",
       " ('../metrics/bprmf/2016-05-27_16.35.22_bprmf_ml-100k_e20_tt-0.7_task-18_user-metrics.csv',\n",
       "  0.8839753691778452),\n",
       " ('../metrics/bprmf/2016-05-27_16.42.10_bprmf_ml-100k_e20_tt-0.7_task-16_user-metrics.csv',\n",
       "  0.8837728057822705),\n",
       " ('../metrics/bprmf/2016-05-27_16.42.21_bprmf_ml-100k_e20_tt-0.7_task-9_user-metrics.csv',\n",
       "  0.8835916041395121),\n",
       " ('../metrics/bprmf/2016-05-27_16.08.27_bprmf_ml-100k_e20_tt-0.7_task-5_user-metrics.csv',\n",
       "  0.8824357506208206),\n",
       " ('../metrics/bprmf/2016-05-27_16.35.57_bprmf_ml-100k_e20_tt-0.7_task-14_user-metrics.csv',\n",
       "  0.88226065122231),\n",
       " ('../metrics/bprmf/2016-05-27_16.08.30_bprmf_ml-100k_e20_tt-0.7_task-1_user-metrics.csv',\n",
       "  0.8817406747412935),\n",
       " ('../metrics/bprmf/2016-05-27_16.42.24_bprmf_ml-100k_e20_tt-0.7_task-19_user-metrics.csv',\n",
       "  0.8813110225293038),\n",
       " ('../metrics/bprmf/2016-05-27_16.42.11_bprmf_ml-100k_e20_tt-0.7_task-4_user-metrics.csv',\n",
       "  0.8770052987832236),\n",
       " ('../metrics/bprmf/2016-05-27_16.14.44_bprmf_ml-100k_e20_tt-0.7_task-23_user-metrics.csv',\n",
       "  0.8740574982304502),\n",
       " ('../metrics/bprmf/2016-05-27_16.07.52_bprmf_ml-100k_e20_tt-0.7_task-22_user-metrics.csv',\n",
       "  0.8732317933957116),\n",
       " ('../metrics/bprmf/2016-05-27_16.35.32_bprmf_ml-100k_e20_tt-0.7_task-15_user-metrics.csv',\n",
       "  0.8715012989355967),\n",
       " ('../metrics/bprmf/2016-05-27_16.35.35_bprmf_ml-100k_e20_tt-0.7_task-20_user-metrics.csv',\n",
       "  0.8698685316556524)]"
      ]
     },
     "execution_count": 10,
     "metadata": {},
     "output_type": "execute_result"
    }
   ],
   "source": [
    "result_map = map(lambda p: (p, pd.read_csv(p)['auc'].mean()), results)\n",
    "sorted(result_map, key=lambda t:t[1], reverse=True)"
   ]
  },
  {
   "cell_type": "code",
   "execution_count": 11,
   "metadata": {
    "collapsed": false
   },
   "outputs": [
    {
     "name": "stdout",
     "output_type": "stream",
     "text": [
      "{   u'ada_eps': 1e-06,\n",
      "    u'adagrad': True,\n",
      "    u'binarize': True,\n",
      "    u'binarize_neg': 0,\n",
      "    u'binarize_pos': 1,\n",
      "    u'binarize_threshold': 1,\n",
      "    u'eval_in_parallel': False,\n",
      "    u'experiment_name': u'bprmf_ml-100k_e20_tt-0.7_task-20',\n",
      "    u'hit_threshold': 4,\n",
      "    u'init_params_scale': 0.001,\n",
      "    u'lr': 0.03,\n",
      "    u'lr_decay': 0.02,\n",
      "    u'metrics_save_dir': u'metrics/bprmf',\n",
      "    u'model_save_dir': u'models/bprmf',\n",
      "    u'nb_epochs': 20,\n",
      "    u'nb_latent_f': 128,\n",
      "    u'precision_recall_at_n': 20,\n",
      "    u'ratings_path': u'data/splits/ml-100k/ratings.csv',\n",
      "    u'reg_lambda': 0.01,\n",
      "    u'run_eval': True,\n",
      "    u'run_movie_metrics': False,\n",
      "    u'sparse_item': True,\n",
      "    u'test': True,\n",
      "    u'test_path': u'data/splits/ml-100k/sparse-item/0.7-test.csv',\n",
      "    u'top_n_predictions': 100,\n",
      "    u'train_path': u'data/splits/ml-100k/sparse-item/0.7-train.csv',\n",
      "    u'train_test_split': 0.7,\n",
      "    u'triplet_sample_factor': 5,\n",
      "    u'val': False,\n",
      "    u'verbose': 0}\n"
     ]
    }
   ],
   "source": [
    "with open('../models/bprmf/2016-05-27_16.15.55_bprmf_ml-100k_e20_tt-0.7_task-20_config.json') as f:\n",
    "    pp.pprint(json.loads(f.read()))"
   ]
  },
  {
   "cell_type": "code",
   "execution_count": 13,
   "metadata": {
    "collapsed": false
   },
   "outputs": [
    {
     "data": {
      "text/plain": [
       "auc                          0.922878\n",
       "avg_precision                0.188243\n",
       "f1                           0.185173\n",
       "fcp                          0.707426\n",
       "nb_movies_not_in_train    1193.269353\n",
       "nb_test_movies              28.958643\n",
       "nb_train_movies             67.730647\n",
       "precision_at_20              0.183616\n",
       "recall_at_20                 0.287105\n",
       "reciprocal_rank              0.370203\n",
       "spearman_rank_corr           0.167195\n",
       "user_id                    472.000000\n",
       "dtype: float64"
      ]
     },
     "execution_count": 13,
     "metadata": {},
     "output_type": "execute_result"
    }
   ],
   "source": [
    "best_metrics = pd.read_csv('../metrics/bprmf/2016-05-27_16.15.55_bprmf_ml-100k_e20_tt-0.7_task-20_user-metrics.csv')\n",
    "best_metrics.mean(0)"
   ]
  },
  {
   "cell_type": "markdown",
   "metadata": {},
   "source": [
    "## ML-1m - 0.7 train / 0.3 test - sparse item"
   ]
  },
  {
   "cell_type": "code",
   "execution_count": 3,
   "metadata": {
    "collapsed": true
   },
   "outputs": [],
   "source": [
    "results = [\n",
    "'../metrics/bprmf/2016-05-24_16.39.57_bprmf_ml-1m_e20_tt-0.7_task-16_user-metrics.csv',\n",
    "'../metrics/bprmf/2016-05-24_16.40.02_bprmf_ml-1m_e20_tt-0.7_task-12_user-metrics.csv',\n",
    "'../metrics/bprmf/2016-05-24_16.40.04_bprmf_ml-1m_e20_tt-0.7_task-2_user-metrics.csv',\n",
    "'../metrics/bprmf/2016-05-24_16.40.05_bprmf_ml-1m_e20_tt-0.7_task-11_user-metrics.csv',\n",
    "'../metrics/bprmf/2016-05-24_16.40.08_bprmf_ml-1m_e20_tt-0.7_task-17_user-metrics.csv',\n",
    "'../metrics/bprmf/2016-05-24_16.40.12_bprmf_ml-1m_e20_tt-0.7_task-6_user-metrics.csv',\n",
    "'../metrics/bprmf/2016-05-24_16.40.13_bprmf_ml-1m_e20_tt-0.7_task-4_user-metrics.csv',\n",
    "'../metrics/bprmf/2016-05-24_16.41.28_bprmf_ml-1m_e20_tt-0.7_task-15_user-metrics.csv',\n",
    "'../metrics/bprmf/2016-05-24_16.41.32_bprmf_ml-1m_e20_tt-0.7_task-20_user-metrics.csv',\n",
    "'../metrics/bprmf/2016-05-24_16.46.17_bprmf_ml-1m_e20_tt-0.7_task-23_user-metrics.csv',\n",
    "'../metrics/bprmf/2016-05-24_16.46.17_bprmf_ml-1m_e20_tt-0.7_task-7_user-metrics.csv',\n",
    "'../metrics/bprmf/2016-05-24_16.46.21_bprmf_ml-1m_e20_tt-0.7_task-22_user-metrics.csv',\n",
    "'../metrics/bprmf/2016-05-24_16.46.51_bprmf_ml-1m_e20_tt-0.7_task-3_user-metrics.csv',\n",
    "'../metrics/bprmf/2016-05-24_17.53.16_bprmf_ml-1m_e20_tt-0.7_task-14_user-metrics.csv',\n",
    "'../metrics/bprmf/2016-05-24_17.53.45_bprmf_ml-1m_e20_tt-0.7_task-18_user-metrics.csv',\n",
    "'../metrics/bprmf/2016-05-24_17.53.54_bprmf_ml-1m_e20_tt-0.7_task-5_user-metrics.csv',\n",
    "'../metrics/bprmf/2016-05-24_17.54.17_bprmf_ml-1m_e20_tt-0.7_task-1_user-metrics.csv',\n",
    "'../metrics/bprmf/2016-05-24_17.54.24_bprmf_ml-1m_e20_tt-0.7_task-0_user-metrics.csv',\n",
    "'../metrics/bprmf/2016-05-24_17.55.43_bprmf_ml-1m_e20_tt-0.7_task-21_user-metrics.csv',\n",
    "'../metrics/bprmf/2016-05-24_17.55.43_bprmf_ml-1m_e20_tt-0.7_task-8_user-metrics.csv',\n",
    "'../metrics/bprmf/2016-05-24_17.55.59_bprmf_ml-1m_e20_tt-0.7_task-13_user-metrics.csv',\n",
    "'../metrics/bprmf/2016-05-24_17.56.17_bprmf_ml-1m_e20_tt-0.7_task-9_user-metrics.csv',\n",
    "'../metrics/bprmf/2016-05-24_18.03.48_bprmf_ml-1m_e20_tt-0.7_task-10_user-metrics.csv',\n",
    "'../metrics/bprmf/2016-05-24_18.04.12_bprmf_ml-1m_e20_tt-0.7_task-19_user-metrics.csv',\n",
    "]"
   ]
  },
  {
   "cell_type": "code",
   "execution_count": 4,
   "metadata": {
    "collapsed": false
   },
   "outputs": [
    {
     "data": {
      "text/plain": [
       "[('../metrics/bprmf/2016-05-24_18.04.12_bprmf_ml-1m_e20_tt-0.7_task-19_user-metrics.csv',\n",
       "  0.9185598988671477),\n",
       " ('../metrics/bprmf/2016-05-24_17.55.43_bprmf_ml-1m_e20_tt-0.7_task-21_user-metrics.csv',\n",
       "  0.9181765517463983),\n",
       " ('../metrics/bprmf/2016-05-24_16.46.51_bprmf_ml-1m_e20_tt-0.7_task-3_user-metrics.csv',\n",
       "  0.917478848403729),\n",
       " ('../metrics/bprmf/2016-05-24_16.46.21_bprmf_ml-1m_e20_tt-0.7_task-22_user-metrics.csv',\n",
       "  0.9155582617188124),\n",
       " ('../metrics/bprmf/2016-05-24_17.53.45_bprmf_ml-1m_e20_tt-0.7_task-18_user-metrics.csv',\n",
       "  0.9152232695328201),\n",
       " ('../metrics/bprmf/2016-05-24_16.41.28_bprmf_ml-1m_e20_tt-0.7_task-15_user-metrics.csv',\n",
       "  0.9134224670653648),\n",
       " ('../metrics/bprmf/2016-05-24_16.40.08_bprmf_ml-1m_e20_tt-0.7_task-17_user-metrics.csv',\n",
       "  0.9114835150881262),\n",
       " ('../metrics/bprmf/2016-05-24_18.03.48_bprmf_ml-1m_e20_tt-0.7_task-10_user-metrics.csv',\n",
       "  0.9054271320133004),\n",
       " ('../metrics/bprmf/2016-05-24_17.53.54_bprmf_ml-1m_e20_tt-0.7_task-5_user-metrics.csv',\n",
       "  0.898352607154821),\n",
       " ('../metrics/bprmf/2016-05-24_17.54.24_bprmf_ml-1m_e20_tt-0.7_task-0_user-metrics.csv',\n",
       "  0.8957349879782658),\n",
       " ('../metrics/bprmf/2016-05-24_16.40.05_bprmf_ml-1m_e20_tt-0.7_task-11_user-metrics.csv',\n",
       "  0.8925448270127893),\n",
       " ('../metrics/bprmf/2016-05-24_16.40.02_bprmf_ml-1m_e20_tt-0.7_task-12_user-metrics.csv',\n",
       "  0.8917937985067911),\n",
       " ('../metrics/bprmf/2016-05-24_16.40.13_bprmf_ml-1m_e20_tt-0.7_task-4_user-metrics.csv',\n",
       "  0.8880897821892132),\n",
       " ('../metrics/bprmf/2016-05-24_16.46.17_bprmf_ml-1m_e20_tt-0.7_task-23_user-metrics.csv',\n",
       "  0.8862698413578156),\n",
       " ('../metrics/bprmf/2016-05-24_17.55.43_bprmf_ml-1m_e20_tt-0.7_task-8_user-metrics.csv',\n",
       "  0.8619981158885291),\n",
       " ('../metrics/bprmf/2016-05-24_16.46.17_bprmf_ml-1m_e20_tt-0.7_task-7_user-metrics.csv',\n",
       "  0.8505586954997608),\n",
       " ('../metrics/bprmf/2016-05-24_17.56.17_bprmf_ml-1m_e20_tt-0.7_task-9_user-metrics.csv',\n",
       "  0.850340656602392),\n",
       " ('../metrics/bprmf/2016-05-24_17.55.59_bprmf_ml-1m_e20_tt-0.7_task-13_user-metrics.csv',\n",
       "  0.8453301757131326),\n",
       " ('../metrics/bprmf/2016-05-24_16.41.32_bprmf_ml-1m_e20_tt-0.7_task-20_user-metrics.csv',\n",
       "  0.8446022397360798),\n",
       " ('../metrics/bprmf/2016-05-24_17.53.16_bprmf_ml-1m_e20_tt-0.7_task-14_user-metrics.csv',\n",
       "  0.8417988044844545),\n",
       " ('../metrics/bprmf/2016-05-24_17.54.17_bprmf_ml-1m_e20_tt-0.7_task-1_user-metrics.csv',\n",
       "  0.8406965375933358),\n",
       " ('../metrics/bprmf/2016-05-24_16.40.12_bprmf_ml-1m_e20_tt-0.7_task-6_user-metrics.csv',\n",
       "  0.8396979446129862),\n",
       " ('../metrics/bprmf/2016-05-24_16.39.57_bprmf_ml-1m_e20_tt-0.7_task-16_user-metrics.csv',\n",
       "  0.8383087600077396),\n",
       " ('../metrics/bprmf/2016-05-24_16.40.04_bprmf_ml-1m_e20_tt-0.7_task-2_user-metrics.csv',\n",
       "  0.8377732656225408)]"
      ]
     },
     "execution_count": 4,
     "metadata": {},
     "output_type": "execute_result"
    }
   ],
   "source": [
    "result_map = map(lambda p: (p, pd.read_csv(p)['auc'].mean()), results)\n",
    "sorted(result_map, key=lambda t:t[1], reverse=True)"
   ]
  },
  {
   "cell_type": "code",
   "execution_count": 5,
   "metadata": {
    "collapsed": false
   },
   "outputs": [
    {
     "name": "stdout",
     "output_type": "stream",
     "text": [
      "{   u'ada_eps': 1e-06,\n",
      "    u'adagrad': True,\n",
      "    u'binarize': True,\n",
      "    u'binarize_neg': 0,\n",
      "    u'binarize_pos': 1,\n",
      "    u'binarize_threshold': 1,\n",
      "    u'eval_in_parallel': False,\n",
      "    u'experiment_name': u'bprmf_ml-1m_e20_tt-0.7_task-19',\n",
      "    u'hit_threshold': 4,\n",
      "    u'init_params_scale': 0.001,\n",
      "    u'lr': 0.03,\n",
      "    u'lr_decay': 0.02,\n",
      "    u'metrics_save_dir': u'metrics/bprmf',\n",
      "    u'model_save_dir': u'models/bprmf',\n",
      "    u'nb_epochs': 20,\n",
      "    u'nb_latent_f': 128,\n",
      "    u'precision_recall_at_n': 20,\n",
      "    u'ratings_path': u'data/splits/ml-1m/ratings.csv',\n",
      "    u'reg_lambda': 0.001,\n",
      "    u'run_eval': True,\n",
      "    u'run_movie_metrics': False,\n",
      "    u'sparse_item': True,\n",
      "    u'test': True,\n",
      "    u'test_path': u'data/splits/ml-1m/sparse-item/0.7-test.csv',\n",
      "    u'top_n_predictions': 100,\n",
      "    u'train_path': u'data/splits/ml-1m/sparse-item/0.7-train.csv',\n",
      "    u'train_test_split': 0.7,\n",
      "    u'triplet_sample_factor': 5,\n",
      "    u'val': False,\n",
      "    u'verbose': 0}\n"
     ]
    }
   ],
   "source": [
    "with open('../models/bprmf/2016-05-24_18.04.12_bprmf_ml-1m_e20_tt-0.7_task-19_config.json') as f:\n",
    "    pp.pprint(json.loads(f.read()))"
   ]
  },
  {
   "cell_type": "code",
   "execution_count": 6,
   "metadata": {
    "collapsed": true
   },
   "outputs": [],
   "source": [
    "best_metrics = pd.read_csv('../metrics/bprmf/2016-05-24_18.04.12_bprmf_ml-1m_e20_tt-0.7_task-19_user-metrics.csv')"
   ]
  },
  {
   "cell_type": "code",
   "execution_count": 8,
   "metadata": {
    "collapsed": false
   },
   "outputs": [
    {
     "data": {
      "text/plain": [
       "auc                          0.918560\n",
       "avg_precision                0.179407\n",
       "f1                           0.168981\n",
       "fcp                          0.720853\n",
       "nb_movies_not_in_train    2891.633444\n",
       "nb_test_movies              48.558278\n",
       "nb_train_movies            113.366556\n",
       "precision_at_20              0.213907\n",
       "recall_at_20                 0.202200\n",
       "reciprocal_rank              0.443407\n",
       "spearman_rank_corr           0.202925\n",
       "user_id                   3020.500000\n",
       "dtype: float64"
      ]
     },
     "execution_count": 8,
     "metadata": {},
     "output_type": "execute_result"
    }
   ],
   "source": [
    "best_metrics.mean(0)"
   ]
  },
  {
   "cell_type": "code",
   "execution_count": null,
   "metadata": {
    "collapsed": true
   },
   "outputs": [],
   "source": []
  }
 ],
 "metadata": {
  "kernelspec": {
   "display_name": "Python 2",
   "language": "python",
   "name": "python2"
  },
  "language_info": {
   "codemirror_mode": {
    "name": "ipython",
    "version": 2
   },
   "file_extension": ".py",
   "mimetype": "text/x-python",
   "name": "python",
   "nbconvert_exporter": "python",
   "pygments_lexer": "ipython2",
   "version": "2.7.11"
  }
 },
 "nbformat": 4,
 "nbformat_minor": 0
}
