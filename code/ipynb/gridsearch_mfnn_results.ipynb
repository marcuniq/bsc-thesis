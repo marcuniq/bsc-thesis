{
 "cells": [
  {
   "cell_type": "code",
   "execution_count": 1,
   "metadata": {
    "collapsed": true
   },
   "outputs": [],
   "source": [
    "import numpy as np\n",
    "import pandas as pd\n",
    "import json\n",
    "import pprint\n",
    "import json\n",
    "pp = pprint.PrettyPrinter(indent=4)"
   ]
  },
  {
   "cell_type": "markdown",
   "metadata": {},
   "source": [
    "## ML-100k - 0.7 train / 0.3 test - sparse item"
   ]
  },
  {
   "cell_type": "code",
   "execution_count": null,
   "metadata": {
    "collapsed": true
   },
   "outputs": [],
   "source": []
  },
  {
   "cell_type": "markdown",
   "metadata": {},
   "source": [
    "## ML-1M - 0.7 train / 0.3 test - sparse item"
   ]
  },
  {
   "cell_type": "code",
   "execution_count": null,
   "metadata": {
    "collapsed": true
   },
   "outputs": [],
   "source": []
  },
  {
   "cell_type": "markdown",
   "metadata": {},
   "source": [
    "## ML-1m - 20e - 0.2 train/0.8 test"
   ]
  },
  {
   "cell_type": "code",
   "execution_count": 2,
   "metadata": {
    "collapsed": true
   },
   "outputs": [],
   "source": [
    "results = [\n",
    "'../metrics/mfnn/2016-05-13_13.07.07_mfnn_ml-1m_e20_tt-0.2_task-19_user-metrics.csv',\n",
    "'../metrics/mfnn/2016-05-13_13.07.24_mfnn_ml-1m_e20_tt-0.2_task-18_user-metrics.csv',\n",
    "'../metrics/mfnn/2016-05-13_13.08.14_mfnn_ml-1m_e20_tt-0.2_task-3_user-metrics.csv',\n",
    "'../metrics/mfnn/2016-05-13_13.08.42_mfnn_ml-1m_e20_tt-0.2_task-11_user-metrics.csv',\n",
    "'../metrics/mfnn/2016-05-13_13.08.49_mfnn_ml-1m_e20_tt-0.2_task-5_user-metrics.csv',\n",
    "'../metrics/mfnn/2016-05-13_13.08.59_mfnn_ml-1m_e20_tt-0.2_task-1_user-metrics.csv',\n",
    "'../metrics/mfnn/2016-05-13_13.13.32_mfnn_ml-1m_e20_tt-0.2_task-0_user-metrics.csv',\n",
    "'../metrics/mfnn/2016-05-13_14.02.05_mfnn_ml-1m_e20_tt-0.2_task-7_user-metrics.csv',\n",
    "'../metrics/mfnn/2016-05-13_14.19.45_mfnn_ml-1m_e20_tt-0.2_task-13_user-metrics.csv',\n",
    "'../metrics/mfnn/2016-05-13_14.22.53_mfnn_ml-1m_e20_tt-0.2_task-12_user-metrics.csv',\n",
    "'../metrics/mfnn/2016-05-13_14.54.52_mfnn_ml-1m_e20_tt-0.2_task-17_user-metrics.csv',\n",
    "'../metrics/mfnn/2016-05-13_16.17.19_mfnn_ml-1m_e20_tt-0.2_task-6_user-metrics.csv',\n",
    "'../metrics/mfnn/2016-05-13_16.30.09_mfnn_ml-1m_e20_tt-0.2_task-20_user-metrics.csv',\n",
    "'../metrics/mfnn/2016-05-13_16.36.33_mfnn_ml-1m_e20_tt-0.2_task-14_user-metrics.csv',\n",
    "'../metrics/mfnn/2016-05-13_17.12.47_mfnn_ml-1m_e20_tt-0.2_task-21_user-metrics.csv',\n",
    "'../metrics/mfnn/2016-05-13_17.53.02_mfnn_ml-1m_e20_tt-0.2_task-8_user-metrics.csv',\n",
    "'../metrics/mfnn/2016-05-13_18.35.07_mfnn_ml-1m_e20_tt-0.2_task-23_user-metrics.csv',\n",
    "'../metrics/mfnn/2016-05-13_19.30.42_mfnn_ml-1m_e20_tt-0.2_task-10_user-metrics.csv',\n",
    "'../metrics/mfnn/2016-05-13_20.08.12_mfnn_ml-1m_e20_tt-0.2_task-22_user-metrics.csv',\n",
    "'../metrics/mfnn/2016-05-13_20.10.52_mfnn_ml-1m_e20_tt-0.2_task-15_user-metrics.csv',\n",
    "'../metrics/mfnn/2016-05-13_22.18.50_mfnn_ml-1m_e20_tt-0.2_task-2_user-metrics.csv',\n",
    "]"
   ]
  },
  {
   "cell_type": "code",
   "execution_count": 3,
   "metadata": {
    "collapsed": false
   },
   "outputs": [
    {
     "data": {
      "text/plain": [
       "[('../metrics/mfnn/2016-05-13_16.17.19_mfnn_ml-1m_e20_tt-0.2_task-6_user-metrics.csv',\n",
       "  0.8978495667178319),\n",
       " ('../metrics/mfnn/2016-05-13_19.30.42_mfnn_ml-1m_e20_tt-0.2_task-10_user-metrics.csv',\n",
       "  0.8911205847799619),\n",
       " ('../metrics/mfnn/2016-05-13_13.08.49_mfnn_ml-1m_e20_tt-0.2_task-5_user-metrics.csv',\n",
       "  0.8889464453164606),\n",
       " ('../metrics/mfnn/2016-05-13_13.08.42_mfnn_ml-1m_e20_tt-0.2_task-11_user-metrics.csv',\n",
       "  0.8830935640725851),\n",
       " ('../metrics/mfnn/2016-05-13_13.13.32_mfnn_ml-1m_e20_tt-0.2_task-0_user-metrics.csv',\n",
       "  0.8804266743776397),\n",
       " ('../metrics/mfnn/2016-05-13_22.18.50_mfnn_ml-1m_e20_tt-0.2_task-2_user-metrics.csv',\n",
       "  0.8781281670501629),\n",
       " ('../metrics/mfnn/2016-05-13_20.10.52_mfnn_ml-1m_e20_tt-0.2_task-15_user-metrics.csv',\n",
       "  0.8779493811055779),\n",
       " ('../metrics/mfnn/2016-05-13_14.19.45_mfnn_ml-1m_e20_tt-0.2_task-13_user-metrics.csv',\n",
       "  0.8776865504778436),\n",
       " ('../metrics/mfnn/2016-05-13_17.53.02_mfnn_ml-1m_e20_tt-0.2_task-8_user-metrics.csv',\n",
       "  0.8774628776136015),\n",
       " ('../metrics/mfnn/2016-05-13_17.12.47_mfnn_ml-1m_e20_tt-0.2_task-21_user-metrics.csv',\n",
       "  0.8739243487026379),\n",
       " ('../metrics/mfnn/2016-05-13_13.07.07_mfnn_ml-1m_e20_tt-0.2_task-19_user-metrics.csv',\n",
       "  0.8708845685845379),\n",
       " ('../metrics/mfnn/2016-05-13_14.54.52_mfnn_ml-1m_e20_tt-0.2_task-17_user-metrics.csv',\n",
       "  0.8699817819576415),\n",
       " ('../metrics/mfnn/2016-05-13_14.02.05_mfnn_ml-1m_e20_tt-0.2_task-7_user-metrics.csv',\n",
       "  0.8637618788952005),\n",
       " ('../metrics/mfnn/2016-05-13_13.07.24_mfnn_ml-1m_e20_tt-0.2_task-18_user-metrics.csv',\n",
       "  0.863508263453236),\n",
       " ('../metrics/mfnn/2016-05-13_16.36.33_mfnn_ml-1m_e20_tt-0.2_task-14_user-metrics.csv',\n",
       "  0.8599313457127833),\n",
       " ('../metrics/mfnn/2016-05-13_13.08.59_mfnn_ml-1m_e20_tt-0.2_task-1_user-metrics.csv',\n",
       "  0.8521489935261434),\n",
       " ('../metrics/mfnn/2016-05-13_13.08.14_mfnn_ml-1m_e20_tt-0.2_task-3_user-metrics.csv',\n",
       "  0.8494872991004659),\n",
       " ('../metrics/mfnn/2016-05-13_14.22.53_mfnn_ml-1m_e20_tt-0.2_task-12_user-metrics.csv',\n",
       "  0.8395417938377673),\n",
       " ('../metrics/mfnn/2016-05-13_18.35.07_mfnn_ml-1m_e20_tt-0.2_task-23_user-metrics.csv',\n",
       "  0.8387758414565847),\n",
       " ('../metrics/mfnn/2016-05-13_20.08.12_mfnn_ml-1m_e20_tt-0.2_task-22_user-metrics.csv',\n",
       "  0.8383047566865193),\n",
       " ('../metrics/mfnn/2016-05-13_16.30.09_mfnn_ml-1m_e20_tt-0.2_task-20_user-metrics.csv',\n",
       "  0.8352377236413501)]"
      ]
     },
     "execution_count": 3,
     "metadata": {},
     "output_type": "execute_result"
    }
   ],
   "source": [
    "result_map = map(lambda p: (p, pd.read_csv(p)['auc'].mean()), results)\n",
    "sorted(result_map, key=lambda t:t[1], reverse=True)"
   ]
  },
  {
   "cell_type": "code",
   "execution_count": 4,
   "metadata": {
    "collapsed": false
   },
   "outputs": [
    {
     "name": "stdout",
     "output_type": "stream",
     "text": [
      "{   u'ada_eps': 1e-06,\n",
      "    u'adagrad': True,\n",
      "    u'binarize': True,\n",
      "    u'binarize_neg': 0,\n",
      "    u'binarize_pos': 1,\n",
      "    u'binarize_threshold': 1,\n",
      "    u'd2v_model': u'doc2vec-models/2016-04-14_17.36.08_20e_pv-dbow_size50_lr0.025_window8_neg5',\n",
      "    u'eval_in_parallel': False,\n",
      "    u'experiment_name': u'mfnn_ml-1m_e20_tt-0.2_task-6',\n",
      "    u'hit_threshold': 4,\n",
      "    u'lr': 0.01,\n",
      "    u'lr_decay': 0.02,\n",
      "    u'metrics_save_dir': u'metrics/mfnn',\n",
      "    u'model_save_dir': u'models/mfnn',\n",
      "    u'nb_d2v_features': 50,\n",
      "    u'nb_epochs': 20,\n",
      "    u'nb_latent_f': 96,\n",
      "    u'precision_recall_at_n': 20,\n",
      "    u'ratings_path': u'data/splits/ml-1m/ratings.csv',\n",
      "    u'reg_lambda': 0.01,\n",
      "    u'run_eval': True,\n",
      "    u'run_movie_metrics': False,\n",
      "    u'sparse_item': True,\n",
      "    u'test': True,\n",
      "    u'test_path': u'data/splits/ml-1m/sparse-item/0.2-test.csv',\n",
      "    u'top_n_predictions': 100,\n",
      "    u'train_path': u'data/splits/ml-1m/sparse-item/0.2-train.csv',\n",
      "    u'train_test_split': 0.2,\n",
      "    u'use_avg_rating': False,\n",
      "    u'user_pref_hidden_dim': [100, 1],\n",
      "    u'user_pref_lambda_grad': 0.0003,\n",
      "    u'user_pref_lr': 0.003,\n",
      "    u'user_pref_lr_decay': 0.02,\n",
      "    u'user_pref_movie_d2v': True,\n",
      "    u'user_pref_reg_lambda': 0.001,\n",
      "    u'val': False,\n",
      "    u'verbose': 0,\n",
      "    u'zero_sample_factor': 3,\n",
      "    u'zero_samples_total': 586833}\n"
     ]
    }
   ],
   "source": [
    "with open('../models/mfnn/2016-05-13_16.17.19_mfnn_ml-1m_e20_tt-0.2_task-6_config.json') as f:\n",
    "    pp.pprint(json.loads(f.read()))"
   ]
  },
  {
   "cell_type": "code",
   "execution_count": 5,
   "metadata": {
    "collapsed": false
   },
   "outputs": [
    {
     "name": "stdout",
     "output_type": "stream",
     "text": [
      "{   u'ada_eps': 1e-06,\n",
      "    u'adagrad': True,\n",
      "    u'binarize': True,\n",
      "    u'binarize_neg': 0,\n",
      "    u'binarize_pos': 1,\n",
      "    u'binarize_threshold': 1,\n",
      "    u'd2v_model': u'doc2vec-models/2016-04-14_17.36.08_20e_pv-dbow_size50_lr0.025_window8_neg5',\n",
      "    u'eval_in_parallel': False,\n",
      "    u'experiment_name': u'mfnn_ml-1m_e20_tt-0.2_task-10',\n",
      "    u'hit_threshold': 4,\n",
      "    u'lr': 0.03,\n",
      "    u'lr_decay': 0.02,\n",
      "    u'metrics_save_dir': u'metrics/mfnn',\n",
      "    u'model_save_dir': u'models/mfnn',\n",
      "    u'nb_d2v_features': 50,\n",
      "    u'nb_epochs': 20,\n",
      "    u'nb_latent_f': 128,\n",
      "    u'precision_recall_at_n': 20,\n",
      "    u'ratings_path': u'data/splits/ml-1m/ratings.csv',\n",
      "    u'reg_lambda': 0.01,\n",
      "    u'run_eval': True,\n",
      "    u'run_movie_metrics': False,\n",
      "    u'sparse_item': True,\n",
      "    u'test': True,\n",
      "    u'test_path': u'data/splits/ml-1m/sparse-item/0.2-test.csv',\n",
      "    u'top_n_predictions': 100,\n",
      "    u'train_path': u'data/splits/ml-1m/sparse-item/0.2-train.csv',\n",
      "    u'train_test_split': 0.2,\n",
      "    u'use_avg_rating': True,\n",
      "    u'user_pref_hidden_dim': [10, 1],\n",
      "    u'user_pref_lambda_grad': 0.003,\n",
      "    u'user_pref_lr': 0.003,\n",
      "    u'user_pref_lr_decay': 0.0005,\n",
      "    u'user_pref_movie_d2v': True,\n",
      "    u'user_pref_reg_lambda': 0.001,\n",
      "    u'val': False,\n",
      "    u'verbose': 0,\n",
      "    u'zero_sample_factor': 5,\n",
      "    u'zero_samples_total': 978055}\n"
     ]
    }
   ],
   "source": [
    "with open('../models/mfnn/2016-05-13_19.30.42_mfnn_ml-1m_e20_tt-0.2_task-10_config.json') as f:\n",
    "    pp.pprint(json.loads(f.read()))"
   ]
  },
  {
   "cell_type": "code",
   "execution_count": 6,
   "metadata": {
    "collapsed": false
   },
   "outputs": [
    {
     "name": "stdout",
     "output_type": "stream",
     "text": [
      "{   u'ada_eps': 1e-06,\n",
      "    u'adagrad': True,\n",
      "    u'binarize': True,\n",
      "    u'binarize_neg': 0,\n",
      "    u'binarize_pos': 1,\n",
      "    u'binarize_threshold': 1,\n",
      "    u'd2v_model': u'doc2vec-models/2016-04-14_17.36.08_20e_pv-dbow_size50_lr0.025_window8_neg5',\n",
      "    u'eval_in_parallel': False,\n",
      "    u'experiment_name': u'mfnn_ml-1m_e20_tt-0.2_task-5',\n",
      "    u'hit_threshold': 4,\n",
      "    u'lr': 0.01,\n",
      "    u'lr_decay': 0.02,\n",
      "    u'metrics_save_dir': u'metrics/mfnn',\n",
      "    u'model_save_dir': u'models/mfnn',\n",
      "    u'nb_d2v_features': 50,\n",
      "    u'nb_epochs': 20,\n",
      "    u'nb_latent_f': 64,\n",
      "    u'precision_recall_at_n': 20,\n",
      "    u'ratings_path': u'data/splits/ml-1m/ratings.csv',\n",
      "    u'reg_lambda': 0.003,\n",
      "    u'run_eval': True,\n",
      "    u'run_movie_metrics': False,\n",
      "    u'sparse_item': True,\n",
      "    u'test': True,\n",
      "    u'test_path': u'data/splits/ml-1m/sparse-item/0.2-test.csv',\n",
      "    u'top_n_predictions': 100,\n",
      "    u'train_path': u'data/splits/ml-1m/sparse-item/0.2-train.csv',\n",
      "    u'train_test_split': 0.2,\n",
      "    u'use_avg_rating': False,\n",
      "    u'user_pref_hidden_dim': [10, 1],\n",
      "    u'user_pref_lambda_grad': 0.003,\n",
      "    u'user_pref_lr': 0.01,\n",
      "    u'user_pref_lr_decay': 0.0005,\n",
      "    u'user_pref_movie_d2v': True,\n",
      "    u'user_pref_reg_lambda': 0.001,\n",
      "    u'val': False,\n",
      "    u'verbose': 0,\n",
      "    u'zero_sample_factor': 3,\n",
      "    u'zero_samples_total': 586833}\n"
     ]
    }
   ],
   "source": [
    "with open('../models/mfnn/2016-05-13_13.08.49_mfnn_ml-1m_e20_tt-0.2_task-5_config.json') as f:\n",
    "    pp.pprint(json.loads(f.read()))"
   ]
  },
  {
   "cell_type": "code",
   "execution_count": null,
   "metadata": {
    "collapsed": true
   },
   "outputs": [],
   "source": []
  }
 ],
 "metadata": {
  "kernelspec": {
   "display_name": "Python 2",
   "language": "python",
   "name": "python2"
  },
  "language_info": {
   "codemirror_mode": {
    "name": "ipython",
    "version": 2
   },
   "file_extension": ".py",
   "mimetype": "text/x-python",
   "name": "python",
   "nbconvert_exporter": "python",
   "pygments_lexer": "ipython2",
   "version": "2.7.11"
  }
 },
 "nbformat": 4,
 "nbformat_minor": 0
}
