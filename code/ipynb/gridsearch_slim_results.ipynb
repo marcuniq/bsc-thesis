{
 "cells": [
  {
   "cell_type": "code",
   "execution_count": 2,
   "metadata": {
    "collapsed": true
   },
   "outputs": [],
   "source": [
    "import pandas as pd\n",
    "import numpy as np\n",
    "import pprint\n",
    "import json\n",
    "pp = pprint.PrettyPrinter(indent=4)"
   ]
  },
  {
   "cell_type": "markdown",
   "metadata": {},
   "source": [
    "## ML-100k - 0.7 train / 0.3 test - sparse item"
   ]
  },
  {
   "cell_type": "code",
   "execution_count": 7,
   "metadata": {
    "collapsed": true
   },
   "outputs": [],
   "source": [
    "results = [\n",
    "'../metrics/slim/2016-05-27_16.20.21_slim_ml-100k_e3_tt-0.7_task-21_user-metrics.csv',\n",
    "'../metrics/slim/2016-05-27_16.20.22_slim_ml-100k_e3_tt-0.7_task-23_user-metrics.csv',\n",
    "'../metrics/slim/2016-05-27_16.20.23_slim_ml-100k_e3_tt-0.7_task-14_user-metrics.csv',\n",
    "'../metrics/slim/2016-05-27_16.20.23_slim_ml-100k_e3_tt-0.7_task-22_user-metrics.csv',\n",
    "'../metrics/slim/2016-05-27_16.20.25_slim_ml-100k_e5_tt-0.7_task-1_user-metrics.csv',\n",
    "'../metrics/slim/2016-05-27_16.20.27_slim_ml-100k_e5_tt-0.7_task-13_user-metrics.csv',\n",
    "'../metrics/slim/2016-05-27_16.20.27_slim_ml-100k_e5_tt-0.7_task-4_user-metrics.csv',\n",
    "'../metrics/slim/2016-05-27_16.20.27_slim_ml-100k_e5_tt-0.7_task-5_user-metrics.csv',\n",
    "'../metrics/slim/2016-05-27_16.20.28_slim_ml-100k_e5_tt-0.7_task-15_user-metrics.csv',\n",
    "'../metrics/slim/2016-05-27_16.20.28_slim_ml-100k_e8_tt-0.7_task-3_user-metrics.csv',\n",
    "'../metrics/slim/2016-05-27_16.20.31_slim_ml-100k_e10_tt-0.7_task-19_user-metrics.csv',\n",
    "'../metrics/slim/2016-05-27_16.20.33_slim_ml-100k_e8_tt-0.7_task-18_user-metrics.csv',\n",
    "'../metrics/slim/2016-05-27_16.20.34_slim_ml-100k_e8_tt-0.7_task-12_user-metrics.csv',\n",
    "'../metrics/slim/2016-05-27_16.20.35_slim_ml-100k_e10_tt-0.7_task-2_user-metrics.csv',\n",
    "'../metrics/slim/2016-05-27_16.20.38_slim_ml-100k_e10_tt-0.7_task-0_user-metrics.csv',\n",
    "'../metrics/slim/2016-05-27_16.20.38_slim_ml-100k_e10_tt-0.7_task-10_user-metrics.csv',\n",
    "'../metrics/slim/2016-05-27_16.20.38_slim_ml-100k_e10_tt-0.7_task-16_user-metrics.csv',\n",
    "'../metrics/slim/2016-05-27_16.20.38_slim_ml-100k_e10_tt-0.7_task-8_user-metrics.csv',\n",
    "'../metrics/slim/2016-05-27_16.20.38_slim_ml-100k_e10_tt-0.7_task-9_user-metrics.csv',\n",
    "'../metrics/slim/2016-05-27_16.20.39_slim_ml-100k_e10_tt-0.7_task-11_user-metrics.csv',\n",
    "'../metrics/slim/2016-05-27_16.20.39_slim_ml-100k_e10_tt-0.7_task-17_user-metrics.csv',\n",
    "'../metrics/slim/2016-05-27_16.20.39_slim_ml-100k_e10_tt-0.7_task-20_user-metrics.csv',\n",
    "'../metrics/slim/2016-05-27_16.20.39_slim_ml-100k_e10_tt-0.7_task-6_user-metrics.csv',\n",
    "'../metrics/slim/2016-05-27_16.20.39_slim_ml-100k_e10_tt-0.7_task-7_user-metrics.csv',\n",
    "]"
   ]
  },
  {
   "cell_type": "code",
   "execution_count": 8,
   "metadata": {
    "collapsed": false
   },
   "outputs": [
    {
     "data": {
      "text/plain": [
       "[('../metrics/slim/2016-05-27_16.20.28_slim_ml-100k_e8_tt-0.7_task-3_user-metrics.csv',\n",
       "  0.9125648081442956),\n",
       " ('../metrics/slim/2016-05-27_16.20.21_slim_ml-100k_e3_tt-0.7_task-21_user-metrics.csv',\n",
       "  0.9114432616898278),\n",
       " ('../metrics/slim/2016-05-27_16.20.22_slim_ml-100k_e3_tt-0.7_task-23_user-metrics.csv',\n",
       "  0.908170405346226),\n",
       " ('../metrics/slim/2016-05-27_16.20.33_slim_ml-100k_e8_tt-0.7_task-18_user-metrics.csv',\n",
       "  0.9035779134523092),\n",
       " ('../metrics/slim/2016-05-27_16.20.31_slim_ml-100k_e10_tt-0.7_task-19_user-metrics.csv',\n",
       "  0.9034612692035014),\n",
       " ('../metrics/slim/2016-05-27_16.20.38_slim_ml-100k_e10_tt-0.7_task-8_user-metrics.csv',\n",
       "  0.9024548867010314),\n",
       " ('../metrics/slim/2016-05-27_16.20.38_slim_ml-100k_e10_tt-0.7_task-0_user-metrics.csv',\n",
       "  0.901311241029896),\n",
       " ('../metrics/slim/2016-05-27_16.20.38_slim_ml-100k_e10_tt-0.7_task-16_user-metrics.csv',\n",
       "  0.9012626982178525),\n",
       " ('../metrics/slim/2016-05-27_16.20.25_slim_ml-100k_e5_tt-0.7_task-1_user-metrics.csv',\n",
       "  0.8942595734135432),\n",
       " ('../metrics/slim/2016-05-27_16.20.35_slim_ml-100k_e10_tt-0.7_task-2_user-metrics.csv',\n",
       "  0.8778623586429651),\n",
       " ('../metrics/slim/2016-05-27_16.20.39_slim_ml-100k_e10_tt-0.7_task-20_user-metrics.csv',\n",
       "  0.8510689914920342),\n",
       " ('../metrics/slim/2016-05-27_16.20.27_slim_ml-100k_e5_tt-0.7_task-13_user-metrics.csv',\n",
       "  0.6998132280582102),\n",
       " ('../metrics/slim/2016-05-27_16.20.38_slim_ml-100k_e10_tt-0.7_task-9_user-metrics.csv',\n",
       "  0.6962595548890569),\n",
       " ('../metrics/slim/2016-05-27_16.20.27_slim_ml-100k_e5_tt-0.7_task-5_user-metrics.csv',\n",
       "  0.5087595532619884),\n",
       " ('../metrics/slim/2016-05-27_16.20.27_slim_ml-100k_e5_tt-0.7_task-4_user-metrics.csv',\n",
       "  0.5084449549159976),\n",
       " ('../metrics/slim/2016-05-27_16.20.23_slim_ml-100k_e3_tt-0.7_task-14_user-metrics.csv',\n",
       "  0.5084168793159525),\n",
       " ('../metrics/slim/2016-05-27_16.20.23_slim_ml-100k_e3_tt-0.7_task-22_user-metrics.csv',\n",
       "  0.5084066051988797),\n",
       " ('../metrics/slim/2016-05-27_16.20.28_slim_ml-100k_e5_tt-0.7_task-15_user-metrics.csv',\n",
       "  0.5083625109881424),\n",
       " ('../metrics/slim/2016-05-27_16.20.38_slim_ml-100k_e10_tt-0.7_task-10_user-metrics.csv',\n",
       "  0.4968982464731711),\n",
       " ('../metrics/slim/2016-05-27_16.20.34_slim_ml-100k_e8_tt-0.7_task-12_user-metrics.csv',\n",
       "  0.49627453682410516),\n",
       " ('../metrics/slim/2016-05-27_16.20.39_slim_ml-100k_e10_tt-0.7_task-11_user-metrics.csv',\n",
       "  0.49601254317181664),\n",
       " ('../metrics/slim/2016-05-27_16.20.39_slim_ml-100k_e10_tt-0.7_task-6_user-metrics.csv',\n",
       "  0.4959950702520443),\n",
       " ('../metrics/slim/2016-05-27_16.20.39_slim_ml-100k_e10_tt-0.7_task-17_user-metrics.csv',\n",
       "  0.49596800371097965),\n",
       " ('../metrics/slim/2016-05-27_16.20.39_slim_ml-100k_e10_tt-0.7_task-7_user-metrics.csv',\n",
       "  0.4959195281102368)]"
      ]
     },
     "execution_count": 8,
     "metadata": {},
     "output_type": "execute_result"
    }
   ],
   "source": [
    "result_map = map(lambda p: (p, pd.read_csv(p)['auc'].mean()), results)\n",
    "sorted(result_map, key=lambda t:t[1], reverse=True)"
   ]
  },
  {
   "cell_type": "code",
   "execution_count": 8,
   "metadata": {
    "collapsed": false
   },
   "outputs": [
    {
     "name": "stdout",
     "output_type": "stream",
     "text": [
      "{   u'alpha': 0.0103,\n",
      "    u'binarize': False,\n",
      "    u'eval_in_parallel': False,\n",
      "    u'experiment_name': u'slim_ml-100k_e5_tt-0.7_task-13',\n",
      "    u'fit_intercept': True,\n",
      "    u'hit_threshold': 4,\n",
      "    u'ignore_negative_weights': True,\n",
      "    u'l1_ratio': 0.970873786407767,\n",
      "    u'l1_reg': 0.01,\n",
      "    u'l2_reg': 0.0003,\n",
      "    u'metrics_save_dir': u'metrics/slim',\n",
      "    u'model_save_dir': u'models/slim',\n",
      "    u'nb_epochs': 5,\n",
      "    u'precision_recall_at_n': 20,\n",
      "    u'ratings_path': u'data/splits/ml-100k/ratings.csv',\n",
      "    u'run_eval': True,\n",
      "    u'run_movie_metrics': False,\n",
      "    u'sparse_item': True,\n",
      "    u'test': True,\n",
      "    u'test_path': u'data/splits/ml-100k/sparse-item/0.7-test.csv',\n",
      "    u'top_n_predictions': 100,\n",
      "    u'train_path': u'data/splits/ml-100k/sparse-item/0.7-train.csv',\n",
      "    u'train_test_split': 0.7,\n",
      "    u'val': False,\n",
      "    u'verbose': 0}\n"
     ]
    }
   ],
   "source": [
    "# best config\n",
    "with open('../models/slim/2016-05-27_16.20.27_slim_ml-100k_e5_tt-0.7_task-13_config.json') as f:\n",
    "    pp.pprint(json.loads(f.read()))"
   ]
  },
  {
   "cell_type": "code",
   "execution_count": 9,
   "metadata": {
    "collapsed": false
   },
   "outputs": [
    {
     "data": {
      "text/plain": [
       "auc                          0.912565\n",
       "avg_precision                0.261343\n",
       "f1                           0.238325\n",
       "fcp                          0.715067\n",
       "nb_movies_not_in_train    1193.269353\n",
       "nb_test_movies              28.958643\n",
       "nb_train_movies             67.730647\n",
       "precision_at_20              0.233298\n",
       "recall_at_20                 0.375119\n",
       "reciprocal_rank              0.585977\n",
       "spearman_rank_corr           0.190528\n",
       "user_id                    472.000000\n",
       "dtype: float64"
      ]
     },
     "execution_count": 9,
     "metadata": {},
     "output_type": "execute_result"
    }
   ],
   "source": [
    "best_metrics = pd.read_csv('../metrics/slim/2016-05-27_16.20.28_slim_ml-100k_e8_tt-0.7_task-3_user-metrics.csv')\n",
    "best_metrics.mean(0)"
   ]
  },
  {
   "cell_type": "markdown",
   "metadata": {},
   "source": [
    "## ML-1M - 0.7 train / 0.3 test - sparse item"
   ]
  },
  {
   "cell_type": "code",
   "execution_count": 1,
   "metadata": {
    "collapsed": true
   },
   "outputs": [],
   "source": [
    "results = [\n",
    "'../metrics/slim/2016-05-27_15.59.12_slim_ml-1m_e3_tt-0.7_task-2_user-metrics.csv',\n",
    "'../metrics/slim/2016-05-27_15.59.14_slim_ml-1m_e3_tt-0.7_task-21_user-metrics.csv',\n",
    "'../metrics/slim/2016-05-27_15.59.15_slim_ml-1m_e3_tt-0.7_task-17_user-metrics.csv',\n",
    "'../metrics/slim/2016-05-27_15.59.20_slim_ml-1m_e3_tt-0.7_task-6_user-metrics.csv',\n",
    "'../metrics/slim/2016-05-27_15.59.30_slim_ml-1m_e3_tt-0.7_task-15_user-metrics.csv',\n",
    "'../metrics/slim/2016-05-27_15.59.35_slim_ml-1m_e3_tt-0.7_task-14_user-metrics.csv',\n",
    "'../metrics/slim/2016-05-27_15.59.37_slim_ml-1m_e3_tt-0.7_task-3_user-metrics.csv',\n",
    "'../metrics/slim/2016-05-27_15.59.42_slim_ml-1m_e3_tt-0.7_task-22_user-metrics.csv',\n",
    "'../metrics/slim/2016-05-27_15.59.44_slim_ml-1m_e3_tt-0.7_task-5_user-metrics.csv',\n",
    "'../metrics/slim/2016-05-27_16.01.08_slim_ml-1m_e5_tt-0.7_task-23_user-metrics.csv',\n",
    "'../metrics/slim/2016-05-27_16.01.24_slim_ml-1m_e5_tt-0.7_task-0_user-metrics.csv',\n",
    "'../metrics/slim/2016-05-27_16.01.40_slim_ml-1m_e5_tt-0.7_task-12_user-metrics.csv',\n",
    "'../metrics/slim/2016-05-27_16.01.41_slim_ml-1m_e5_tt-0.7_task-13_user-metrics.csv',\n",
    "'../metrics/slim/2016-05-27_16.01.44_slim_ml-1m_e5_tt-0.7_task-1_user-metrics.csv',\n",
    "'../metrics/slim/2016-05-27_16.02.06_slim_ml-1m_e5_tt-0.7_task-9_user-metrics.csv',\n",
    "'../metrics/slim/2016-05-27_16.03.00_slim_ml-1m_e8_tt-0.7_task-18_user-metrics.csv',\n",
    "'../metrics/slim/2016-05-27_16.04.23_slim_ml-1m_e8_tt-0.7_task-7_user-metrics.csv',\n",
    "'../metrics/slim/2016-05-27_16.04.35_slim_ml-1m_e10_tt-0.7_task-4_user-metrics.csv',\n",
    "'../metrics/slim/2016-05-27_16.04.58_slim_ml-1m_e10_tt-0.7_task-16_user-metrics.csv',\n",
    "'../metrics/slim/2016-05-27_16.05.16_slim_ml-1m_e8_tt-0.7_task-10_user-metrics.csv',\n",
    "'../metrics/slim/2016-05-27_16.06.20_slim_ml-1m_e10_tt-0.7_task-11_user-metrics.csv',\n",
    "'../metrics/slim/2016-05-27_16.07.09_slim_ml-1m_e10_tt-0.7_task-20_user-metrics.csv',\n",
    "'../metrics/slim/2016-05-27_16.07.15_slim_ml-1m_e10_tt-0.7_task-19_user-metrics.csv',\n",
    "'../metrics/slim/2016-05-27_16.07.29_slim_ml-1m_e10_tt-0.7_task-8_user-metrics.csv',\n",
    "]"
   ]
  },
  {
   "cell_type": "code",
   "execution_count": 3,
   "metadata": {
    "collapsed": false
   },
   "outputs": [
    {
     "data": {
      "text/plain": [
       "[('../metrics/slim/2016-05-27_16.03.00_slim_ml-1m_e8_tt-0.7_task-18_user-metrics.csv',\n",
       "  0.905538316147385),\n",
       " ('../metrics/slim/2016-05-27_16.04.23_slim_ml-1m_e8_tt-0.7_task-7_user-metrics.csv',\n",
       "  0.902617302077779),\n",
       " ('../metrics/slim/2016-05-27_16.04.58_slim_ml-1m_e10_tt-0.7_task-16_user-metrics.csv',\n",
       "  0.8993006549709037),\n",
       " ('../metrics/slim/2016-05-27_16.04.35_slim_ml-1m_e10_tt-0.7_task-4_user-metrics.csv',\n",
       "  0.8845959261304364),\n",
       " ('../metrics/slim/2016-05-27_16.01.24_slim_ml-1m_e5_tt-0.7_task-0_user-metrics.csv',\n",
       "  0.8791521405026573),\n",
       " ('../metrics/slim/2016-05-27_15.59.42_slim_ml-1m_e3_tt-0.7_task-22_user-metrics.csv',\n",
       "  0.8715217975834315),\n",
       " ('../metrics/slim/2016-05-27_16.01.08_slim_ml-1m_e5_tt-0.7_task-23_user-metrics.csv',\n",
       "  0.866722230057087),\n",
       " ('../metrics/slim/2016-05-27_15.59.35_slim_ml-1m_e3_tt-0.7_task-14_user-metrics.csv',\n",
       "  0.548744501138139),\n",
       " ('../metrics/slim/2016-05-27_15.59.30_slim_ml-1m_e3_tt-0.7_task-15_user-metrics.csv',\n",
       "  0.5462988262479316),\n",
       " ('../metrics/slim/2016-05-27_15.59.37_slim_ml-1m_e3_tt-0.7_task-3_user-metrics.csv',\n",
       "  0.519785593586488),\n",
       " ('../metrics/slim/2016-05-27_15.59.14_slim_ml-1m_e3_tt-0.7_task-21_user-metrics.csv',\n",
       "  0.519648342154853),\n",
       " ('../metrics/slim/2016-05-27_16.07.29_slim_ml-1m_e10_tt-0.7_task-8_user-metrics.csv',\n",
       "  0.5148205459571352),\n",
       " ('../metrics/slim/2016-05-27_16.02.06_slim_ml-1m_e5_tt-0.7_task-9_user-metrics.csv',\n",
       "  0.5111479561928367),\n",
       " ('../metrics/slim/2016-05-27_16.07.15_slim_ml-1m_e10_tt-0.7_task-19_user-metrics.csv',\n",
       "  0.509741874181887),\n",
       " ('../metrics/slim/2016-05-27_16.05.16_slim_ml-1m_e8_tt-0.7_task-10_user-metrics.csv',\n",
       "  0.5083724221010364),\n",
       " ('../metrics/slim/2016-05-27_16.06.20_slim_ml-1m_e10_tt-0.7_task-11_user-metrics.csv',\n",
       "  0.5075894665986447),\n",
       " ('../metrics/slim/2016-05-27_15.59.20_slim_ml-1m_e3_tt-0.7_task-6_user-metrics.csv',\n",
       "  0.5015318010415803),\n",
       " ('../metrics/slim/2016-05-27_15.59.44_slim_ml-1m_e3_tt-0.7_task-5_user-metrics.csv',\n",
       "  0.5007793903280068),\n",
       " ('../metrics/slim/2016-05-27_16.01.44_slim_ml-1m_e5_tt-0.7_task-1_user-metrics.csv',\n",
       "  0.4992836025854985),\n",
       " ('../metrics/slim/2016-05-27_15.59.15_slim_ml-1m_e3_tt-0.7_task-17_user-metrics.csv',\n",
       "  0.4988330300763705),\n",
       " ('../metrics/slim/2016-05-27_16.07.09_slim_ml-1m_e10_tt-0.7_task-20_user-metrics.csv',\n",
       "  0.4988250864678317),\n",
       " ('../metrics/slim/2016-05-27_16.01.40_slim_ml-1m_e5_tt-0.7_task-12_user-metrics.csv',\n",
       "  0.49847590237100897),\n",
       " ('../metrics/slim/2016-05-27_15.59.12_slim_ml-1m_e3_tt-0.7_task-2_user-metrics.csv',\n",
       "  0.4976868031380499),\n",
       " ('../metrics/slim/2016-05-27_16.01.41_slim_ml-1m_e5_tt-0.7_task-13_user-metrics.csv',\n",
       "  0.49463578442430217)]"
      ]
     },
     "execution_count": 3,
     "metadata": {},
     "output_type": "execute_result"
    }
   ],
   "source": [
    "result_map = map(lambda p: (p, pd.read_csv(p)['auc'].mean()), results)\n",
    "sorted(result_map, key=lambda t:t[1], reverse=True)"
   ]
  },
  {
   "cell_type": "code",
   "execution_count": 5,
   "metadata": {
    "collapsed": false
   },
   "outputs": [
    {
     "name": "stdout",
     "output_type": "stream",
     "text": [
      "{   u'alpha': 0.00303,\n",
      "    u'binarize': True,\n",
      "    u'binarize_neg': 0,\n",
      "    u'binarize_pos': 1,\n",
      "    u'binarize_threshold': 1,\n",
      "    u'eval_in_parallel': False,\n",
      "    u'experiment_name': u'slim_ml-1m_e8_tt-0.7_task-18',\n",
      "    u'fit_intercept': True,\n",
      "    u'hit_threshold': 4,\n",
      "    u'ignore_negative_weights': True,\n",
      "    u'l1_ratio': 0.9900990099009901,\n",
      "    u'l1_reg': 0.003,\n",
      "    u'l2_reg': 3e-05,\n",
      "    u'metrics_save_dir': u'metrics/slim',\n",
      "    u'model_save_dir': u'models/slim',\n",
      "    u'nb_epochs': 8,\n",
      "    u'precision_recall_at_n': 20,\n",
      "    u'ratings_path': u'data/splits/ml-1m/ratings.csv',\n",
      "    u'run_eval': True,\n",
      "    u'run_movie_metrics': False,\n",
      "    u'sparse_item': True,\n",
      "    u'test': True,\n",
      "    u'test_path': u'data/splits/ml-1m/sparse-item/0.7-test.csv',\n",
      "    u'top_n_predictions': 100,\n",
      "    u'train_path': u'data/splits/ml-1m/sparse-item/0.7-train.csv',\n",
      "    u'train_test_split': 0.7,\n",
      "    u'val': False,\n",
      "    u'verbose': 0}\n"
     ]
    }
   ],
   "source": [
    "# best config\n",
    "with open('../models/slim/2016-05-27_16.03.00_slim_ml-1m_e8_tt-0.7_task-18_config.json') as f:\n",
    "    pp.pprint(json.loads(f.read()))"
   ]
  },
  {
   "cell_type": "code",
   "execution_count": 6,
   "metadata": {
    "collapsed": false
   },
   "outputs": [
    {
     "data": {
      "text/plain": [
       "auc                          0.905538\n",
       "avg_precision                0.250139\n",
       "f1                           0.230980\n",
       "fcp                          0.727719\n",
       "nb_movies_not_in_train    2891.633444\n",
       "nb_test_movies              48.558278\n",
       "nb_train_movies            113.366556\n",
       "precision_at_20              0.285579\n",
       "recall_at_20                 0.283807\n",
       "reciprocal_rank              0.644168\n",
       "spearman_rank_corr           0.223494\n",
       "user_id                   3020.500000\n",
       "dtype: float64"
      ]
     },
     "execution_count": 6,
     "metadata": {},
     "output_type": "execute_result"
    }
   ],
   "source": [
    "best_metrics = pd.read_csv('../metrics/slim/2016-05-27_16.03.00_slim_ml-1m_e8_tt-0.7_task-18_user-metrics.csv')\n",
    "best_metrics.mean(0)"
   ]
  },
  {
   "cell_type": "markdown",
   "metadata": {},
   "source": [
    "## ML-100k - 0.56 train/0.14 val/0.3 test"
   ]
  },
  {
   "cell_type": "code",
   "execution_count": 2,
   "metadata": {
    "collapsed": true
   },
   "outputs": [],
   "source": [
    "results = [\n",
    "'../metrics/slim/2016-05-10_03.05.12_slim_ml-100k_e3_tt-0.7_task-0_user-metrics.csv',\n",
    "'../metrics/slim/2016-05-10_03.05.15_slim_ml-100k_e8_tt-0.7_task-12_user-metrics.csv',\n",
    "'../metrics/slim/2016-05-10_03.05.26_slim_ml-100k_e10_tt-0.7_task-42_user-metrics.csv',\n",
    "'../metrics/slim/2016-05-10_03.05.34_slim_ml-100k_e8_tt-0.7_task-30_user-metrics.csv',\n",
    "'../metrics/slim/2016-05-10_03.05.36_slim_ml-100k_e10_tt-0.7_task-10_user-metrics.csv',\n",
    "'../metrics/slim/2016-05-10_03.05.37_slim_ml-100k_e3_tt-0.7_task-22_user-metrics.csv',\n",
    "'../metrics/slim/2016-05-10_03.05.55_slim_ml-100k_e3_tt-0.7_task-2_user-metrics.csv',\n",
    "'../metrics/slim/2016-05-10_03.05.59_slim_ml-100k_e3_tt-0.7_task-18_user-metrics.csv',\n",
    "'../metrics/slim/2016-05-10_03.06.00_slim_ml-100k_e8_tt-0.7_task-44_user-metrics.csv',\n",
    "'../metrics/slim/2016-05-10_03.06.04_slim_ml-100k_e3_tt-0.7_task-24_user-metrics.csv',\n",
    "'../metrics/slim/2016-05-10_03.06.06_slim_ml-100k_e10_tt-0.7_task-8_user-metrics.csv',\n",
    "'../metrics/slim/2016-05-10_03.06.08_slim_ml-100k_e3_tt-0.7_task-28_user-metrics.csv',\n",
    "'../metrics/slim/2016-05-10_03.06.10_slim_ml-100k_e10_tt-0.7_task-40_user-metrics.csv',\n",
    "'../metrics/slim/2016-05-10_03.06.10_slim_ml-100k_e5_tt-0.7_task-32_user-metrics.csv',\n",
    "'../metrics/slim/2016-05-10_03.06.12_slim_ml-100k_e3_tt-0.7_task-20_user-metrics.csv',\n",
    "'../metrics/slim/2016-05-10_03.06.14_slim_ml-100k_e5_tt-0.7_task-38_user-metrics.csv',\n",
    "'../metrics/slim/2016-05-10_03.06.16_slim_ml-100k_e5_tt-0.7_task-4_user-metrics.csv',\n",
    "'../metrics/slim/2016-05-10_03.06.18_slim_ml-100k_e10_tt-0.7_task-46_user-metrics.csv',\n",
    "'../metrics/slim/2016-05-10_03.06.21_slim_ml-100k_e8_tt-0.7_task-34_user-metrics.csv',\n",
    "'../metrics/slim/2016-05-10_03.06.24_slim_ml-100k_e10_tt-0.7_task-6_user-metrics.csv',\n",
    "'../metrics/slim/2016-05-10_03.06.25_slim_ml-100k_e5_tt-0.7_task-14_user-metrics.csv',\n",
    "'../metrics/slim/2016-05-10_03.06.29_slim_ml-100k_e8_tt-0.7_task-26_user-metrics.csv',\n",
    "'../metrics/slim/2016-05-10_03.06.33_slim_ml-100k_e10_tt-0.7_task-16_user-metrics.csv',\n",
    "'../metrics/slim/2016-05-10_03.06.40_slim_ml-100k_e8_tt-0.7_task-36_user-metrics.csv',\n",
    "'../metrics/slim/2016-05-10_03.23.59_slim_ml-100k_e3_tt-0.7_task-1_user-metrics.csv',\n",
    "'../metrics/slim/2016-05-10_03.24.15_slim_ml-100k_e3_tt-0.7_task-29_user-metrics.csv',\n",
    "'../metrics/slim/2016-05-10_03.24.17_slim_ml-100k_e5_tt-0.7_task-43_user-metrics.csv',\n",
    "'../metrics/slim/2016-05-10_03.24.32_slim_ml-100k_e10_tt-0.7_task-3_user-metrics.csv',\n",
    "'../metrics/slim/2016-05-10_03.24.32_slim_ml-100k_e3_tt-0.7_task-41_user-metrics.csv',\n",
    "'../metrics/slim/2016-05-10_03.24.33_slim_ml-100k_e5_tt-0.7_task-11_user-metrics.csv',\n",
    "'../metrics/slim/2016-05-10_03.24.33_slim_ml-100k_e8_tt-0.7_task-23_user-metrics.csv',\n",
    "'../metrics/slim/2016-05-10_03.24.47_slim_ml-100k_e8_tt-0.7_task-13_user-metrics.csv',\n",
    "'../metrics/slim/2016-05-10_03.24.53_slim_ml-100k_e8_tt-0.7_task-19_user-metrics.csv',\n",
    "'../metrics/slim/2016-05-10_03.24.54_slim_ml-100k_e5_tt-0.7_task-45_user-metrics.csv',\n",
    "'../metrics/slim/2016-05-10_03.24.56_slim_ml-100k_e3_tt-0.7_task-25_user-metrics.csv',\n",
    "'../metrics/slim/2016-05-10_03.25.02_slim_ml-100k_e10_tt-0.7_task-31_user-metrics.csv',\n",
    "'../metrics/slim/2016-05-10_03.25.02_slim_ml-100k_e3_tt-0.7_task-5_user-metrics.csv',\n",
    "'../metrics/slim/2016-05-10_03.25.13_slim_ml-100k_e10_tt-0.7_task-39_user-metrics.csv',\n",
    "'../metrics/slim/2016-05-10_03.25.18_slim_ml-100k_e8_tt-0.7_task-21_user-metrics.csv',\n",
    "'../metrics/slim/2016-05-10_03.25.20_slim_ml-100k_e10_tt-0.7_task-47_user-metrics.csv',\n",
    "'../metrics/slim/2016-05-10_03.25.20_slim_ml-100k_e8_tt-0.7_task-33_user-metrics.csv',\n",
    "'../metrics/slim/2016-05-10_03.25.23_slim_ml-100k_e8_tt-0.7_task-15_user-metrics.csv',\n",
    "'../metrics/slim/2016-05-10_03.25.27_slim_ml-100k_e10_tt-0.7_task-9_user-metrics.csv',\n",
    "'../metrics/slim/2016-05-10_03.25.32_slim_ml-100k_e10_tt-0.7_task-7_user-metrics.csv',\n",
    "'../metrics/slim/2016-05-10_03.25.36_slim_ml-100k_e5_tt-0.7_task-27_user-metrics.csv',\n",
    "'../metrics/slim/2016-05-10_03.25.44_slim_ml-100k_e3_tt-0.7_task-17_user-metrics.csv',\n",
    "'../metrics/slim/2016-05-10_03.25.47_slim_ml-100k_e8_tt-0.7_task-37_user-metrics.csv',\n",
    "'../metrics/slim/2016-05-10_03.25.52_slim_ml-100k_e8_tt-0.7_task-35_user-metrics.csv',\n",
    "'../metrics/slim/2016-05-10_03.42.54_slim_ml-100k_e10_tt-0.7_task-62_user-metrics.csv',\n",
    "'../metrics/slim/2016-05-10_03.42.54_slim_ml-100k_e5_tt-0.7_task-48_user-metrics.csv',\n",
    "'../metrics/slim/2016-05-10_03.43.12_slim_ml-100k_e3_tt-0.7_task-68_user-metrics.csv',\n",
    "'../metrics/slim/2016-05-10_03.43.19_slim_ml-100k_e3_tt-0.7_task-50_user-metrics.csv',\n",
    "'../metrics/slim/2016-05-10_03.43.20_slim_ml-100k_e10_tt-0.7_task-74_user-metrics.csv',\n",
    "'../metrics/slim/2016-05-10_03.43.21_slim_ml-100k_e3_tt-0.7_task-52_user-metrics.csv',\n",
    "'../metrics/slim/2016-05-10_03.43.40_slim_ml-100k_e8_tt-0.7_task-54_user-metrics.csv',\n",
    "'../metrics/slim/2016-05-10_03.43.45_slim_ml-100k_e8_tt-0.7_task-56_user-metrics.csv',\n",
    "'../metrics/slim/2016-05-10_03.43.47_slim_ml-100k_e3_tt-0.7_task-58_user-metrics.csv',\n",
    "'../metrics/slim/2016-05-10_03.43.50_slim_ml-100k_e3_tt-0.7_task-60_user-metrics.csv',\n",
    "'../metrics/slim/2016-05-10_03.43.59_slim_ml-100k_e8_tt-0.7_task-66_user-metrics.csv',\n",
    "'../metrics/slim/2016-05-10_03.44.00_slim_ml-100k_e10_tt-0.7_task-72_user-metrics.csv',\n",
    "'../metrics/slim/2016-05-10_03.44.03_slim_ml-100k_e3_tt-0.7_task-70_user-metrics.csv',\n",
    "'../metrics/slim/2016-05-10_03.44.07_slim_ml-100k_e8_tt-0.7_task-90_user-metrics.csv',\n",
    "'../metrics/slim/2016-05-10_03.44.09_slim_ml-100k_e10_tt-0.7_task-64_user-metrics.csv',\n",
    "'../metrics/slim/2016-05-10_03.44.09_slim_ml-100k_e5_tt-0.7_task-78_user-metrics.csv',\n",
    "'../metrics/slim/2016-05-10_03.44.15_slim_ml-100k_e8_tt-0.7_task-80_user-metrics.csv',\n",
    "'../metrics/slim/2016-05-10_03.44.19_slim_ml-100k_e3_tt-0.7_task-86_user-metrics.csv',\n",
    "'../metrics/slim/2016-05-10_03.44.25_slim_ml-100k_e3_tt-0.7_task-88_user-metrics.csv',\n",
    "'../metrics/slim/2016-05-10_03.44.26_slim_ml-100k_e10_tt-0.7_task-76_user-metrics.csv',\n",
    "'../metrics/slim/2016-05-10_03.44.43_slim_ml-100k_e3_tt-0.7_task-84_user-metrics.csv',\n",
    "'../metrics/slim/2016-05-10_03.44.48_slim_ml-100k_e3_tt-0.7_task-92_user-metrics.csv',\n",
    "'../metrics/slim/2016-05-10_03.44.49_slim_ml-100k_e8_tt-0.7_task-82_user-metrics.csv',\n",
    "'../metrics/slim/2016-05-10_03.45.00_slim_ml-100k_e8_tt-0.7_task-94_user-metrics.csv',\n",
    "'../metrics/slim/2016-05-10_04.01.18_slim_ml-100k_e8_tt-0.7_task-63_user-metrics.csv',\n",
    "'../metrics/slim/2016-05-10_04.01.29_slim_ml-100k_e5_tt-0.7_task-69_user-metrics.csv',\n",
    "'../metrics/slim/2016-05-10_04.01.50_slim_ml-100k_e8_tt-0.7_task-51_user-metrics.csv',\n",
    "'../metrics/slim/2016-05-10_04.01.51_slim_ml-100k_e8_tt-0.7_task-53_user-metrics.csv',\n",
    "'../metrics/slim/2016-05-10_04.02.02_slim_ml-100k_e3_tt-0.7_task-49_user-metrics.csv',\n",
    "'../metrics/slim/2016-05-10_04.02.05_slim_ml-100k_e10_tt-0.7_task-55_user-metrics.csv',\n",
    "'../metrics/slim/2016-05-10_04.02.07_slim_ml-100k_e3_tt-0.7_task-65_user-metrics.csv',\n",
    "'../metrics/slim/2016-05-10_04.02.10_slim_ml-100k_e8_tt-0.7_task-91_user-metrics.csv',\n",
    "'../metrics/slim/2016-05-10_04.02.18_slim_ml-100k_e8_tt-0.7_task-61_user-metrics.csv',\n",
    "'../metrics/slim/2016-05-10_04.02.31_slim_ml-100k_e10_tt-0.7_task-75_user-metrics.csv',\n",
    "'../metrics/slim/2016-05-10_04.02.36_slim_ml-100k_e5_tt-0.7_task-73_user-metrics.csv',\n",
    "'../metrics/slim/2016-05-10_04.02.43_slim_ml-100k_e5_tt-0.7_task-89_user-metrics.csv',\n",
    "'../metrics/slim/2016-05-10_04.02.52_slim_ml-100k_e3_tt-0.7_task-81_user-metrics.csv',\n",
    "'../metrics/slim/2016-05-10_04.02.59_slim_ml-100k_e10_tt-0.7_task-59_user-metrics.csv',\n",
    "'../metrics/slim/2016-05-10_04.03.07_slim_ml-100k_e10_tt-0.7_task-57_user-metrics.csv',\n",
    "'../metrics/slim/2016-05-10_04.03.07_slim_ml-100k_e10_tt-0.7_task-71_user-metrics.csv',\n",
    "'../metrics/slim/2016-05-10_04.03.15_slim_ml-100k_e10_tt-0.7_task-67_user-metrics.csv',\n",
    "'../metrics/slim/2016-05-10_04.03.27_slim_ml-100k_e3_tt-0.7_task-79_user-metrics.csv',\n",
    "'../metrics/slim/2016-05-10_04.03.29_slim_ml-100k_e5_tt-0.7_task-87_user-metrics.csv',\n",
    "'../metrics/slim/2016-05-10_04.03.40_slim_ml-100k_e10_tt-0.7_task-85_user-metrics.csv',\n",
    "'../metrics/slim/2016-05-10_04.03.48_slim_ml-100k_e8_tt-0.7_task-83_user-metrics.csv',\n",
    "'../metrics/slim/2016-05-10_04.03.51_slim_ml-100k_e5_tt-0.7_task-93_user-metrics.csv',\n",
    "'../metrics/slim/2016-05-10_04.04.00_slim_ml-100k_e8_tt-0.7_task-77_user-metrics.csv',\n",
    "'../metrics/slim/2016-05-10_04.04.05_slim_ml-100k_e10_tt-0.7_task-95_user-metrics.csv',\n",
    "'../metrics/slim/2016-05-10_04.20.40_slim_ml-100k_e10_tt-0.7_task-96_user-metrics.csv',\n",
    "'../metrics/slim/2016-05-10_04.20.43_slim_ml-100k_e10_tt-0.7_task-98_user-metrics.csv',\n",
    "'../metrics/slim/2016-05-10_04.39.45_slim_ml-100k_e5_tt-0.7_task-99_user-metrics.csv',\n",
    "'../metrics/slim/2016-05-10_04.39.46_slim_ml-100k_e3_tt-0.7_task-97_user-metrics.csv',\n",
    "]"
   ]
  },
  {
   "cell_type": "code",
   "execution_count": 3,
   "metadata": {
    "collapsed": false
   },
   "outputs": [
    {
     "data": {
      "text/plain": [
       "[('../metrics/slim/2016-05-10_03.05.37_slim_ml-100k_e3_tt-0.7_task-22_user-metrics.csv',\n",
       "  0.8952496912902969),\n",
       " ('../metrics/slim/2016-05-10_03.23.59_slim_ml-100k_e3_tt-0.7_task-1_user-metrics.csv',\n",
       "  0.8936368573662951),\n",
       " ('../metrics/slim/2016-05-10_03.43.12_slim_ml-100k_e3_tt-0.7_task-68_user-metrics.csv',\n",
       "  0.8935932610198645),\n",
       " ('../metrics/slim/2016-05-10_03.24.32_slim_ml-100k_e3_tt-0.7_task-41_user-metrics.csv',\n",
       "  0.8934808859317592),\n",
       " ('../metrics/slim/2016-05-10_03.05.55_slim_ml-100k_e3_tt-0.7_task-2_user-metrics.csv',\n",
       "  0.8934596832935031),\n",
       " ('../metrics/slim/2016-05-10_04.01.50_slim_ml-100k_e8_tt-0.7_task-51_user-metrics.csv',\n",
       "  0.8921389843030674),\n",
       " ('../metrics/slim/2016-05-10_04.01.51_slim_ml-100k_e8_tt-0.7_task-53_user-metrics.csv',\n",
       "  0.8921129722785286),\n",
       " ('../metrics/slim/2016-05-10_04.01.29_slim_ml-100k_e5_tt-0.7_task-69_user-metrics.csv',\n",
       "  0.891756110913556),\n",
       " ('../metrics/slim/2016-05-10_04.02.43_slim_ml-100k_e5_tt-0.7_task-89_user-metrics.csv',\n",
       "  0.8917424841377743),\n",
       " ('../metrics/slim/2016-05-10_03.44.25_slim_ml-100k_e3_tt-0.7_task-88_user-metrics.csv',\n",
       "  0.8911883490444173),\n",
       " ('../metrics/slim/2016-05-10_04.02.36_slim_ml-100k_e5_tt-0.7_task-73_user-metrics.csv',\n",
       "  0.8910460408197869),\n",
       " ('../metrics/slim/2016-05-10_03.44.07_slim_ml-100k_e8_tt-0.7_task-90_user-metrics.csv',\n",
       "  0.8896639826506442),\n",
       " ('../metrics/slim/2016-05-10_04.01.18_slim_ml-100k_e8_tt-0.7_task-63_user-metrics.csv',\n",
       "  0.8896495051848651),\n",
       " ('../metrics/slim/2016-05-10_03.44.09_slim_ml-100k_e5_tt-0.7_task-78_user-metrics.csv',\n",
       "  0.8888308068850327),\n",
       " ('../metrics/slim/2016-05-10_04.02.05_slim_ml-100k_e10_tt-0.7_task-55_user-metrics.csv',\n",
       "  0.8887750085150747),\n",
       " ('../metrics/slim/2016-05-10_03.05.36_slim_ml-100k_e10_tt-0.7_task-10_user-metrics.csv',\n",
       "  0.8884666044222344),\n",
       " ('../metrics/slim/2016-05-10_03.24.33_slim_ml-100k_e5_tt-0.7_task-11_user-metrics.csv',\n",
       "  0.887950393842259),\n",
       " ('../metrics/slim/2016-05-10_03.06.06_slim_ml-100k_e10_tt-0.7_task-8_user-metrics.csv',\n",
       "  0.8879067729932232),\n",
       " ('../metrics/slim/2016-05-10_03.25.18_slim_ml-100k_e8_tt-0.7_task-21_user-metrics.csv',\n",
       "  0.8862889408416277),\n",
       " ('../metrics/slim/2016-05-10_04.03.48_slim_ml-100k_e8_tt-0.7_task-83_user-metrics.csv',\n",
       "  0.8861544223203314),\n",
       " ('../metrics/slim/2016-05-10_04.03.40_slim_ml-100k_e10_tt-0.7_task-85_user-metrics.csv',\n",
       "  0.8852505425810494),\n",
       " ('../metrics/slim/2016-05-10_04.03.07_slim_ml-100k_e10_tt-0.7_task-71_user-metrics.csv',\n",
       "  0.8852282089385544),\n",
       " ('../metrics/slim/2016-05-10_03.44.26_slim_ml-100k_e10_tt-0.7_task-76_user-metrics.csv',\n",
       "  0.8852126982047647),\n",
       " ('../metrics/slim/2016-05-10_03.25.13_slim_ml-100k_e10_tt-0.7_task-39_user-metrics.csv',\n",
       "  0.8851680948214417),\n",
       " ('../metrics/slim/2016-05-10_03.25.23_slim_ml-100k_e8_tt-0.7_task-15_user-metrics.csv',\n",
       "  0.8850796293498291),\n",
       " ('../metrics/slim/2016-05-10_03.24.53_slim_ml-100k_e8_tt-0.7_task-19_user-metrics.csv',\n",
       "  0.8850614447657096),\n",
       " ('../metrics/slim/2016-05-10_03.44.15_slim_ml-100k_e8_tt-0.7_task-80_user-metrics.csv',\n",
       "  0.8850429582634599),\n",
       " ('../metrics/slim/2016-05-10_04.02.59_slim_ml-100k_e10_tt-0.7_task-59_user-metrics.csv',\n",
       "  0.8841224651403541),\n",
       " ('../metrics/slim/2016-05-10_03.24.56_slim_ml-100k_e3_tt-0.7_task-25_user-metrics.csv',\n",
       "  0.883789056547486),\n",
       " ('../metrics/slim/2016-05-10_04.02.18_slim_ml-100k_e8_tt-0.7_task-61_user-metrics.csv',\n",
       "  0.8829762021061862),\n",
       " ('../metrics/slim/2016-05-10_03.05.34_slim_ml-100k_e8_tt-0.7_task-30_user-metrics.csv',\n",
       "  0.882451141748362),\n",
       " ('../metrics/slim/2016-05-10_03.24.32_slim_ml-100k_e10_tt-0.7_task-3_user-metrics.csv',\n",
       "  0.8817628386965843),\n",
       " ('../metrics/slim/2016-05-10_03.24.15_slim_ml-100k_e3_tt-0.7_task-29_user-metrics.csv',\n",
       "  0.8781346233813465),\n",
       " ('../metrics/slim/2016-05-10_03.05.26_slim_ml-100k_e10_tt-0.7_task-42_user-metrics.csv',\n",
       "  0.8777034909617695),\n",
       " ('../metrics/slim/2016-05-10_03.24.54_slim_ml-100k_e5_tt-0.7_task-45_user-metrics.csv',\n",
       "  0.8733630605527493),\n",
       " ('../metrics/slim/2016-05-10_03.25.44_slim_ml-100k_e3_tt-0.7_task-17_user-metrics.csv',\n",
       "  0.8728756664396171),\n",
       " ('../metrics/slim/2016-05-10_03.42.54_slim_ml-100k_e5_tt-0.7_task-48_user-metrics.csv',\n",
       "  0.8726470588464533),\n",
       " ('../metrics/slim/2016-05-10_03.05.12_slim_ml-100k_e3_tt-0.7_task-0_user-metrics.csv',\n",
       "  0.871209856298865),\n",
       " ('../metrics/slim/2016-05-10_04.02.07_slim_ml-100k_e3_tt-0.7_task-65_user-metrics.csv',\n",
       "  0.8705795632280959),\n",
       " ('../metrics/slim/2016-05-10_03.05.15_slim_ml-100k_e8_tt-0.7_task-12_user-metrics.csv',\n",
       "  0.869570224016179),\n",
       " ('../metrics/slim/2016-05-10_04.02.10_slim_ml-100k_e8_tt-0.7_task-91_user-metrics.csv',\n",
       "  0.8694855093794718),\n",
       " ('../metrics/slim/2016-05-10_03.43.20_slim_ml-100k_e10_tt-0.7_task-74_user-metrics.csv',\n",
       "  0.8683308579928806),\n",
       " ('../metrics/slim/2016-05-10_03.42.54_slim_ml-100k_e10_tt-0.7_task-62_user-metrics.csv',\n",
       "  0.8683296298815327),\n",
       " ('../metrics/slim/2016-05-10_03.06.00_slim_ml-100k_e8_tt-0.7_task-44_user-metrics.csv',\n",
       "  0.8599521295073836),\n",
       " ('../metrics/slim/2016-05-10_03.06.25_slim_ml-100k_e5_tt-0.7_task-14_user-metrics.csv',\n",
       "  0.8587517028557821),\n",
       " ('../metrics/slim/2016-05-10_03.06.16_slim_ml-100k_e5_tt-0.7_task-4_user-metrics.csv',\n",
       "  0.8529648152637358),\n",
       " ('../metrics/slim/2016-05-10_03.25.20_slim_ml-100k_e10_tt-0.7_task-47_user-metrics.csv',\n",
       "  0.8527202470341108),\n",
       " ('../metrics/slim/2016-05-10_03.43.59_slim_ml-100k_e8_tt-0.7_task-66_user-metrics.csv',\n",
       "  0.8393190398189296),\n",
       " ('../metrics/slim/2016-05-10_03.43.40_slim_ml-100k_e8_tt-0.7_task-54_user-metrics.csv',\n",
       "  0.8389914939196756),\n",
       " ('../metrics/slim/2016-05-10_04.20.40_slim_ml-100k_e10_tt-0.7_task-96_user-metrics.csv',\n",
       "  0.8322894771674963),\n",
       " ('../metrics/slim/2016-05-10_03.25.27_slim_ml-100k_e10_tt-0.7_task-9_user-metrics.csv',\n",
       "  0.830578581705294),\n",
       " ('../metrics/slim/2016-05-10_03.25.02_slim_ml-100k_e10_tt-0.7_task-31_user-metrics.csv',\n",
       "  0.8225352039143216),\n",
       " ('../metrics/slim/2016-05-10_04.03.15_slim_ml-100k_e10_tt-0.7_task-67_user-metrics.csv',\n",
       "  0.821618676762573),\n",
       " ('../metrics/slim/2016-05-10_04.02.52_slim_ml-100k_e3_tt-0.7_task-81_user-metrics.csv',\n",
       "  0.7246311274000643),\n",
       " ('../metrics/slim/2016-05-10_03.25.02_slim_ml-100k_e3_tt-0.7_task-5_user-metrics.csv',\n",
       "  0.7227655702014244),\n",
       " ('../metrics/slim/2016-05-10_03.24.33_slim_ml-100k_e8_tt-0.7_task-23_user-metrics.csv',\n",
       "  0.7222198815317044),\n",
       " ('../metrics/slim/2016-05-10_03.24.17_slim_ml-100k_e5_tt-0.7_task-43_user-metrics.csv',\n",
       "  0.7204756594859172),\n",
       " ('../metrics/slim/2016-05-10_03.44.19_slim_ml-100k_e3_tt-0.7_task-86_user-metrics.csv',\n",
       "  0.7161135318631294),\n",
       " ('../metrics/slim/2016-05-10_04.03.51_slim_ml-100k_e5_tt-0.7_task-93_user-metrics.csv',\n",
       "  0.7140509910287404),\n",
       " ('../metrics/slim/2016-05-10_03.06.10_slim_ml-100k_e10_tt-0.7_task-40_user-metrics.csv',\n",
       "  0.7118316153101089),\n",
       " ('../metrics/slim/2016-05-10_04.02.31_slim_ml-100k_e10_tt-0.7_task-75_user-metrics.csv',\n",
       "  0.7099667270913136),\n",
       " ('../metrics/slim/2016-05-10_03.25.47_slim_ml-100k_e8_tt-0.7_task-37_user-metrics.csv',\n",
       "  0.7089985815084213),\n",
       " ('../metrics/slim/2016-05-10_03.25.36_slim_ml-100k_e5_tt-0.7_task-27_user-metrics.csv',\n",
       "  0.7061165680681232),\n",
       " ('../metrics/slim/2016-05-10_03.43.21_slim_ml-100k_e3_tt-0.7_task-52_user-metrics.csv',\n",
       "  0.7055724562398753),\n",
       " ('../metrics/slim/2016-05-10_04.04.05_slim_ml-100k_e10_tt-0.7_task-95_user-metrics.csv',\n",
       "  0.7052195872702691),\n",
       " ('../metrics/slim/2016-05-10_03.06.08_slim_ml-100k_e3_tt-0.7_task-28_user-metrics.csv',\n",
       "  0.6997681244599665),\n",
       " ('../metrics/slim/2016-05-10_04.39.45_slim_ml-100k_e5_tt-0.7_task-99_user-metrics.csv',\n",
       "  0.6992411819152855),\n",
       " ('../metrics/slim/2016-05-10_03.05.59_slim_ml-100k_e3_tt-0.7_task-18_user-metrics.csv',\n",
       "  0.6975247218386303),\n",
       " ('../metrics/slim/2016-05-10_03.44.00_slim_ml-100k_e10_tt-0.7_task-72_user-metrics.csv',\n",
       "  0.6972264718568643),\n",
       " ('../metrics/slim/2016-05-10_03.06.12_slim_ml-100k_e3_tt-0.7_task-20_user-metrics.csv',\n",
       "  0.6966900124846964),\n",
       " ('../metrics/slim/2016-05-10_03.06.04_slim_ml-100k_e3_tt-0.7_task-24_user-metrics.csv',\n",
       "  0.6966882904797264),\n",
       " ('../metrics/slim/2016-05-10_03.06.10_slim_ml-100k_e5_tt-0.7_task-32_user-metrics.csv',\n",
       "  0.6963314703234946),\n",
       " ('../metrics/slim/2016-05-10_03.43.45_slim_ml-100k_e8_tt-0.7_task-56_user-metrics.csv',\n",
       "  0.6919499336531425),\n",
       " ('../metrics/slim/2016-05-10_03.06.21_slim_ml-100k_e8_tt-0.7_task-34_user-metrics.csv',\n",
       "  0.6916406359795273),\n",
       " ('../metrics/slim/2016-05-10_03.06.24_slim_ml-100k_e10_tt-0.7_task-6_user-metrics.csv',\n",
       "  0.6916098635987165),\n",
       " ('../metrics/slim/2016-05-10_03.44.09_slim_ml-100k_e10_tt-0.7_task-64_user-metrics.csv',\n",
       "  0.6893912746276575),\n",
       " ('../metrics/slim/2016-05-10_03.06.18_slim_ml-100k_e10_tt-0.7_task-46_user-metrics.csv',\n",
       "  0.6892329623597475),\n",
       " ('../metrics/slim/2016-05-10_04.20.43_slim_ml-100k_e10_tt-0.7_task-98_user-metrics.csv',\n",
       "  0.6885824719405882),\n",
       " ('../metrics/slim/2016-05-10_03.44.48_slim_ml-100k_e3_tt-0.7_task-92_user-metrics.csv',\n",
       "  0.5203341770104764),\n",
       " ('../metrics/slim/2016-05-10_03.44.03_slim_ml-100k_e3_tt-0.7_task-70_user-metrics.csv',\n",
       "  0.5203111017876862),\n",
       " ('../metrics/slim/2016-05-10_03.43.19_slim_ml-100k_e3_tt-0.7_task-50_user-metrics.csv',\n",
       "  0.5139023257016547),\n",
       " ('../metrics/slim/2016-05-10_03.44.43_slim_ml-100k_e3_tt-0.7_task-84_user-metrics.csv',\n",
       "  0.513873145731204),\n",
       " ('../metrics/slim/2016-05-10_03.43.50_slim_ml-100k_e3_tt-0.7_task-60_user-metrics.csv',\n",
       "  0.5130570358883318),\n",
       " ('../metrics/slim/2016-05-10_03.43.47_slim_ml-100k_e3_tt-0.7_task-58_user-metrics.csv',\n",
       "  0.5130282941919786),\n",
       " ('../metrics/slim/2016-05-10_03.45.00_slim_ml-100k_e8_tt-0.7_task-94_user-metrics.csv',\n",
       "  0.5104406395388568),\n",
       " ('../metrics/slim/2016-05-10_04.03.07_slim_ml-100k_e10_tt-0.7_task-57_user-metrics.csv',\n",
       "  0.5082143841223531),\n",
       " ('../metrics/slim/2016-05-10_03.06.14_slim_ml-100k_e5_tt-0.7_task-38_user-metrics.csv',\n",
       "  0.5062386359853914),\n",
       " ('../metrics/slim/2016-05-10_03.25.20_slim_ml-100k_e8_tt-0.7_task-33_user-metrics.csv',\n",
       "  0.5060072243858549),\n",
       " ('../metrics/slim/2016-05-10_03.24.47_slim_ml-100k_e8_tt-0.7_task-13_user-metrics.csv',\n",
       "  0.5052054209254514),\n",
       " ('../metrics/slim/2016-05-10_03.25.52_slim_ml-100k_e8_tt-0.7_task-35_user-metrics.csv',\n",
       "  0.5051292192130018),\n",
       " ('../metrics/slim/2016-05-10_03.25.32_slim_ml-100k_e10_tt-0.7_task-7_user-metrics.csv',\n",
       "  0.5036862304973264),\n",
       " ('../metrics/slim/2016-05-10_04.04.00_slim_ml-100k_e8_tt-0.7_task-77_user-metrics.csv',\n",
       "  0.50019131242283),\n",
       " ('../metrics/slim/2016-05-10_03.44.49_slim_ml-100k_e8_tt-0.7_task-82_user-metrics.csv',\n",
       "  0.4993848873408846),\n",
       " ('../metrics/slim/2016-05-10_04.03.29_slim_ml-100k_e5_tt-0.7_task-87_user-metrics.csv',\n",
       "  0.49880043380775335),\n",
       " ('../metrics/slim/2016-05-10_04.02.02_slim_ml-100k_e3_tt-0.7_task-49_user-metrics.csv',\n",
       "  0.4982325782684815),\n",
       " ('../metrics/slim/2016-05-10_04.03.27_slim_ml-100k_e3_tt-0.7_task-79_user-metrics.csv',\n",
       "  0.4982276610788178),\n",
       " ('../metrics/slim/2016-05-10_03.06.29_slim_ml-100k_e8_tt-0.7_task-26_user-metrics.csv',\n",
       "  0.49732809714324716),\n",
       " ('../metrics/slim/2016-05-10_03.06.40_slim_ml-100k_e8_tt-0.7_task-36_user-metrics.csv',\n",
       "  0.497303723320813),\n",
       " ('../metrics/slim/2016-05-10_04.39.46_slim_ml-100k_e3_tt-0.7_task-97_user-metrics.csv',\n",
       "  0.4922226389510466),\n",
       " ('../metrics/slim/2016-05-10_03.06.33_slim_ml-100k_e10_tt-0.7_task-16_user-metrics.csv',\n",
       "  0.48758771100164827)]"
      ]
     },
     "execution_count": 3,
     "metadata": {},
     "output_type": "execute_result"
    }
   ],
   "source": [
    "result_map = map(lambda p: (p, pd.read_csv(p)['auc'].mean()), results)\n",
    "sorted(result_map, key=lambda t:t[1], reverse=True)"
   ]
  },
  {
   "cell_type": "code",
   "execution_count": 5,
   "metadata": {
    "collapsed": false
   },
   "outputs": [
    {
     "name": "stdout",
     "output_type": "stream",
     "text": [
      "{   u'alpha': 0.0033,\n",
      "    u'binarize': True,\n",
      "    u'binarize_neg': 0,\n",
      "    u'binarize_pos': 1,\n",
      "    u'binarize_threshold': 1,\n",
      "    u'eval_in_parallel': False,\n",
      "    u'experiment_name': u'no-si_ml-100k_e3_tt-0.7_task-22',\n",
      "    u'fit_intercept': True,\n",
      "    u'hit_threshold': 4,\n",
      "    u'ignore_negative_weights': True,\n",
      "    u'l1_ratio': 0.9090909090909091,\n",
      "    u'l1_reg': 0.003,\n",
      "    u'l2_reg': 0.0003,\n",
      "    u'nb_epochs': 3,\n",
      "    u'pool_size': 2,\n",
      "    u'precision_recall_at_n': 20,\n",
      "    u'ratings_path': u'data/splits/ml-100k/ratings.csv',\n",
      "    u'run_eval': True,\n",
      "    u'run_movie_metrics': False,\n",
      "    u'sparse_item': True,\n",
      "    u'test': True,\n",
      "    u'test_path': u'data/splits/ml-100k/sparse-item/0.7-test.csv',\n",
      "    u'top_n_predictions': 100,\n",
      "    u'train_path': u'data/splits/ml-100k/sparse-item/0.7-0.8-train.csv',\n",
      "    u'train_test_split': 0.7,\n",
      "    u'train_val_split': 0.8,\n",
      "    u'val': True,\n",
      "    u'val_path': u'data/splits/ml-100k/sparse-item/0.7-0.8-val.csv',\n",
      "    u'verbose': 0}\n"
     ]
    }
   ],
   "source": [
    "with open('../models/slim/2016-05-10_02.47.26_slim_ml-100k_e3_tt-0.7_task-22_config.json') as f:\n",
    "    pp.pprint(json.loads(f.read()))"
   ]
  },
  {
   "cell_type": "code",
   "execution_count": 6,
   "metadata": {
    "collapsed": false
   },
   "outputs": [
    {
     "name": "stdout",
     "output_type": "stream",
     "text": [
      "{   u'alpha': 0.004,\n",
      "    u'binarize': True,\n",
      "    u'binarize_neg': 0,\n",
      "    u'binarize_pos': 1,\n",
      "    u'binarize_threshold': 1,\n",
      "    u'eval_in_parallel': False,\n",
      "    u'experiment_name': u'no-si_ml-100k_e3_tt-0.7_task-1',\n",
      "    u'fit_intercept': True,\n",
      "    u'hit_threshold': 4,\n",
      "    u'ignore_negative_weights': True,\n",
      "    u'l1_ratio': 0.25,\n",
      "    u'l1_reg': 0.001,\n",
      "    u'l2_reg': 0.003,\n",
      "    u'nb_epochs': 3,\n",
      "    u'pool_size': 2,\n",
      "    u'precision_recall_at_n': 20,\n",
      "    u'ratings_path': u'data/splits/ml-100k/ratings.csv',\n",
      "    u'run_eval': True,\n",
      "    u'run_movie_metrics': False,\n",
      "    u'sparse_item': True,\n",
      "    u'test': True,\n",
      "    u'test_path': u'data/splits/ml-100k/sparse-item/0.7-test.csv',\n",
      "    u'top_n_predictions': 100,\n",
      "    u'train_path': u'data/splits/ml-100k/sparse-item/0.7-0.8-train.csv',\n",
      "    u'train_test_split': 0.7,\n",
      "    u'train_val_split': 0.8,\n",
      "    u'val': True,\n",
      "    u'val_path': u'data/splits/ml-100k/sparse-item/0.7-0.8-val.csv',\n",
      "    u'verbose': 0}\n"
     ]
    }
   ],
   "source": [
    "with open('../models/slim/2016-05-10_03.05.24_slim_ml-100k_e3_tt-0.7_task-1_config.json') as f:\n",
    "    pp.pprint(json.loads(f.read()))"
   ]
  },
  {
   "cell_type": "code",
   "execution_count": 7,
   "metadata": {
    "collapsed": false
   },
   "outputs": [
    {
     "name": "stdout",
     "output_type": "stream",
     "text": [
      "{   u'alpha': 0.006,\n",
      "    u'binarize': True,\n",
      "    u'binarize_neg': 0,\n",
      "    u'binarize_pos': 1,\n",
      "    u'binarize_threshold': 1,\n",
      "    u'eval_in_parallel': False,\n",
      "    u'experiment_name': u'no-si_ml-100k_e3_tt-0.7_task-68',\n",
      "    u'fit_intercept': False,\n",
      "    u'hit_threshold': 4,\n",
      "    u'ignore_negative_weights': True,\n",
      "    u'l1_ratio': 0.5,\n",
      "    u'l1_reg': 0.003,\n",
      "    u'l2_reg': 0.003,\n",
      "    u'nb_epochs': 3,\n",
      "    u'pool_size': 2,\n",
      "    u'precision_recall_at_n': 20,\n",
      "    u'ratings_path': u'data/splits/ml-100k/ratings.csv',\n",
      "    u'run_eval': True,\n",
      "    u'run_movie_metrics': False,\n",
      "    u'sparse_item': True,\n",
      "    u'test': True,\n",
      "    u'test_path': u'data/splits/ml-100k/sparse-item/0.7-test.csv',\n",
      "    u'top_n_predictions': 100,\n",
      "    u'train_path': u'data/splits/ml-100k/sparse-item/0.7-0.8-train.csv',\n",
      "    u'train_test_split': 0.7,\n",
      "    u'train_val_split': 0.8,\n",
      "    u'val': True,\n",
      "    u'val_path': u'data/splits/ml-100k/sparse-item/0.7-0.8-val.csv',\n",
      "    u'verbose': 0}\n"
     ]
    }
   ],
   "source": [
    "with open('../models/slim/2016-05-10_03.25.06_slim_ml-100k_e3_tt-0.7_task-68_config.json') as f:\n",
    "    pp.pprint(json.loads(f.read()))"
   ]
  },
  {
   "cell_type": "markdown",
   "metadata": {
    "collapsed": true
   },
   "source": [
    "## ML-1m - 0.2 train / 0.8 test"
   ]
  },
  {
   "cell_type": "code",
   "execution_count": 8,
   "metadata": {
    "collapsed": true
   },
   "outputs": [],
   "source": [
    "results = [\n",
    "'../metrics/slim/2016-05-12_21.03.23_slim_ml-1m_e3_tt-0.2_task-4_user-metrics.csv',\n",
    "'../metrics/slim/2016-05-12_21.03.26_slim_ml-1m_e3_tt-0.2_task-13_user-metrics.csv',\n",
    "'../metrics/slim/2016-05-12_21.03.30_slim_ml-1m_e3_tt-0.2_task-12_user-metrics.csv',\n",
    "'../metrics/slim/2016-05-12_21.03.31_slim_ml-1m_e3_tt-0.2_task-16_user-metrics.csv',\n",
    "'../metrics/slim/2016-05-12_21.03.34_slim_ml-1m_e3_tt-0.2_task-6_user-metrics.csv',\n",
    "'../metrics/slim/2016-05-12_21.03.40_slim_ml-1m_e5_tt-0.2_task-9_user-metrics.csv',\n",
    "'../metrics/slim/2016-05-12_21.03.50_slim_ml-1m_e5_tt-0.2_task-10_user-metrics.csv',\n",
    "'../metrics/slim/2016-05-12_21.03.52_slim_ml-1m_e5_tt-0.2_task-14_user-metrics.csv',\n",
    "'../metrics/slim/2016-05-12_21.04.02_slim_ml-1m_e5_tt-0.2_task-3_user-metrics.csv',\n",
    "'../metrics/slim/2016-05-12_21.04.04_slim_ml-1m_e5_tt-0.2_task-22_user-metrics.csv',\n",
    "'../metrics/slim/2016-05-12_21.04.13_slim_ml-1m_e5_tt-0.2_task-2_user-metrics.csv',\n",
    "'../metrics/slim/2016-05-12_21.04.22_slim_ml-1m_e5_tt-0.2_task-15_user-metrics.csv',\n",
    "'../metrics/slim/2016-05-12_21.05.01_slim_ml-1m_e8_tt-0.2_task-7_user-metrics.csv',\n",
    "'../metrics/slim/2016-05-12_21.05.02_slim_ml-1m_e8_tt-0.2_task-20_user-metrics.csv',\n",
    "'../metrics/slim/2016-05-12_21.05.05_slim_ml-1m_e8_tt-0.2_task-8_user-metrics.csv',\n",
    "'../metrics/slim/2016-05-12_21.05.06_slim_ml-1m_e8_tt-0.2_task-18_user-metrics.csv',\n",
    "'../metrics/slim/2016-05-12_21.05.11_slim_ml-1m_e10_tt-0.2_task-23_user-metrics.csv',\n",
    "'../metrics/slim/2016-05-12_21.05.12_slim_ml-1m_e10_tt-0.2_task-1_user-metrics.csv',\n",
    "'../metrics/slim/2016-05-12_21.05.22_slim_ml-1m_e8_tt-0.2_task-5_user-metrics.csv',\n",
    "'../metrics/slim/2016-05-12_21.05.24_slim_ml-1m_e8_tt-0.2_task-19_user-metrics.csv',\n",
    "'../metrics/slim/2016-05-12_21.05.24_slim_ml-1m_e10_tt-0.2_task-21_user-metrics.csv',\n",
    "'../metrics/slim/2016-05-12_21.05.35_slim_ml-1m_e10_tt-0.2_task-11_user-metrics.csv',\n",
    "'../metrics/slim/2016-05-12_21.05.57_slim_ml-1m_e10_tt-0.2_task-0_user-metrics.csv',\n",
    "'../metrics/slim/2016-05-12_21.05.57_slim_ml-1m_e10_tt-0.2_task-17_user-metrics.csv',\n",
    "'../metrics/slim/2016-05-12_21.20.51_slim_ml-1m_e3_tt-0.2_user-metrics.csv',\n",
    "]"
   ]
  },
  {
   "cell_type": "code",
   "execution_count": 9,
   "metadata": {
    "collapsed": false
   },
   "outputs": [
    {
     "data": {
      "text/plain": [
       "[('../metrics/slim/2016-05-12_21.03.31_slim_ml-1m_e3_tt-0.2_task-16_user-metrics.csv',\n",
       "  0.8507230313839607),\n",
       " ('../metrics/slim/2016-05-12_21.20.51_slim_ml-1m_e3_tt-0.2_user-metrics.csv',\n",
       "  0.8487254816158176),\n",
       " ('../metrics/slim/2016-05-12_21.05.06_slim_ml-1m_e8_tt-0.2_task-18_user-metrics.csv',\n",
       "  0.8425732259742906),\n",
       " ('../metrics/slim/2016-05-12_21.05.24_slim_ml-1m_e10_tt-0.2_task-21_user-metrics.csv',\n",
       "  0.8413169474062631),\n",
       " ('../metrics/slim/2016-05-12_21.05.12_slim_ml-1m_e10_tt-0.2_task-1_user-metrics.csv',\n",
       "  0.8387943528011079),\n",
       " ('../metrics/slim/2016-05-12_21.03.30_slim_ml-1m_e3_tt-0.2_task-12_user-metrics.csv',\n",
       "  0.8387208119342275),\n",
       " ('../metrics/slim/2016-05-12_21.03.26_slim_ml-1m_e3_tt-0.2_task-13_user-metrics.csv',\n",
       "  0.8387186997100226),\n",
       " ('../metrics/slim/2016-05-12_21.04.04_slim_ml-1m_e5_tt-0.2_task-22_user-metrics.csv',\n",
       "  0.8354776730842605),\n",
       " ('../metrics/slim/2016-05-12_21.04.02_slim_ml-1m_e5_tt-0.2_task-3_user-metrics.csv',\n",
       "  0.8354776431488781),\n",
       " ('../metrics/slim/2016-05-12_21.05.01_slim_ml-1m_e8_tt-0.2_task-7_user-metrics.csv',\n",
       "  0.8354709518346133),\n",
       " ('../metrics/slim/2016-05-12_21.05.11_slim_ml-1m_e10_tt-0.2_task-23_user-metrics.csv',\n",
       "  0.8354692687098239),\n",
       " ('../metrics/slim/2016-05-12_21.05.35_slim_ml-1m_e10_tt-0.2_task-11_user-metrics.csv',\n",
       "  0.8329967078746812),\n",
       " ('../metrics/slim/2016-05-12_21.05.57_slim_ml-1m_e10_tt-0.2_task-17_user-metrics.csv',\n",
       "  0.8287777612937),\n",
       " ('../metrics/slim/2016-05-12_21.05.57_slim_ml-1m_e10_tt-0.2_task-0_user-metrics.csv',\n",
       "  0.828774635555262),\n",
       " ('../metrics/slim/2016-05-12_21.05.02_slim_ml-1m_e8_tt-0.2_task-20_user-metrics.csv',\n",
       "  0.8188657082653747),\n",
       " ('../metrics/slim/2016-05-12_21.05.22_slim_ml-1m_e8_tt-0.2_task-5_user-metrics.csv',\n",
       "  0.8120718804840217),\n",
       " ('../metrics/slim/2016-05-12_21.04.22_slim_ml-1m_e5_tt-0.2_task-15_user-metrics.csv',\n",
       "  0.7755284015044833),\n",
       " ('../metrics/slim/2016-05-12_21.03.52_slim_ml-1m_e5_tt-0.2_task-14_user-metrics.csv',\n",
       "  0.7654553039528649),\n",
       " ('../metrics/slim/2016-05-12_21.05.24_slim_ml-1m_e8_tt-0.2_task-19_user-metrics.csv',\n",
       "  0.7528220743460076),\n",
       " ('../metrics/slim/2016-05-12_21.03.50_slim_ml-1m_e5_tt-0.2_task-10_user-metrics.csv',\n",
       "  0.7342778663927437),\n",
       " ('../metrics/slim/2016-05-12_21.03.40_slim_ml-1m_e5_tt-0.2_task-9_user-metrics.csv',\n",
       "  0.7127712754100876),\n",
       " ('../metrics/slim/2016-05-12_21.04.13_slim_ml-1m_e5_tt-0.2_task-2_user-metrics.csv',\n",
       "  0.6859530742101448),\n",
       " ('../metrics/slim/2016-05-12_21.03.34_slim_ml-1m_e3_tt-0.2_task-6_user-metrics.csv',\n",
       "  0.6804413332358995),\n",
       " ('../metrics/slim/2016-05-12_21.05.05_slim_ml-1m_e8_tt-0.2_task-8_user-metrics.csv',\n",
       "  0.6801231978766807),\n",
       " ('../metrics/slim/2016-05-12_21.03.23_slim_ml-1m_e3_tt-0.2_task-4_user-metrics.csv',\n",
       "  0.6793094242712114)]"
      ]
     },
     "execution_count": 9,
     "metadata": {},
     "output_type": "execute_result"
    }
   ],
   "source": [
    "result_map = map(lambda p: (p, pd.read_csv(p)['auc'].mean()), results)\n",
    "sorted(result_map, key=lambda t:t[1], reverse=True)"
   ]
  },
  {
   "cell_type": "code",
   "execution_count": 10,
   "metadata": {
    "collapsed": false
   },
   "outputs": [
    {
     "name": "stdout",
     "output_type": "stream",
     "text": [
      "{   u'alpha': 0.002,\n",
      "    u'binarize': True,\n",
      "    u'binarize_neg': 0,\n",
      "    u'binarize_pos': 1,\n",
      "    u'binarize_threshold': 1,\n",
      "    u'eval_in_parallel': False,\n",
      "    u'experiment_name': u'slim_ml-1m_e3_tt-0.2_task-16',\n",
      "    u'fit_intercept': True,\n",
      "    u'hit_threshold': 4,\n",
      "    u'ignore_negative_weights': False,\n",
      "    u'l1_ratio': 0.5,\n",
      "    u'l1_reg': 0.001,\n",
      "    u'l2_reg': 0.001,\n",
      "    u'metrics_save_dir': u'metrics/slim',\n",
      "    u'model_save_dir': u'models/slim',\n",
      "    u'nb_epochs': 3,\n",
      "    u'pool_size': 2,\n",
      "    u'precision_recall_at_n': 20,\n",
      "    u'ratings_path': u'data/splits/ml-1m/ratings.csv',\n",
      "    u'run_eval': True,\n",
      "    u'run_movie_metrics': False,\n",
      "    u'sparse_item': True,\n",
      "    u'test': True,\n",
      "    u'test_path': u'data/splits/ml-1m/sparse-item/0.2-test.csv',\n",
      "    u'top_n_predictions': 100,\n",
      "    u'train_path': u'data/splits/ml-1m/sparse-item/0.2-train.csv',\n",
      "    u'train_test_split': 0.2,\n",
      "    u'val': False,\n",
      "    u'verbose': 0}\n"
     ]
    }
   ],
   "source": [
    "with open('../models/slim/2016-05-12_21.03.31_slim_ml-1m_e3_tt-0.2_task-16_config.json') as f:\n",
    "    pp.pprint(json.loads(f.read()))"
   ]
  },
  {
   "cell_type": "code",
   "execution_count": 11,
   "metadata": {
    "collapsed": false
   },
   "outputs": [
    {
     "name": "stdout",
     "output_type": "stream",
     "text": [
      "{   u'alpha': 0.0011,\n",
      "    u'binarize': True,\n",
      "    u'binarize_neg': 0,\n",
      "    u'binarize_pos': 1,\n",
      "    u'binarize_threshold': 1,\n",
      "    u'debug_eval': False,\n",
      "    u'eval_in_parallel': True,\n",
      "    u'experiment_name': u'slim_ml-1m_e3_tt-0.2',\n",
      "    u'fit_intercept': True,\n",
      "    u'hit_threshold': 4,\n",
      "    u'ignore_negative_weights': False,\n",
      "    u'l1_ratio': 0.9090909090909091,\n",
      "    u'l1_reg': 0.001,\n",
      "    u'l2_reg': 0.0001,\n",
      "    u'metrics_save_dir': u'metrics/slim',\n",
      "    u'model_save_dir': u'models/slim',\n",
      "    u'nb_epochs': 5,\n",
      "    u'pool_size': 4,\n",
      "    u'precision_recall_at_n': 20,\n",
      "    u'ratings_path': u'data/splits/ml-1m/ratings.csv',\n",
      "    u'run_eval': True,\n",
      "    u'run_movie_metrics': False,\n",
      "    u'sparse_item': True,\n",
      "    u'test': True,\n",
      "    u'test_path': u'data/splits/ml-1m/sparse-item/0.2-test.csv',\n",
      "    u'top_n_predictions': 100,\n",
      "    u'train_path': u'data/splits/ml-1m/sparse-item/0.2-train.csv',\n",
      "    u'train_test_split': 0.2,\n",
      "    u'val': False,\n",
      "    u'verbose': 1}\n"
     ]
    }
   ],
   "source": [
    "with open('../models/slim/2016-05-12_21.20.51_slim_ml-1m_e3_tt-0.2_config.json') as f:\n",
    "    pp.pprint(json.loads(f.read()))"
   ]
  },
  {
   "cell_type": "code",
   "execution_count": 12,
   "metadata": {
    "collapsed": false
   },
   "outputs": [
    {
     "name": "stdout",
     "output_type": "stream",
     "text": [
      "{   u'alpha': 0.0013,\n",
      "    u'binarize': True,\n",
      "    u'binarize_neg': 0,\n",
      "    u'binarize_pos': 1,\n",
      "    u'binarize_threshold': 1,\n",
      "    u'eval_in_parallel': False,\n",
      "    u'experiment_name': u'slim_ml-1m_e8_tt-0.2_task-18',\n",
      "    u'fit_intercept': False,\n",
      "    u'hit_threshold': 4,\n",
      "    u'ignore_negative_weights': True,\n",
      "    u'l1_ratio': 0.23076923076923075,\n",
      "    u'l1_reg': 0.0003,\n",
      "    u'l2_reg': 0.001,\n",
      "    u'metrics_save_dir': u'metrics/slim',\n",
      "    u'model_save_dir': u'models/slim',\n",
      "    u'nb_epochs': 8,\n",
      "    u'pool_size': 2,\n",
      "    u'precision_recall_at_n': 20,\n",
      "    u'ratings_path': u'data/splits/ml-1m/ratings.csv',\n",
      "    u'run_eval': True,\n",
      "    u'run_movie_metrics': False,\n",
      "    u'sparse_item': True,\n",
      "    u'test': True,\n",
      "    u'test_path': u'data/splits/ml-1m/sparse-item/0.2-test.csv',\n",
      "    u'top_n_predictions': 100,\n",
      "    u'train_path': u'data/splits/ml-1m/sparse-item/0.2-train.csv',\n",
      "    u'train_test_split': 0.2,\n",
      "    u'val': False,\n",
      "    u'verbose': 0}\n"
     ]
    }
   ],
   "source": [
    "with open('../models/slim/2016-05-12_21.05.06_slim_ml-1m_e8_tt-0.2_task-18_config.json') as f:\n",
    "    pp.pprint(json.loads(f.read()))"
   ]
  },
  {
   "cell_type": "code",
   "execution_count": null,
   "metadata": {
    "collapsed": true
   },
   "outputs": [],
   "source": []
  }
 ],
 "metadata": {
  "kernelspec": {
   "display_name": "Python 2",
   "language": "python",
   "name": "python2"
  },
  "language_info": {
   "codemirror_mode": {
    "name": "ipython",
    "version": 2
   },
   "file_extension": ".py",
   "mimetype": "text/x-python",
   "name": "python",
   "nbconvert_exporter": "python",
   "pygments_lexer": "ipython2",
   "version": "2.7.11"
  }
 },
 "nbformat": 4,
 "nbformat_minor": 0
}
