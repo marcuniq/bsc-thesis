{
 "cells": [
  {
   "cell_type": "code",
   "execution_count": 1,
   "metadata": {
    "collapsed": true
   },
   "outputs": [],
   "source": [
    "from gensim.models.doc2vec import Doc2Vec\n",
    "import deepdish as dd\n",
    "import numpy as np\n",
    "from scipy import spatial\n",
    "from sklearn.metrics.pairwise import cosine_similarity"
   ]
  },
  {
   "cell_type": "code",
   "execution_count": 2,
   "metadata": {
    "collapsed": true
   },
   "outputs": [],
   "source": [
    "def cosine_sim(v1, v2):\n",
    "    #return cosine_similarity(v1,v2)\n",
    "    #return 1 - spatial.distance.cosine(v1, v2)\n",
    "    return np.sum(v1 * v2) / (np.sqrt(np.sum(np.square(v1))) * np.sqrt(np.sum(np.square(v2))))\n",
    "\n",
    "def angular_sim(v1, v2):\n",
    "    return 1 - (np.arccos(cosine_sim(v1,v2))/np.pi)"
   ]
  },
  {
   "cell_type": "markdown",
   "metadata": {},
   "source": [
    "## Compare DocVecs"
   ]
  },
  {
   "cell_type": "code",
   "execution_count": 3,
   "metadata": {
    "collapsed": true
   },
   "outputs": [],
   "source": [
    "path = '../doc2vec-models/2016-04-14_17.36.08_20e_pv-dbow_size50_lr0.025_window8_neg5'\n",
    "model = Doc2Vec.load(path)"
   ]
  },
  {
   "cell_type": "code",
   "execution_count": 4,
   "metadata": {
    "collapsed": true
   },
   "outputs": [],
   "source": [
    "# jurassic park\n",
    "jp_imdb_id = 107290\n",
    "jp_movie_id = 82\n",
    "# 261 ratings in our ML-100k\n",
    "\n",
    "# jurassic park 2 (Lost World: Jurassic Park, The (1997))\n",
    "jp2_imdb_id = 119567\n",
    "jp2_movie_id = 252\n",
    "# 158 ratings in our ML-100k"
   ]
  },
  {
   "cell_type": "code",
   "execution_count": 5,
   "metadata": {
    "collapsed": false
   },
   "outputs": [
    {
     "data": {
      "text/plain": [
       "0.67955040301080083"
      ]
     },
     "execution_count": 5,
     "metadata": {},
     "output_type": "execute_result"
    }
   ],
   "source": [
    "model.docvecs.similarity('{}.txt'.format(jp_imdb_id),'{}.txt'.format(jp2_imdb_id))"
   ]
  },
  {
   "cell_type": "code",
   "execution_count": 6,
   "metadata": {
    "collapsed": false
   },
   "outputs": [
    {
     "data": {
      "text/plain": [
       "[('16630.txt', 0.11265313625335693),\n",
       " ('36868.txt', 0.09027586132287979),\n",
       " ('98635.txt', 0.08478951454162598),\n",
       " ('89853.txt', 0.08220337331295013),\n",
       " ('99334.txt', 0.0779241994023323),\n",
       " ('57710.txt', 0.07723505795001984),\n",
       " ('113083.txt', 0.07643953710794449),\n",
       " ('168740.txt', 0.07486752420663834),\n",
       " ('189142.txt', 0.06650149822235107),\n",
       " ('156887.txt', 0.04408472776412964)]"
      ]
     },
     "execution_count": 6,
     "metadata": {},
     "output_type": "execute_result"
    }
   ],
   "source": [
    "# disimilar movies to jurassic park\n",
    "model.docvecs.most_similar(negative=['{}.txt'.format(jp_imdb_id)])"
   ]
  },
  {
   "cell_type": "code",
   "execution_count": 7,
   "metadata": {
    "collapsed": true
   },
   "outputs": [],
   "source": [
    "# most dissimilar to jurassic park\n",
    "harry_imdb_id = 98635\n",
    "harry_movie_id = 216\n",
    "# title \"When Harry Met Sally\""
   ]
  },
  {
   "cell_type": "code",
   "execution_count": 8,
   "metadata": {
    "collapsed": true
   },
   "outputs": [],
   "source": [
    "# Scream\n",
    "scr_imdb_id = 117571\n",
    "scr_movie_id = 288\n",
    "\n",
    "# Scream 2\n",
    "scr2_imdb_id = 120082\n",
    "scr2_movie_id = 895"
   ]
  },
  {
   "cell_type": "code",
   "execution_count": 9,
   "metadata": {
    "collapsed": false
   },
   "outputs": [
    {
     "data": {
      "text/plain": [
       "0.75141428516212705"
      ]
     },
     "execution_count": 9,
     "metadata": {},
     "output_type": "execute_result"
    }
   ],
   "source": [
    "model.docvecs.similarity('{}.txt'.format(scr_imdb_id),'{}.txt'.format(scr2_imdb_id))"
   ]
  },
  {
   "cell_type": "code",
   "execution_count": 40,
   "metadata": {
    "collapsed": false
   },
   "outputs": [
    {
     "data": {
      "text/plain": [
       "[('65938.txt', 0.0465000718832016),\n",
       " ('92048.txt', 0.03354673832654953),\n",
       " ('120633.txt', 0.027388297021389008),\n",
       " ('85859.txt', 0.026076868176460266),\n",
       " ('200071.txt', 0.0013969168066978455),\n",
       " ('66473.txt', -0.00011243671178817749),\n",
       " ('110167.txt', -0.0009681433439254761),\n",
       " ('98105.txt', -0.00425439327955246),\n",
       " ('181984.txt', -0.007469929754734039),\n",
       " ('62218.txt', -0.007664471864700317)]"
      ]
     },
     "execution_count": 40,
     "metadata": {},
     "output_type": "execute_result"
    }
   ],
   "source": [
    "# disimilar movies to scream\n",
    "model.docvecs.most_similar(negative=['{}.txt'.format(scr_imdb_id)])"
   ]
  },
  {
   "cell_type": "code",
   "execution_count": 42,
   "metadata": {
    "collapsed": true
   },
   "outputs": [],
   "source": [
    "# dissimilar to scream\n",
    "# Local Hero (1983)\n",
    "hero_imdb_id = 85859\n",
    "hero_movie_id = 516"
   ]
  },
  {
   "cell_type": "code",
   "execution_count": 10,
   "metadata": {
    "collapsed": true
   },
   "outputs": [],
   "source": [
    "# GoldenEye (james bond)\n",
    "ge_imdb_id = 113189\n",
    "ge_movie_id = 2\n",
    "\n",
    "# tomorrow never dies (james bond)\n",
    "tom_imdb_id = 120347\n",
    "tom_movie_id = 751"
   ]
  },
  {
   "cell_type": "code",
   "execution_count": 11,
   "metadata": {
    "collapsed": false
   },
   "outputs": [
    {
     "data": {
      "text/plain": [
       "0.62593487374729428"
      ]
     },
     "execution_count": 11,
     "metadata": {},
     "output_type": "execute_result"
    }
   ],
   "source": [
    "model.docvecs.similarity('{}.txt'.format(ge_imdb_id),'{}.txt'.format(tom_imdb_id))"
   ]
  },
  {
   "cell_type": "code",
   "execution_count": 59,
   "metadata": {
    "collapsed": false
   },
   "outputs": [
    {
     "data": {
      "text/plain": [
       "[('125664.txt', 0.09645520150661469),\n",
       " ('81150.txt', 0.06718134880065918),\n",
       " ('34492.txt', 0.062411241233348846),\n",
       " ('123209.txt', 0.05626177042722702),\n",
       " ('114354.txt', 0.0500088669359684),\n",
       " ('176422.txt', 0.047035086899995804),\n",
       " ('126604.txt', 0.039543554186820984),\n",
       " ('48473.txt', 0.0331258624792099),\n",
       " ('160338.txt', 0.032457709312438965),\n",
       " ('97940.txt', 0.03106977790594101)]"
      ]
     },
     "execution_count": 59,
     "metadata": {},
     "output_type": "execute_result"
    }
   ],
   "source": [
    "# disimilar movies to golden eye\n",
    "model.docvecs.most_similar(negative=['{}.txt'.format(ge_imdb_id)])"
   ]
  },
  {
   "cell_type": "code",
   "execution_count": 60,
   "metadata": {
    "collapsed": true
   },
   "outputs": [],
   "source": [
    "# dissimilar to golden eye\n",
    "# title Pather Panchali (1955)\n",
    "pather_imdb_id = 48473\n",
    "pather_movie_id = 1449"
   ]
  },
  {
   "cell_type": "markdown",
   "metadata": {},
   "source": [
    "# Item Factor Space"
   ]
  },
  {
   "cell_type": "code",
   "execution_count": 12,
   "metadata": {
    "collapsed": true
   },
   "outputs": [],
   "source": [
    "def find_most_similar(i_id, items_map, item_factors):\n",
    "    sim = 0\n",
    "    sim_movie_id = None\n",
    "    for m_id, idx in items_map.iteritems():\n",
    "        cs =cosine_sim(item_factors[i_id], item_factors[idx])\n",
    "        if cs > sim and idx != i_id:\n",
    "            sim = cs\n",
    "            sim_movie_id = m_id\n",
    "    return sim_movie_id, sim"
   ]
  },
  {
   "cell_type": "markdown",
   "metadata": {},
   "source": [
    "## MPCFs ( no side information)"
   ]
  },
  {
   "cell_type": "code",
   "execution_count": 61,
   "metadata": {
    "collapsed": false
   },
   "outputs": [],
   "source": [
    "loaded = dd.io.load('../models/mpcf/2016-06-20_18.30.50_no-si_ml-100k_e20_tt-0.7_base.h5')"
   ]
  },
  {
   "cell_type": "code",
   "execution_count": 62,
   "metadata": {
    "collapsed": false
   },
   "outputs": [],
   "source": [
    "items_map = loaded['items'] # maps movie_id to 0-based index\n",
    "jp_id = items_map[jp_movie_id]\n",
    "jp2_id = items_map[jp2_movie_id]\n",
    "harry_id = items_map[harry_movie_id]\n",
    "scr_id = items_map[scr_movie_id]\n",
    "scr2_id = items_map[scr2_movie_id]\n",
    "hero_id = items_map[hero_movie_id]\n",
    "ge_id = items_map[ge_movie_id]\n",
    "tom_id = items_map[tom_movie_id]\n",
    "pather_id = items_map[pather_movie_id]"
   ]
  },
  {
   "cell_type": "code",
   "execution_count": 63,
   "metadata": {
    "collapsed": true
   },
   "outputs": [],
   "source": [
    "item_factors = loaded['params']['Q']"
   ]
  },
  {
   "cell_type": "markdown",
   "metadata": {},
   "source": [
    "#### cosine similarity"
   ]
  },
  {
   "cell_type": "code",
   "execution_count": 46,
   "metadata": {
    "collapsed": false
   },
   "outputs": [
    {
     "data": {
      "text/plain": [
       "0.30718885690267261"
      ]
     },
     "execution_count": 46,
     "metadata": {},
     "output_type": "execute_result"
    }
   ],
   "source": [
    "cosine_sim(item_factors[jp_id], item_factors[jp2_id])"
   ]
  },
  {
   "cell_type": "code",
   "execution_count": 47,
   "metadata": {
    "collapsed": false
   },
   "outputs": [
    {
     "data": {
      "text/plain": [
       "0.52941647777463263"
      ]
     },
     "execution_count": 47,
     "metadata": {},
     "output_type": "execute_result"
    }
   ],
   "source": [
    "cosine_sim(item_factors[jp_id], item_factors[harry_id])"
   ]
  },
  {
   "cell_type": "code",
   "execution_count": 48,
   "metadata": {
    "collapsed": false
   },
   "outputs": [
    {
     "data": {
      "text/plain": [
       "0.42924343717933044"
      ]
     },
     "execution_count": 48,
     "metadata": {},
     "output_type": "execute_result"
    }
   ],
   "source": [
    "cosine_sim(item_factors[scr_id], item_factors[scr2_id])"
   ]
  },
  {
   "cell_type": "code",
   "execution_count": 49,
   "metadata": {
    "collapsed": false
   },
   "outputs": [
    {
     "data": {
      "text/plain": [
       "-0.35885342322376074"
      ]
     },
     "execution_count": 49,
     "metadata": {},
     "output_type": "execute_result"
    }
   ],
   "source": [
    "cosine_sim(item_factors[scr_id], item_factors[hero_id])"
   ]
  },
  {
   "cell_type": "code",
   "execution_count": 50,
   "metadata": {
    "collapsed": false
   },
   "outputs": [
    {
     "data": {
      "text/plain": [
       "0.074845562271428231"
      ]
     },
     "execution_count": 50,
     "metadata": {},
     "output_type": "execute_result"
    }
   ],
   "source": [
    "cosine_sim(item_factors[ge_id], item_factors[tom_id])"
   ]
  },
  {
   "cell_type": "code",
   "execution_count": 64,
   "metadata": {
    "collapsed": false
   },
   "outputs": [
    {
     "data": {
      "text/plain": [
       "-0.10025061364996828"
      ]
     },
     "execution_count": 64,
     "metadata": {},
     "output_type": "execute_result"
    }
   ],
   "source": [
    "cosine_sim(item_factors[ge_id], item_factors[pather_id])"
   ]
  },
  {
   "cell_type": "code",
   "execution_count": 20,
   "metadata": {
    "collapsed": false
   },
   "outputs": [
    {
     "name": "stdout",
     "output_type": "stream",
     "text": [
      "0.831198273746\n",
      "568\n"
     ]
    }
   ],
   "source": [
    "m_id, sim = find_most_similar(jp_id, items_map, item_factors)\n",
    "print sim\n",
    "print m_id\n",
    "#speed"
   ]
  },
  {
   "cell_type": "code",
   "execution_count": 21,
   "metadata": {
    "collapsed": false
   },
   "outputs": [
    {
     "name": "stdout",
     "output_type": "stream",
     "text": [
      "0.710174697955\n",
      "682\n"
     ]
    }
   ],
   "source": [
    "m_id, sim = find_most_similar(scr2_id, items_map, item_factors)\n",
    "print sim\n",
    "print m_id\n",
    "# I Know What You Did Last Summer"
   ]
  },
  {
   "cell_type": "code",
   "execution_count": 22,
   "metadata": {
    "collapsed": false
   },
   "outputs": [
    {
     "name": "stdout",
     "output_type": "stream",
     "text": [
      "0.836484808542\n",
      "233\n"
     ]
    }
   ],
   "source": [
    "m_id, sim = find_most_similar(ge_id, items_map, item_factors)\n",
    "print sim\n",
    "print m_id\n",
    "# Under Siege"
   ]
  },
  {
   "cell_type": "markdown",
   "metadata": {
    "collapsed": true
   },
   "source": [
    "## MPCFs-SI"
   ]
  },
  {
   "cell_type": "code",
   "execution_count": 65,
   "metadata": {
    "collapsed": true
   },
   "outputs": [],
   "source": [
    "loaded = dd.io.load('../models/mpcf-si/2016-06-27_08.23.04_si_ml-100k_e20_tt-0.7_task-1.h5')"
   ]
  },
  {
   "cell_type": "code",
   "execution_count": 66,
   "metadata": {
    "collapsed": true
   },
   "outputs": [],
   "source": [
    "items_map = loaded['items'] # maps movie_id to 0-based index\n",
    "jp_id = items_map[jp_movie_id]\n",
    "jp2_id = items_map[jp2_movie_id]\n",
    "harry_id = items_map[harry_movie_id]\n",
    "scr_id = items_map[scr_movie_id]\n",
    "scr2_id = items_map[scr2_movie_id]\n",
    "hero_id = items_map[hero_movie_id]\n",
    "ge_id = items_map[ge_movie_id]\n",
    "tom_id = items_map[tom_movie_id]\n",
    "pather_id = items_map[pather_movie_id]"
   ]
  },
  {
   "cell_type": "code",
   "execution_count": 67,
   "metadata": {
    "collapsed": true
   },
   "outputs": [],
   "source": [
    "item_factors = loaded['params']['Q']"
   ]
  },
  {
   "cell_type": "code",
   "execution_count": 54,
   "metadata": {
    "collapsed": false
   },
   "outputs": [
    {
     "data": {
      "text/plain": [
       "0.27337909566927959"
      ]
     },
     "execution_count": 54,
     "metadata": {},
     "output_type": "execute_result"
    }
   ],
   "source": [
    "cosine_sim(item_factors[jp_id], item_factors[jp2_id])"
   ]
  },
  {
   "cell_type": "code",
   "execution_count": 55,
   "metadata": {
    "collapsed": false
   },
   "outputs": [
    {
     "data": {
      "text/plain": [
       "0.4804453126265727"
      ]
     },
     "execution_count": 55,
     "metadata": {},
     "output_type": "execute_result"
    }
   ],
   "source": [
    "cosine_sim(item_factors[jp_id], item_factors[harry_id])"
   ]
  },
  {
   "cell_type": "code",
   "execution_count": 56,
   "metadata": {
    "collapsed": false
   },
   "outputs": [
    {
     "data": {
      "text/plain": [
       "0.5793326054088942"
      ]
     },
     "execution_count": 56,
     "metadata": {},
     "output_type": "execute_result"
    }
   ],
   "source": [
    "cosine_sim(item_factors[scr_id], item_factors[scr2_id])"
   ]
  },
  {
   "cell_type": "code",
   "execution_count": 57,
   "metadata": {
    "collapsed": false
   },
   "outputs": [
    {
     "data": {
      "text/plain": [
       "-0.40875048353675186"
      ]
     },
     "execution_count": 57,
     "metadata": {},
     "output_type": "execute_result"
    }
   ],
   "source": [
    "cosine_sim(item_factors[scr_id], item_factors[hero_id])"
   ]
  },
  {
   "cell_type": "code",
   "execution_count": 58,
   "metadata": {
    "collapsed": false
   },
   "outputs": [
    {
     "data": {
      "text/plain": [
       "0.29936653845439964"
      ]
     },
     "execution_count": 58,
     "metadata": {},
     "output_type": "execute_result"
    }
   ],
   "source": [
    "cosine_sim(item_factors[ge_id], item_factors[tom_id])"
   ]
  },
  {
   "cell_type": "code",
   "execution_count": 68,
   "metadata": {
    "collapsed": false
   },
   "outputs": [
    {
     "data": {
      "text/plain": [
       "-0.16131507567898917"
      ]
     },
     "execution_count": 68,
     "metadata": {},
     "output_type": "execute_result"
    }
   ],
   "source": [
    "cosine_sim(item_factors[ge_id], item_factors[pather_id])"
   ]
  },
  {
   "cell_type": "code",
   "execution_count": 30,
   "metadata": {
    "collapsed": false
   },
   "outputs": [
    {
     "name": "stdout",
     "output_type": "stream",
     "text": [
      "0.775353358153\n",
      "568\n"
     ]
    }
   ],
   "source": [
    "m_id, sim = find_most_similar(jp_id, items_map, item_factors)\n",
    "print sim\n",
    "print m_id\n",
    "#speed"
   ]
  },
  {
   "cell_type": "code",
   "execution_count": 31,
   "metadata": {
    "collapsed": false
   },
   "outputs": [
    {
     "name": "stdout",
     "output_type": "stream",
     "text": [
      "0.62861637397\n",
      "682\n"
     ]
    }
   ],
   "source": [
    "m_id, sim = find_most_similar(scr2_id, items_map, item_factors)\n",
    "print sim\n",
    "print m_id\n",
    "# I Know What You Did Last Summer"
   ]
  },
  {
   "cell_type": "code",
   "execution_count": 32,
   "metadata": {
    "collapsed": false
   },
   "outputs": [
    {
     "name": "stdout",
     "output_type": "stream",
     "text": [
      "0.731727751178\n",
      "231\n"
     ]
    }
   ],
   "source": [
    "m_id, sim = find_most_similar(ge_id, items_map, item_factors)\n",
    "print sim\n",
    "print m_id\n",
    "# Batman Returns"
   ]
  },
  {
   "cell_type": "markdown",
   "metadata": {},
   "source": [
    "### Removes all but 10 ratings of Jurassic Parc and Jurassic Parc 2 in train"
   ]
  },
  {
   "cell_type": "code",
   "execution_count": 33,
   "metadata": {
    "collapsed": true
   },
   "outputs": [],
   "source": [
    "loaded = dd.io.load('../models/mpcf-si/2016-06-21_14.22.39_si_ml-100k_e20_tt-0.7_only-some-jurassic-park.h5')"
   ]
  },
  {
   "cell_type": "code",
   "execution_count": 34,
   "metadata": {
    "collapsed": true
   },
   "outputs": [],
   "source": [
    "item_factors = loaded['params']['Q']\n",
    "items_map = loaded['items'] # maps movie_id to 0-based index\n",
    "jp_id = items_map[jp_movie_id]\n",
    "jp2_id = items_map[jp2_movie_id]\n",
    "harry_id = items_map[harry_movie_id]\n",
    "scr_id = items_map[scr_movie_id]\n",
    "scr2_id = items_map[scr2_movie_id]\n",
    "ge_id = items_map[ge_movie_id]\n",
    "tom_id = items_map[tom_movie_id]\n",
    "pather_id = items_map[pather_movie_id]"
   ]
  },
  {
   "cell_type": "code",
   "execution_count": 35,
   "metadata": {
    "collapsed": false
   },
   "outputs": [
    {
     "data": {
      "text/plain": [
       "0.12227672813951915"
      ]
     },
     "execution_count": 35,
     "metadata": {},
     "output_type": "execute_result"
    }
   ],
   "source": [
    "cosine_sim(item_factors[jp_id], item_factors[jp2_id])"
   ]
  },
  {
   "cell_type": "code",
   "execution_count": 37,
   "metadata": {
    "collapsed": false
   },
   "outputs": [
    {
     "data": {
      "text/plain": [
       "0.25654223392175224"
      ]
     },
     "execution_count": 37,
     "metadata": {},
     "output_type": "execute_result"
    }
   ],
   "source": [
    "cosine_sim(item_factors[jp_id], item_factors[harry_id])"
   ]
  },
  {
   "cell_type": "code",
   "execution_count": 38,
   "metadata": {
    "collapsed": false
   },
   "outputs": [
    {
     "data": {
      "text/plain": [
       "0.40252329571319434"
      ]
     },
     "execution_count": 38,
     "metadata": {},
     "output_type": "execute_result"
    }
   ],
   "source": [
    "cosine_sim(item_factors[scr_id], item_factors[scr2_id])"
   ]
  },
  {
   "cell_type": "code",
   "execution_count": 39,
   "metadata": {
    "collapsed": false
   },
   "outputs": [
    {
     "data": {
      "text/plain": [
       "0.16058223408051639"
      ]
     },
     "execution_count": 39,
     "metadata": {},
     "output_type": "execute_result"
    }
   ],
   "source": [
    "cosine_sim(item_factors[ge_id], item_factors[tom_id])"
   ]
  },
  {
   "cell_type": "code",
   "execution_count": null,
   "metadata": {
    "collapsed": true
   },
   "outputs": [],
   "source": []
  }
 ],
 "metadata": {
  "kernelspec": {
   "display_name": "Python 2",
   "language": "python",
   "name": "python2"
  },
  "language_info": {
   "codemirror_mode": {
    "name": "ipython",
    "version": 2
   },
   "file_extension": ".py",
   "mimetype": "text/x-python",
   "name": "python",
   "nbconvert_exporter": "python",
   "pygments_lexer": "ipython2",
   "version": "2.7.11"
  }
 },
 "nbformat": 4,
 "nbformat_minor": 0
}
