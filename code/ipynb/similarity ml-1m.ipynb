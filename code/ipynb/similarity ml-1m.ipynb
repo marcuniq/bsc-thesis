{
 "cells": [
  {
   "cell_type": "code",
   "execution_count": 1,
   "metadata": {
    "collapsed": true
   },
   "outputs": [],
   "source": [
    "from gensim.models.doc2vec import Doc2Vec\n",
    "import deepdish as dd\n",
    "import numpy as np\n",
    "from scipy import spatial\n",
    "from sklearn.metrics.pairwise import cosine_similarity\n",
    "import pandas as pd\n",
    "from IPython.display import display, HTML"
   ]
  },
  {
   "cell_type": "code",
   "execution_count": 2,
   "metadata": {
    "collapsed": true
   },
   "outputs": [],
   "source": [
    "def cosine_sim(v1, v2):\n",
    "    #return cosine_similarity(v1,v2)\n",
    "    #return 1 - spatial.distance.cosine(v1, v2)\n",
    "    return np.sum(v1 * v2) / (np.sqrt(np.sum(np.square(v1))) * np.sqrt(np.sum(np.square(v2))))\n",
    "\n",
    "def angular_sim(v1, v2):\n",
    "    return 1 - (np.arccos(cosine_sim(v1,v2))/np.pi)"
   ]
  },
  {
   "cell_type": "markdown",
   "metadata": {},
   "source": [
    "# Document Vectors Space"
   ]
  },
  {
   "cell_type": "code",
   "execution_count": 3,
   "metadata": {
    "collapsed": true
   },
   "outputs": [],
   "source": [
    "path = '../doc2vec-models/2016-04-14_17.36.08_20e_pv-dbow_size50_lr0.025_window8_neg5'\n",
    "model = Doc2Vec.load(path)"
   ]
  },
  {
   "cell_type": "code",
   "execution_count": 4,
   "metadata": {
    "collapsed": true
   },
   "outputs": [],
   "source": [
    "# free willy\n",
    "fw_imdb_id = 106965\n",
    "fw_movie_id = 455\n",
    "\n",
    "# free willy 2\n",
    "fw2_imdb_id = 113114\n",
    "fw2_movie_id = 169"
   ]
  },
  {
   "cell_type": "code",
   "execution_count": 5,
   "metadata": {
    "collapsed": false
   },
   "outputs": [
    {
     "data": {
      "text/plain": [
       "0.86940241592695133"
      ]
     },
     "execution_count": 5,
     "metadata": {},
     "output_type": "execute_result"
    }
   ],
   "source": [
    "model.docvecs.similarity('{}.txt'.format(fw_imdb_id),'{}.txt'.format(fw2_imdb_id))"
   ]
  },
  {
   "cell_type": "code",
   "execution_count": 6,
   "metadata": {
    "collapsed": false
   },
   "outputs": [
    {
     "data": {
      "text/plain": [
       "[('113114.txt', 0.8694024085998535),\n",
       " ('119152.txt', 0.8322009444236755),\n",
       " ('91557.txt', 0.6343326568603516),\n",
       " ('77766.txt', 0.629421591758728),\n",
       " ('113028.txt', 0.6236975789070129),\n",
       " ('116329.txt', 0.6219675540924072),\n",
       " ('134619.txt', 0.6181328892707825),\n",
       " ('98627.txt', 0.6160564422607422),\n",
       " ('117427.txt', 0.6138113141059875),\n",
       " ('97388.txt', 0.612464189529419)]"
      ]
     },
     "execution_count": 6,
     "metadata": {},
     "output_type": "execute_result"
    }
   ],
   "source": [
    "# similar movies to free willy\n",
    "# free willy 2 is most similar\n",
    "model.docvecs.most_similar(positive=['{}.txt'.format(fw_imdb_id)])"
   ]
  },
  {
   "cell_type": "code",
   "execution_count": 7,
   "metadata": {
    "collapsed": false
   },
   "outputs": [
    {
     "data": {
      "text/plain": [
       "[('119280.txt', 0.014068834483623505),\n",
       " ('116192.txt', 0.009390600025653839),\n",
       " ('110588.txt', 0.00923667848110199),\n",
       " ('113987.txt', 0.000695057213306427),\n",
       " ('59319.txt', -0.0006838738918304443),\n",
       " ('96332.txt', -0.0033706873655319214),\n",
       " ('117561.txt', -0.019551947712898254),\n",
       " ('144214.txt', -0.020484495908021927),\n",
       " ('112346.txt', -0.023167015984654427),\n",
       " ('125439.txt', -0.028610385954380035)]"
      ]
     },
     "execution_count": 7,
     "metadata": {},
     "output_type": "execute_result"
    }
   ],
   "source": [
    "# disimilar movies to free willy\n",
    "model.docvecs.most_similar(negative=['{}.txt'.format(fw_imdb_id)])"
   ]
  },
  {
   "cell_type": "code",
   "execution_count": 8,
   "metadata": {
    "collapsed": true
   },
   "outputs": [],
   "source": [
    "# dissimilar to free willy\n",
    "# Mrs. Brown, drama/romance\n",
    "brown_imdb_id = 119280\n",
    "brown_movie_id = 1643"
   ]
  },
  {
   "cell_type": "code",
   "execution_count": 9,
   "metadata": {
    "collapsed": false
   },
   "outputs": [
    {
     "data": {
      "text/plain": [
       "-0.014068827695707734"
      ]
     },
     "execution_count": 9,
     "metadata": {},
     "output_type": "execute_result"
    }
   ],
   "source": [
    "model.docvecs.similarity('{}.txt'.format(fw_imdb_id),'{}.txt'.format(brown_imdb_id))"
   ]
  },
  {
   "cell_type": "code",
   "execution_count": 10,
   "metadata": {
    "collapsed": true
   },
   "outputs": [],
   "source": [
    "# jurassic park\n",
    "jp_imdb_id = 107290\n",
    "jp_movie_id = 480\n",
    "\n",
    "# jurassic park 2\n",
    "jp2_imdb_id = 119567\n",
    "jp2_movie_id = 1544"
   ]
  },
  {
   "cell_type": "code",
   "execution_count": 11,
   "metadata": {
    "collapsed": false
   },
   "outputs": [
    {
     "data": {
      "text/plain": [
       "0.67955040301080083"
      ]
     },
     "execution_count": 11,
     "metadata": {},
     "output_type": "execute_result"
    }
   ],
   "source": [
    "model.docvecs.similarity('{}.txt'.format(jp_imdb_id),'{}.txt'.format(jp2_imdb_id))"
   ]
  },
  {
   "cell_type": "code",
   "execution_count": 12,
   "metadata": {
    "collapsed": false
   },
   "outputs": [
    {
     "data": {
      "text/plain": [
       "[('119675.txt', 0.7279843091964722),\n",
       " ('119567.txt', 0.679550290107727),\n",
       " ('120004.txt', 0.6715301871299744),\n",
       " ('90605.txt', 0.6436644792556763),\n",
       " ('118928.txt', 0.633784294128418),\n",
       " ('97443.txt', 0.6167540550231934),\n",
       " ('117998.txt', 0.6146465539932251),\n",
       " ('56931.txt', 0.6136928200721741),\n",
       " ('88760.txt', 0.6116420030593872),\n",
       " ('118689.txt', 0.5930735468864441)]"
      ]
     },
     "execution_count": 12,
     "metadata": {},
     "output_type": "execute_result"
    }
   ],
   "source": [
    "# similar movies to jurassic park\n",
    "# jurassic park 2 is second most similar movie\n",
    "model.docvecs.most_similar(positive=['{}.txt'.format(jp_imdb_id)])"
   ]
  },
  {
   "cell_type": "code",
   "execution_count": 13,
   "metadata": {
    "collapsed": false
   },
   "outputs": [
    {
     "data": {
      "text/plain": [
       "[('16630.txt', 0.11265313625335693),\n",
       " ('36868.txt', 0.09027586132287979),\n",
       " ('98635.txt', 0.08478951454162598),\n",
       " ('89853.txt', 0.08220337331295013),\n",
       " ('99334.txt', 0.0779241994023323),\n",
       " ('57710.txt', 0.07723505795001984),\n",
       " ('113083.txt', 0.07643953710794449),\n",
       " ('168740.txt', 0.07486752420663834),\n",
       " ('189142.txt', 0.06650149822235107),\n",
       " ('156887.txt', 0.04408472776412964)]"
      ]
     },
     "execution_count": 13,
     "metadata": {},
     "output_type": "execute_result"
    }
   ],
   "source": [
    "# disimilar movies to jurassic park\n",
    "model.docvecs.most_similar(negative=['{}.txt'.format(jp_imdb_id)])"
   ]
  },
  {
   "cell_type": "code",
   "execution_count": 14,
   "metadata": {
    "collapsed": true
   },
   "outputs": [],
   "source": [
    "# most dissimilar to jurassic park\n",
    "# Battling Butler, comedy\n",
    "butler_imdb_id = 16630\n",
    "butler_movie_id = 3012"
   ]
  },
  {
   "cell_type": "code",
   "execution_count": 15,
   "metadata": {
    "collapsed": false
   },
   "outputs": [
    {
     "data": {
      "text/plain": [
       "-0.11265313836867154"
      ]
     },
     "execution_count": 15,
     "metadata": {},
     "output_type": "execute_result"
    }
   ],
   "source": [
    "model.docvecs.similarity('{}.txt'.format(jp_imdb_id),'{}.txt'.format(butler_imdb_id))"
   ]
  },
  {
   "cell_type": "code",
   "execution_count": 16,
   "metadata": {
    "collapsed": true
   },
   "outputs": [],
   "source": [
    "# scream\n",
    "scr_imdb_id = 117571\n",
    "scr_movie_id = 1407\n",
    "\n",
    "# scream 2\n",
    "scr2_imdb_id = 120082\n",
    "scr2_movie_id = 1717"
   ]
  },
  {
   "cell_type": "code",
   "execution_count": 17,
   "metadata": {
    "collapsed": false
   },
   "outputs": [
    {
     "data": {
      "text/plain": [
       "0.75141428516212705"
      ]
     },
     "execution_count": 17,
     "metadata": {},
     "output_type": "execute_result"
    }
   ],
   "source": [
    "model.docvecs.similarity('{}.txt'.format(scr_imdb_id),'{}.txt'.format(scr2_imdb_id))"
   ]
  },
  {
   "cell_type": "code",
   "execution_count": 18,
   "metadata": {
    "collapsed": false
   },
   "outputs": [
    {
     "data": {
      "text/plain": [
       "[('134084.txt', 0.7863492369651794),\n",
       " ('120082.txt', 0.7514142394065857),\n",
       " ('91954.txt', 0.6668806076049805),\n",
       " ('155776.txt', 0.6493260264396667),\n",
       " ('111686.txt', 0.6400280594825745),\n",
       " ('146336.txt', 0.636536180973053),\n",
       " ('192731.txt', 0.6228945851325989),\n",
       " ('204626.txt', 0.616219699382782),\n",
       " ('110632.txt', 0.6104223728179932),\n",
       " ('103919.txt', 0.6087551712989807)]"
      ]
     },
     "execution_count": 18,
     "metadata": {},
     "output_type": "execute_result"
    }
   ],
   "source": [
    "# similar movies to scream\n",
    "# scream 2 is second most similar\n",
    "model.docvecs.most_similar(positive=['{}.txt'.format(scr_imdb_id)])"
   ]
  },
  {
   "cell_type": "code",
   "execution_count": 19,
   "metadata": {
    "collapsed": false
   },
   "outputs": [
    {
     "data": {
      "text/plain": [
       "[('65938.txt', 0.0465000718832016),\n",
       " ('92048.txt', 0.03354673832654953),\n",
       " ('120633.txt', 0.027388297021389008),\n",
       " ('85859.txt', 0.026076868176460266),\n",
       " ('200071.txt', 0.0013969168066978455),\n",
       " ('66473.txt', -0.00011243671178817749),\n",
       " ('110167.txt', -0.0009681433439254761),\n",
       " ('98105.txt', -0.00425439327955246),\n",
       " ('181984.txt', -0.007469929754734039),\n",
       " ('62218.txt', -0.007664471864700317)]"
      ]
     },
     "execution_count": 19,
     "metadata": {},
     "output_type": "execute_result"
    }
   ],
   "source": [
    "# disimilar movies to scream\n",
    "model.docvecs.most_similar(negative=['{}.txt'.format(scr_imdb_id)])"
   ]
  },
  {
   "cell_type": "code",
   "execution_count": 20,
   "metadata": {
    "collapsed": true
   },
   "outputs": [],
   "source": [
    "# most dissimilar to scream\n",
    "# Kelly's Heroes\n",
    "kelly_imdb_id = 65938\n",
    "kelly_movie_id = 3836"
   ]
  },
  {
   "cell_type": "code",
   "execution_count": 21,
   "metadata": {
    "collapsed": false
   },
   "outputs": [
    {
     "data": {
      "text/plain": [
       "-0.04650007406425781"
      ]
     },
     "execution_count": 21,
     "metadata": {},
     "output_type": "execute_result"
    }
   ],
   "source": [
    "model.docvecs.similarity('{}.txt'.format(scr_imdb_id),'{}.txt'.format(kelly_imdb_id))"
   ]
  },
  {
   "cell_type": "code",
   "execution_count": 22,
   "metadata": {
    "collapsed": true
   },
   "outputs": [],
   "source": [
    "# species\n",
    "sp_imdb_id = 114508\n",
    "sp_movie_id = 196\n",
    "\n",
    "# species 2\n",
    "sp2_imdb_id = 120841\n",
    "sp2_movie_id = 1862"
   ]
  },
  {
   "cell_type": "code",
   "execution_count": 23,
   "metadata": {
    "collapsed": false
   },
   "outputs": [
    {
     "data": {
      "text/plain": [
       "0.68311800802591438"
      ]
     },
     "execution_count": 23,
     "metadata": {},
     "output_type": "execute_result"
    }
   ],
   "source": [
    "model.docvecs.similarity('{}.txt'.format(sp_imdb_id),'{}.txt'.format(sp2_imdb_id))"
   ]
  },
  {
   "cell_type": "code",
   "execution_count": 24,
   "metadata": {
    "collapsed": false
   },
   "outputs": [
    {
     "data": {
      "text/plain": [
       "[('120841.txt', 0.6831179857254028),\n",
       " ('90583.txt', 0.6602948904037476),\n",
       " ('204626.txt', 0.6501474976539612),\n",
       " ('139239.txt', 0.6449568271636963),\n",
       " ('105226.txt', 0.6214965581893921),\n",
       " ('164052.txt', 0.6181344389915466),\n",
       " ('95179.txt', 0.6133553981781006),\n",
       " ('84783.txt', 0.6096972823143005),\n",
       " ('115710.txt', 0.6073347926139832),\n",
       " ('82533.txt', 0.6071861982345581)]"
      ]
     },
     "execution_count": 24,
     "metadata": {},
     "output_type": "execute_result"
    }
   ],
   "source": [
    "# similar movies to species\n",
    "# species 2 is most similar\n",
    "model.docvecs.most_similar(positive=['{}.txt'.format(sp_imdb_id)])"
   ]
  },
  {
   "cell_type": "code",
   "execution_count": 25,
   "metadata": {
    "collapsed": false
   },
   "outputs": [
    {
     "data": {
      "text/plain": [
       "[('66206.txt', 0.07634155452251434),\n",
       " ('16630.txt', 0.0496206060051918),\n",
       " ('57546.txt', 0.04905722290277481),\n",
       " ('50825.txt', 0.04533801227807999),\n",
       " ('75232.txt', 0.040982794016599655),\n",
       " ('76137.txt', 0.03134193271398544),\n",
       " ('106226.txt', 0.029320180416107178),\n",
       " ('107501.txt', 0.020478807389736176),\n",
       " ('75704.txt', 0.018507108092308044),\n",
       " ('43274.txt', 0.011801136657595634)]"
      ]
     },
     "execution_count": 25,
     "metadata": {},
     "output_type": "execute_result"
    }
   ],
   "source": [
    "# disimilar movies to species\n",
    "model.docvecs.most_similar(negative=['{}.txt'.format(sp_imdb_id)])"
   ]
  },
  {
   "cell_type": "code",
   "execution_count": 26,
   "metadata": {
    "collapsed": true
   },
   "outputs": [],
   "source": [
    "# most disimilar to species\n",
    "# Patton\n",
    "patton_imdb_id = 66206\n",
    "patton_movie_id = 1272"
   ]
  },
  {
   "cell_type": "code",
   "execution_count": 27,
   "metadata": {
    "collapsed": false
   },
   "outputs": [
    {
     "data": {
      "text/plain": [
       "-0.076341565258958299"
      ]
     },
     "execution_count": 27,
     "metadata": {},
     "output_type": "execute_result"
    }
   ],
   "source": [
    "model.docvecs.similarity('{}.txt'.format(sp_imdb_id),'{}.txt'.format(patton_imdb_id))"
   ]
  },
  {
   "cell_type": "code",
   "execution_count": 28,
   "metadata": {
    "collapsed": true
   },
   "outputs": [],
   "source": [
    "# star wars episode v\n",
    "swv_imdb_id = 80684\n",
    "swv_movie_id = 1196\n",
    "\n",
    "# star wars episode vi\n",
    "swvi_imdb_id = 86190\n",
    "swvi_movie_id = 1210"
   ]
  },
  {
   "cell_type": "code",
   "execution_count": 29,
   "metadata": {
    "collapsed": false
   },
   "outputs": [
    {
     "data": {
      "text/plain": [
       "0.92307505174504856"
      ]
     },
     "execution_count": 29,
     "metadata": {},
     "output_type": "execute_result"
    }
   ],
   "source": [
    "model.docvecs.similarity('{}.txt'.format(swv_imdb_id),'{}.txt'.format(swvi_imdb_id))"
   ]
  },
  {
   "cell_type": "code",
   "execution_count": 30,
   "metadata": {
    "collapsed": false
   },
   "outputs": [
    {
     "data": {
      "text/plain": [
       "[('86190.txt', 0.9230749607086182),\n",
       " ('120915.txt', 0.8119794130325317),\n",
       " ('76759.txt', 0.8067136406898499),\n",
       " ('84827.txt', 0.7332901954650879),\n",
       " ('120738.txt', 0.7259986400604248),\n",
       " ('117731.txt', 0.6888055801391602),\n",
       " ('119707.txt', 0.6791511178016663),\n",
       " ('70909.txt', 0.6599252820014954),\n",
       " ('97368.txt', 0.6569679379463196),\n",
       " ('84315.txt', 0.6349420547485352)]"
      ]
     },
     "execution_count": 30,
     "metadata": {},
     "output_type": "execute_result"
    }
   ],
   "source": [
    "# similar movies to star wars episode v\n",
    "# star wars episode vi is most similar\n",
    "model.docvecs.most_similar(positive=['{}.txt'.format(swv_imdb_id)])"
   ]
  },
  {
   "cell_type": "code",
   "execution_count": 31,
   "metadata": {
    "collapsed": false
   },
   "outputs": [
    {
     "data": {
      "text/plain": [
       "[('145653.txt', 0.01300012692809105),\n",
       " ('94155.txt', 0.010185103863477707),\n",
       " ('217630.txt', 0.0010292734950780869),\n",
       " ('104797.txt', 0.0009782575070858002),\n",
       " ('90863.txt', -0.009507261216640472),\n",
       " ('37884.txt', -0.010835811495780945),\n",
       " ('91024.txt', -0.011850625276565552),\n",
       " ('97322.txt', -0.016994968056678772),\n",
       " ('166396.txt', -0.02006503939628601),\n",
       " ('118556.txt', -0.02777113951742649)]"
      ]
     },
     "execution_count": 31,
     "metadata": {},
     "output_type": "execute_result"
    }
   ],
   "source": [
    "# disimilar movies to star wars episode v\n",
    "model.docvecs.most_similar(negative=['{}.txt'.format(swv_imdb_id)])"
   ]
  },
  {
   "cell_type": "code",
   "execution_count": 32,
   "metadata": {
    "collapsed": true
   },
   "outputs": [],
   "source": [
    "# most disimilar to star wars\n",
    "# Angela\\'s Ashes\n",
    "angela_imdb_id = 145653\n",
    "angela_movie_id = 3179"
   ]
  },
  {
   "cell_type": "code",
   "execution_count": 33,
   "metadata": {
    "collapsed": false
   },
   "outputs": [
    {
     "data": {
      "text/plain": [
       "-0.013000124588363082"
      ]
     },
     "execution_count": 33,
     "metadata": {},
     "output_type": "execute_result"
    }
   ],
   "source": [
    "model.docvecs.similarity('{}.txt'.format(swv_imdb_id),'{}.txt'.format(angela_imdb_id))"
   ]
  },
  {
   "cell_type": "code",
   "execution_count": 34,
   "metadata": {
    "collapsed": true
   },
   "outputs": [],
   "source": [
    "# toy story\n",
    "ts_imdb_id = 114709\n",
    "ts_movie_id = 1\n",
    "\n",
    "# toy story 2\n",
    "ts2_imdb_id = 120363\n",
    "ts2_movie_id = 3114"
   ]
  },
  {
   "cell_type": "code",
   "execution_count": 35,
   "metadata": {
    "collapsed": false
   },
   "outputs": [
    {
     "data": {
      "text/plain": [
       "0.75291341575190129"
      ]
     },
     "execution_count": 35,
     "metadata": {},
     "output_type": "execute_result"
    }
   ],
   "source": [
    "model.docvecs.similarity('{}.txt'.format(ts_imdb_id),'{}.txt'.format(ts2_imdb_id))"
   ]
  },
  {
   "cell_type": "code",
   "execution_count": 36,
   "metadata": {
    "collapsed": false
   },
   "outputs": [
    {
     "data": {
      "text/plain": [
       "[('120363.txt', 0.7529133558273315),\n",
       " ('115433.txt', 0.6592516303062439),\n",
       " ('89961.txt', 0.6522800922393799),\n",
       " ('33563.txt', 0.6440500617027283),\n",
       " ('120913.txt', 0.6346996426582336),\n",
       " ('55254.txt', 0.6268846988677979),\n",
       " ('122718.txt', 0.6225907206535339),\n",
       " ('101329.txt', 0.618421196937561),\n",
       " ('96787.txt', 0.6112702488899231),\n",
       " ('84649.txt', 0.6037213802337646)]"
      ]
     },
     "execution_count": 36,
     "metadata": {},
     "output_type": "execute_result"
    }
   ],
   "source": [
    "# similar movies to toy story\n",
    "# toy story 2 is most similar\n",
    "model.docvecs.most_similar(positive=['{}.txt'.format(ts_imdb_id)])"
   ]
  },
  {
   "cell_type": "code",
   "execution_count": 37,
   "metadata": {
    "collapsed": false
   },
   "outputs": [
    {
     "data": {
      "text/plain": [
       "[('101640.txt', 0.02567880228161812),\n",
       " ('112857.txt', 0.02182948589324951),\n",
       " ('118798.txt', 0.019348686560988426),\n",
       " ('74958.txt', 0.018655510619282722),\n",
       " ('112714.txt', 0.014902409166097641),\n",
       " ('109450.txt', 0.0139361172914505),\n",
       " ('48254.txt', 0.01313953846693039),\n",
       " ('123385.txt', 0.007183991372585297),\n",
       " ('96073.txt', 0.003403082489967346),\n",
       " ('119375.txt', -0.0002711638808250427)]"
      ]
     },
     "execution_count": 37,
     "metadata": {},
     "output_type": "execute_result"
    }
   ],
   "source": [
    "# disimilar movies to toy story\n",
    "model.docvecs.most_similar(negative=['{}.txt'.format(ts_imdb_id)])"
   ]
  },
  {
   "cell_type": "code",
   "execution_count": 38,
   "metadata": {
    "collapsed": true
   },
   "outputs": [],
   "source": [
    "# most disimilar to toy story\n",
    "# Raise the Red Lantern\n",
    "lantern_imdb_id = 101640\n",
    "lantern_movie_id = 1280"
   ]
  },
  {
   "cell_type": "code",
   "execution_count": 39,
   "metadata": {
    "collapsed": false
   },
   "outputs": [
    {
     "data": {
      "text/plain": [
       "-0.025678801003992269"
      ]
     },
     "execution_count": 39,
     "metadata": {},
     "output_type": "execute_result"
    }
   ],
   "source": [
    "model.docvecs.similarity('{}.txt'.format(ts_imdb_id),'{}.txt'.format(lantern_imdb_id))"
   ]
  },
  {
   "cell_type": "markdown",
   "metadata": {},
   "source": [
    "# Item Factor Space"
   ]
  },
  {
   "cell_type": "code",
   "execution_count": 40,
   "metadata": {
    "collapsed": false
   },
   "outputs": [],
   "source": [
    "def find_most_similar(i_id, items_map, item_factors, df_movies, asc=False):\n",
    "    results = []\n",
    "    sim = 0\n",
    "    sim_movie_id = None\n",
    "    for m_id, idx in items_map.iteritems():\n",
    "        if idx != i_id:\n",
    "            cs = cosine_sim(item_factors[i_id], item_factors[idx])\n",
    "            results.append({'movie_id': m_id, 'sim': cs})\n",
    "    \n",
    "    df_results = pd.DataFrame(results).merge(df_movies, on='movie_id', how='inner')\n",
    "    \n",
    "    return df_results.sort_values('sim', ascending=asc).reset_index(drop=True)\n",
    "\n",
    "df_movies = pd.read_csv('../data/ml-1m/processed/movies-enhanced.csv')\n",
    "df_movies = df_movies[['movie_id', 'title', 'genres']]\n",
    "\n",
    "def get_cosine_sim(path, movie_id1, movie_id2):\n",
    "    loaded = dd.io.load(path)\n",
    "    items_map = loaded['movies'] if 'movies' in loaded else loaded['items']# maps movie_id to 0-based index\n",
    "    item_factors = loaded['params']['Q']\n",
    "    \n",
    "    iid1 = items_map[movie_id1]\n",
    "    iid2 = items_map[movie_id2]\n",
    "    return cosine_sim(item_factors[iid1], item_factors[iid2])\n",
    "\n",
    "def get_avg_cosine_sim(paths):\n",
    "    print \"Free Willy - Free Willy 2 (similar in Doc2Vec):\", np.mean([get_cosine_sim(p, fw_movie_id, fw2_movie_id) for p in paths])\n",
    "    print \"Free Willy - Mrs. Brown (dissimilar in Doc2Vec):\", np.mean([get_cosine_sim(p, fw_movie_id, brown_movie_id) for p in paths])\n",
    "    print\n",
    "    \n",
    "    print \"Jurassic Park - Jurassic Park 2 (similar in Doc2Vec):\",np.mean([get_cosine_sim(p, jp_movie_id, jp2_movie_id) for p in paths])\n",
    "    print \"Jurassic Park - Battling Butler (dissimilar in Doc2Vec):\", np.mean([get_cosine_sim(p, jp_movie_id, butler_movie_id) for p in paths])\n",
    "    print\n",
    "    \n",
    "    print \"Scream - Scream 2 (similar in Doc2Vec):\", np.mean([get_cosine_sim(p, scr_movie_id, scr2_movie_id) for p in paths])\n",
    "    print \"Scream - Kelly's Heroes (dissimilar in Doc2Vec):\",np.mean([get_cosine_sim(p, scr_movie_id, kelly_movie_id) for p in paths])\n",
    "    print\n",
    "    \n",
    "    print \"Species - Species II (similar in Doc2Vec):\", np.mean([get_cosine_sim(p, sp_movie_id, sp2_movie_id) for p in paths])\n",
    "    print \"Species - Patton (dissimilar in Doc2Vec):\",np.mean([get_cosine_sim(p, sp_movie_id, patton_movie_id) for p in paths])\n",
    "    print\n",
    "    \n",
    "    print \"Star Wars V - Star Wars VI (similar in Doc2Vec):\", np.mean([get_cosine_sim(p, swv_movie_id, swvi_movie_id) for p in paths])\n",
    "    print \"Star Wars V - Angela's Ashes (dissimilar in Doc2Vec):\", np.mean([get_cosine_sim(p, swv_movie_id, angela_movie_id) for p in paths])\n",
    "    print\n",
    "    \n",
    "    print \"Toy Story - Toy Story 2 (similar in Doc2Vec):\",np.mean([get_cosine_sim(p, ts_movie_id, ts2_movie_id) for p in paths])\n",
    "    print \"Toy Story - Raise the Red Lantern (dissimilar in Doc2Vec):\",np.mean([get_cosine_sim(p, ts_movie_id, lantern_movie_id) for p in paths])\n",
    "\n",
    "def print_similarities(path, nb_similar=10):\n",
    "    loaded = dd.io.load(path)\n",
    "    items_map = loaded['movies'] if 'movies' in loaded else loaded['items']# maps movie_id to 0-based index\n",
    "    item_factors = loaded['params']['Q']\n",
    "\n",
    "    fw_id = items_map[fw_movie_id]\n",
    "    fw2_id = items_map[fw2_movie_id]\n",
    "    brown_id = items_map[brown_movie_id]\n",
    "    print \"Free Willy - Free Willy 2 (similar in Doc2Vec):\", cosine_sim(item_factors[fw_id], item_factors[fw2_id])\n",
    "    print \"Free Willy - Mrs. Brown (dissimilar in Doc2Vec):\", cosine_sim(item_factors[fw_id], item_factors[brown_id])\n",
    "    print \"most similar to Free Willy\"\n",
    "    df_fw_sim = find_most_similar(fw_id, items_map, item_factors, df_movies)\n",
    "    display(df_fw_sim[:nb_similar])\n",
    "    print\n",
    "\n",
    "    jp_id = items_map[jp_movie_id]\n",
    "    jp2_id = items_map[jp2_movie_id]\n",
    "    butler_id = items_map[butler_movie_id]\n",
    "    print \"Jurassic Park - Jurassic Park 2 (similar in Doc2Vec):\", cosine_sim(item_factors[jp_id], item_factors[jp2_id])\n",
    "    print \"Jurassic Park - Battling Butler (dissimilar in Doc2Vec):\", cosine_sim(item_factors[jp_id], item_factors[butler_id])\n",
    "    print \"most similar to Jurassic Park\"\n",
    "    df_jp_sim = find_most_similar(jp_id, items_map, item_factors, df_movies)\n",
    "    display(df_jp_sim[:nb_similar])\n",
    "    print\n",
    "\n",
    "    scr_id = items_map[scr_movie_id]\n",
    "    scr2_id = items_map[scr2_movie_id]\n",
    "    kelly_id = items_map[kelly_movie_id]\n",
    "    print \"Scream - Scream 2 (similar in Doc2Vec):\", cosine_sim(item_factors[scr_id], item_factors[scr2_id])\n",
    "    print \"Scream - Kelly's Heroes (dissimilar in Doc2Vec):\", cosine_sim(item_factors[scr_id], item_factors[kelly_id])\n",
    "    print \"most similar to Scream\"\n",
    "    df_scr_sim = find_most_similar(scr_id, items_map, item_factors, df_movies)\n",
    "    display(df_scr_sim[:nb_similar])\n",
    "    print\n",
    "\n",
    "    sp_id = items_map[sp_movie_id]\n",
    "    sp2_id = items_map[sp2_movie_id]\n",
    "    patton_id = items_map[patton_movie_id]\n",
    "    print \"Species - Species II (similar in Doc2Vec):\", cosine_sim(item_factors[sp_id], item_factors[sp2_id])\n",
    "    print \"Species - Patton (dissimilar in Doc2Vec):\", cosine_sim(item_factors[sp_id], item_factors[patton_id])\n",
    "    print \"most similar to Species\"\n",
    "    df_sp_sim = find_most_similar(sp_id, items_map, item_factors, df_movies)\n",
    "    display(df_sp_sim[:nb_similar])\n",
    "    print\n",
    "\n",
    "    swv_id = items_map[swv_movie_id]\n",
    "    swvi_id = items_map[swvi_movie_id]\n",
    "    angela_id = items_map[angela_movie_id]\n",
    "    print \"Star Wars V - Star Wars VI (similar in Doc2Vec):\", cosine_sim(item_factors[swv_id], item_factors[swvi_id])\n",
    "    print \"Star Wars V - Angela's Ashes (dissimilar in Doc2Vec):\", cosine_sim(item_factors[swv_id], item_factors[angela_id])\n",
    "    print \"most similar to Star Wars V\"\n",
    "    df_swv_sim = find_most_similar(swv_id, items_map, item_factors, df_movies)\n",
    "    display(df_swv_sim[:nb_similar])\n",
    "    print\n",
    "\n",
    "    ts_id = items_map[ts_movie_id]\n",
    "    ts2_id = items_map[ts2_movie_id]\n",
    "    lantern_id = items_map[lantern_movie_id]\n",
    "    print \"Toy Story - Toy Story 2 (similar in Doc2Vec):\", cosine_sim(item_factors[ts_id], item_factors[ts2_id])\n",
    "    print \"Toy Story - Raise the Red Lantern (dissimilar in Doc2Vec):\", cosine_sim(item_factors[ts_id], item_factors[lantern_id])\n",
    "    print \"most similar to Toy Story\"\n",
    "    df_ts_sim = find_most_similar(ts_id, items_map, item_factors, df_movies)\n",
    "    display(df_ts_sim[:nb_similar])"
   ]
  },
  {
   "cell_type": "markdown",
   "metadata": {},
   "source": [
    "## MPCFs (No side information)"
   ]
  },
  {
   "cell_type": "code",
   "execution_count": 41,
   "metadata": {
    "collapsed": false,
    "scrolled": false
   },
   "outputs": [
    {
     "name": "stdout",
     "output_type": "stream",
     "text": [
      "Free Willy - Free Willy 2 (similar in Doc2Vec): 0.692309544564\n",
      "Free Willy - Mrs. Brown (dissimilar in Doc2Vec): -0.0310242412934\n",
      "most similar to Free Willy\n"
     ]
    },
    {
     "data": {
      "text/html": [
       "<div>\n",
       "<table border=\"1\" class=\"dataframe\">\n",
       "  <thead>\n",
       "    <tr style=\"text-align: right;\">\n",
       "      <th></th>\n",
       "      <th>movie_id</th>\n",
       "      <th>sim</th>\n",
       "      <th>title</th>\n",
       "      <th>genres</th>\n",
       "    </tr>\n",
       "  </thead>\n",
       "  <tbody>\n",
       "    <tr>\n",
       "      <th>0</th>\n",
       "      <td>169</td>\n",
       "      <td>0.692310</td>\n",
       "      <td>Free Willy 2: The Adventure Home</td>\n",
       "      <td>[\"Adventure\",\"Children\",\"Drama\"]</td>\n",
       "    </tr>\n",
       "    <tr>\n",
       "      <th>1</th>\n",
       "      <td>1359</td>\n",
       "      <td>0.612439</td>\n",
       "      <td>Jingle All the Way</td>\n",
       "      <td>[\"Children\",\"Comedy\"]</td>\n",
       "    </tr>\n",
       "    <tr>\n",
       "      <th>2</th>\n",
       "      <td>2429</td>\n",
       "      <td>0.587270</td>\n",
       "      <td>Mighty Joe Young</td>\n",
       "      <td>[\"Action\",\"Adventure\",\"Drama\",\"Fantasy\",\"Thril...</td>\n",
       "    </tr>\n",
       "    <tr>\n",
       "      <th>3</th>\n",
       "      <td>1595</td>\n",
       "      <td>0.564771</td>\n",
       "      <td>Free Willy 3: The Rescue</td>\n",
       "      <td>[\"Adventure\",\"Children\",\"Drama\"]</td>\n",
       "    </tr>\n",
       "    <tr>\n",
       "      <th>4</th>\n",
       "      <td>1015</td>\n",
       "      <td>0.522669</td>\n",
       "      <td>Homeward Bound: The Incredible Journey</td>\n",
       "      <td>[\"Adventure\",\"Children\",\"Drama\"]</td>\n",
       "    </tr>\n",
       "    <tr>\n",
       "      <th>5</th>\n",
       "      <td>158</td>\n",
       "      <td>0.511294</td>\n",
       "      <td>Casper</td>\n",
       "      <td>[\"Adventure\",\"Children\"]</td>\n",
       "    </tr>\n",
       "    <tr>\n",
       "      <th>6</th>\n",
       "      <td>711</td>\n",
       "      <td>0.510071</td>\n",
       "      <td>Flipper</td>\n",
       "      <td>[\"Adventure\",\"Children\"]</td>\n",
       "    </tr>\n",
       "    <tr>\n",
       "      <th>7</th>\n",
       "      <td>3672</td>\n",
       "      <td>0.494547</td>\n",
       "      <td>Benji</td>\n",
       "      <td>[\"Adventure\",\"Children\"]</td>\n",
       "    </tr>\n",
       "    <tr>\n",
       "      <th>8</th>\n",
       "      <td>2</td>\n",
       "      <td>0.458505</td>\n",
       "      <td>Jumanji</td>\n",
       "      <td>[\"Adventure\",\"Children\",\"Fantasy\"]</td>\n",
       "    </tr>\n",
       "    <tr>\n",
       "      <th>9</th>\n",
       "      <td>2162</td>\n",
       "      <td>0.457828</td>\n",
       "      <td>NeverEnding Story II: The Next Chapter, The</td>\n",
       "      <td>[\"Adventure\",\"Children\",\"Fantasy\"]</td>\n",
       "    </tr>\n",
       "  </tbody>\n",
       "</table>\n",
       "</div>"
      ],
      "text/plain": [
       "   movie_id       sim                                         title  \\\n",
       "0       169  0.692310             Free Willy 2: The Adventure Home    \n",
       "1      1359  0.612439                           Jingle All the Way    \n",
       "2      2429  0.587270                             Mighty Joe Young    \n",
       "3      1595  0.564771                     Free Willy 3: The Rescue    \n",
       "4      1015  0.522669       Homeward Bound: The Incredible Journey    \n",
       "5       158  0.511294                                       Casper    \n",
       "6       711  0.510071                                      Flipper    \n",
       "7      3672  0.494547                                        Benji    \n",
       "8         2  0.458505                                      Jumanji    \n",
       "9      2162  0.457828  NeverEnding Story II: The Next Chapter, The    \n",
       "\n",
       "                                              genres  \n",
       "0                   [\"Adventure\",\"Children\",\"Drama\"]  \n",
       "1                              [\"Children\",\"Comedy\"]  \n",
       "2  [\"Action\",\"Adventure\",\"Drama\",\"Fantasy\",\"Thril...  \n",
       "3                   [\"Adventure\",\"Children\",\"Drama\"]  \n",
       "4                   [\"Adventure\",\"Children\",\"Drama\"]  \n",
       "5                           [\"Adventure\",\"Children\"]  \n",
       "6                           [\"Adventure\",\"Children\"]  \n",
       "7                           [\"Adventure\",\"Children\"]  \n",
       "8                 [\"Adventure\",\"Children\",\"Fantasy\"]  \n",
       "9                 [\"Adventure\",\"Children\",\"Fantasy\"]  "
      ]
     },
     "metadata": {},
     "output_type": "display_data"
    },
    {
     "name": "stdout",
     "output_type": "stream",
     "text": [
      "\n",
      "Jurassic Park - Jurassic Park 2 (similar in Doc2Vec): 0.583736976915\n",
      "Jurassic Park - Battling Butler (dissimilar in Doc2Vec): -0.121387548439\n",
      "most similar to Jurassic Park\n"
     ]
    },
    {
     "data": {
      "text/html": [
       "<div>\n",
       "<table border=\"1\" class=\"dataframe\">\n",
       "  <thead>\n",
       "    <tr style=\"text-align: right;\">\n",
       "      <th></th>\n",
       "      <th>movie_id</th>\n",
       "      <th>sim</th>\n",
       "      <th>title</th>\n",
       "      <th>genres</th>\n",
       "    </tr>\n",
       "  </thead>\n",
       "  <tbody>\n",
       "    <tr>\n",
       "      <th>0</th>\n",
       "      <td>1580</td>\n",
       "      <td>0.806409</td>\n",
       "      <td>Men in Black</td>\n",
       "      <td>[\"Action\",\"Comedy\",\"Sci-Fi\"]</td>\n",
       "    </tr>\n",
       "    <tr>\n",
       "      <th>1</th>\n",
       "      <td>589</td>\n",
       "      <td>0.657228</td>\n",
       "      <td>Terminator 2: Judgment Day</td>\n",
       "      <td>[\"Action\",\"Sci-Fi\"]</td>\n",
       "    </tr>\n",
       "    <tr>\n",
       "      <th>2</th>\n",
       "      <td>2916</td>\n",
       "      <td>0.624631</td>\n",
       "      <td>Total Recall</td>\n",
       "      <td>[\"Action\",\"Adventure\",\"Sci-Fi\",\"Thriller\"]</td>\n",
       "    </tr>\n",
       "    <tr>\n",
       "      <th>3</th>\n",
       "      <td>1544</td>\n",
       "      <td>0.583737</td>\n",
       "      <td>Lost World: Jurassic Park, The</td>\n",
       "      <td>[\"Action\",\"Adventure\",\"Sci-Fi\",\"Thriller\"]</td>\n",
       "    </tr>\n",
       "    <tr>\n",
       "      <th>4</th>\n",
       "      <td>2571</td>\n",
       "      <td>0.535067</td>\n",
       "      <td>Matrix, The</td>\n",
       "      <td>[\"Action\",\"Sci-Fi\",\"Thriller\"]</td>\n",
       "    </tr>\n",
       "    <tr>\n",
       "      <th>5</th>\n",
       "      <td>1527</td>\n",
       "      <td>0.520407</td>\n",
       "      <td>Fifth Element, The</td>\n",
       "      <td>[\"Action\",\"Adventure\",\"Comedy\",\"Sci-Fi\"]</td>\n",
       "    </tr>\n",
       "    <tr>\n",
       "      <th>6</th>\n",
       "      <td>1573</td>\n",
       "      <td>0.500680</td>\n",
       "      <td>Face/Off</td>\n",
       "      <td>[\"Action\",\"Crime\",\"Drama\",\"Thriller\"]</td>\n",
       "    </tr>\n",
       "    <tr>\n",
       "      <th>7</th>\n",
       "      <td>316</td>\n",
       "      <td>0.496416</td>\n",
       "      <td>Stargate</td>\n",
       "      <td>[\"Action\",\"Adventure\",\"Sci-Fi\"]</td>\n",
       "    </tr>\n",
       "    <tr>\n",
       "      <th>8</th>\n",
       "      <td>110</td>\n",
       "      <td>0.473923</td>\n",
       "      <td>Braveheart</td>\n",
       "      <td>[\"Action\",\"Drama\",\"War\"]</td>\n",
       "    </tr>\n",
       "    <tr>\n",
       "      <th>9</th>\n",
       "      <td>1356</td>\n",
       "      <td>0.459043</td>\n",
       "      <td>Star Trek: First Contact</td>\n",
       "      <td>[\"Action\",\"Adventure\",\"Sci-Fi\",\"Thriller\"]</td>\n",
       "    </tr>\n",
       "  </tbody>\n",
       "</table>\n",
       "</div>"
      ],
      "text/plain": [
       "   movie_id       sim                            title  \\\n",
       "0      1580  0.806409                    Men in Black    \n",
       "1       589  0.657228      Terminator 2: Judgment Day    \n",
       "2      2916  0.624631                    Total Recall    \n",
       "3      1544  0.583737  Lost World: Jurassic Park, The    \n",
       "4      2571  0.535067                     Matrix, The    \n",
       "5      1527  0.520407              Fifth Element, The    \n",
       "6      1573  0.500680                        Face/Off    \n",
       "7       316  0.496416                        Stargate    \n",
       "8       110  0.473923                      Braveheart    \n",
       "9      1356  0.459043        Star Trek: First Contact    \n",
       "\n",
       "                                       genres  \n",
       "0                [\"Action\",\"Comedy\",\"Sci-Fi\"]  \n",
       "1                         [\"Action\",\"Sci-Fi\"]  \n",
       "2  [\"Action\",\"Adventure\",\"Sci-Fi\",\"Thriller\"]  \n",
       "3  [\"Action\",\"Adventure\",\"Sci-Fi\",\"Thriller\"]  \n",
       "4              [\"Action\",\"Sci-Fi\",\"Thriller\"]  \n",
       "5    [\"Action\",\"Adventure\",\"Comedy\",\"Sci-Fi\"]  \n",
       "6       [\"Action\",\"Crime\",\"Drama\",\"Thriller\"]  \n",
       "7             [\"Action\",\"Adventure\",\"Sci-Fi\"]  \n",
       "8                    [\"Action\",\"Drama\",\"War\"]  \n",
       "9  [\"Action\",\"Adventure\",\"Sci-Fi\",\"Thriller\"]  "
      ]
     },
     "metadata": {},
     "output_type": "display_data"
    },
    {
     "name": "stdout",
     "output_type": "stream",
     "text": [
      "\n",
      "Scream - Scream 2 (similar in Doc2Vec): 0.686800923547\n",
      "Scream - Kelly's Heroes (dissimilar in Doc2Vec): -0.197853290897\n",
      "most similar to Scream\n"
     ]
    },
    {
     "data": {
      "text/html": [
       "<div>\n",
       "<table border=\"1\" class=\"dataframe\">\n",
       "  <thead>\n",
       "    <tr style=\"text-align: right;\">\n",
       "      <th></th>\n",
       "      <th>movie_id</th>\n",
       "      <th>sim</th>\n",
       "      <th>title</th>\n",
       "      <th>genres</th>\n",
       "    </tr>\n",
       "  </thead>\n",
       "  <tbody>\n",
       "    <tr>\n",
       "      <th>0</th>\n",
       "      <td>1717</td>\n",
       "      <td>0.686801</td>\n",
       "      <td>Scream 2</td>\n",
       "      <td>[\"Comedy\",\"Horror\",\"Mystery\",\"Thriller\"]</td>\n",
       "    </tr>\n",
       "    <tr>\n",
       "      <th>1</th>\n",
       "      <td>724</td>\n",
       "      <td>0.568954</td>\n",
       "      <td>Craft, The</td>\n",
       "      <td>[\"Drama\",\"Fantasy\",\"Horror\",\"Thriller\"]</td>\n",
       "    </tr>\n",
       "    <tr>\n",
       "      <th>2</th>\n",
       "      <td>3499</td>\n",
       "      <td>0.567875</td>\n",
       "      <td>Misery</td>\n",
       "      <td>[\"Drama\",\"Horror\",\"Thriller\"]</td>\n",
       "    </tr>\n",
       "    <tr>\n",
       "      <th>3</th>\n",
       "      <td>1339</td>\n",
       "      <td>0.565468</td>\n",
       "      <td>Dracula</td>\n",
       "      <td>[\"Fantasy\",\"Horror\",\"Romance\",\"Thriller\"]</td>\n",
       "    </tr>\n",
       "    <tr>\n",
       "      <th>4</th>\n",
       "      <td>1982</td>\n",
       "      <td>0.540004</td>\n",
       "      <td>Halloween</td>\n",
       "      <td>[\"Horror\"]</td>\n",
       "    </tr>\n",
       "    <tr>\n",
       "      <th>5</th>\n",
       "      <td>1644</td>\n",
       "      <td>0.537236</td>\n",
       "      <td>I Know What You Did Last Summer</td>\n",
       "      <td>[\"Horror\",\"Mystery\",\"Thriller\"]</td>\n",
       "    </tr>\n",
       "    <tr>\n",
       "      <th>6</th>\n",
       "      <td>1645</td>\n",
       "      <td>0.534557</td>\n",
       "      <td>Devil\\'s Advocate, The</td>\n",
       "      <td>[\"Drama\",\"Mystery\",\"Thriller\"]</td>\n",
       "    </tr>\n",
       "    <tr>\n",
       "      <th>7</th>\n",
       "      <td>1342</td>\n",
       "      <td>0.532611</td>\n",
       "      <td>Candyman</td>\n",
       "      <td>[\"Horror\",\"Thriller\"]</td>\n",
       "    </tr>\n",
       "    <tr>\n",
       "      <th>8</th>\n",
       "      <td>3476</td>\n",
       "      <td>0.529911</td>\n",
       "      <td>Jacob\\'s Ladder</td>\n",
       "      <td>[\"Horror\",\"Mystery\"]</td>\n",
       "    </tr>\n",
       "    <tr>\n",
       "      <th>9</th>\n",
       "      <td>2338</td>\n",
       "      <td>0.519681</td>\n",
       "      <td>I Still Know What You Did Last Summer</td>\n",
       "      <td>[\"Horror\",\"Mystery\",\"Thriller\"]</td>\n",
       "    </tr>\n",
       "  </tbody>\n",
       "</table>\n",
       "</div>"
      ],
      "text/plain": [
       "   movie_id       sim                                   title  \\\n",
       "0      1717  0.686801                               Scream 2    \n",
       "1       724  0.568954                             Craft, The    \n",
       "2      3499  0.567875                                 Misery    \n",
       "3      1339  0.565468                                Dracula    \n",
       "4      1982  0.540004                              Halloween    \n",
       "5      1644  0.537236        I Know What You Did Last Summer    \n",
       "6      1645  0.534557                 Devil\\'s Advocate, The    \n",
       "7      1342  0.532611                               Candyman    \n",
       "8      3476  0.529911                        Jacob\\'s Ladder    \n",
       "9      2338  0.519681  I Still Know What You Did Last Summer    \n",
       "\n",
       "                                      genres  \n",
       "0   [\"Comedy\",\"Horror\",\"Mystery\",\"Thriller\"]  \n",
       "1    [\"Drama\",\"Fantasy\",\"Horror\",\"Thriller\"]  \n",
       "2              [\"Drama\",\"Horror\",\"Thriller\"]  \n",
       "3  [\"Fantasy\",\"Horror\",\"Romance\",\"Thriller\"]  \n",
       "4                                 [\"Horror\"]  \n",
       "5            [\"Horror\",\"Mystery\",\"Thriller\"]  \n",
       "6             [\"Drama\",\"Mystery\",\"Thriller\"]  \n",
       "7                      [\"Horror\",\"Thriller\"]  \n",
       "8                       [\"Horror\",\"Mystery\"]  \n",
       "9            [\"Horror\",\"Mystery\",\"Thriller\"]  "
      ]
     },
     "metadata": {},
     "output_type": "display_data"
    },
    {
     "name": "stdout",
     "output_type": "stream",
     "text": [
      "\n",
      "Species - Species II (similar in Doc2Vec): 0.616964580935\n",
      "Species - Patton (dissimilar in Doc2Vec): -0.0549698772233\n",
      "most similar to Species\n"
     ]
    },
    {
     "data": {
      "text/html": [
       "<div>\n",
       "<table border=\"1\" class=\"dataframe\">\n",
       "  <thead>\n",
       "    <tr style=\"text-align: right;\">\n",
       "      <th></th>\n",
       "      <th>movie_id</th>\n",
       "      <th>sim</th>\n",
       "      <th>title</th>\n",
       "      <th>genres</th>\n",
       "    </tr>\n",
       "  </thead>\n",
       "  <tbody>\n",
       "    <tr>\n",
       "      <th>0</th>\n",
       "      <td>1603</td>\n",
       "      <td>0.633995</td>\n",
       "      <td>Mimic</td>\n",
       "      <td>[\"Horror\",\"Sci-Fi\",\"Thriller\"]</td>\n",
       "    </tr>\n",
       "    <tr>\n",
       "      <th>1</th>\n",
       "      <td>1862</td>\n",
       "      <td>0.616965</td>\n",
       "      <td>Species II</td>\n",
       "      <td>[\"Horror\",\"Sci-Fi\"]</td>\n",
       "    </tr>\n",
       "    <tr>\n",
       "      <th>2</th>\n",
       "      <td>1690</td>\n",
       "      <td>0.595125</td>\n",
       "      <td>Alien: Resurrection</td>\n",
       "      <td>[\"Action\",\"Horror\",\"Sci-Fi\"]</td>\n",
       "    </tr>\n",
       "    <tr>\n",
       "      <th>3</th>\n",
       "      <td>185</td>\n",
       "      <td>0.586818</td>\n",
       "      <td>Net, The</td>\n",
       "      <td>[\"Action\",\"Crime\",\"Thriller\"]</td>\n",
       "    </tr>\n",
       "    <tr>\n",
       "      <th>4</th>\n",
       "      <td>880</td>\n",
       "      <td>0.563946</td>\n",
       "      <td>Island of Dr. Moreau, The</td>\n",
       "      <td>[\"Sci-Fi\",\"Thriller\"]</td>\n",
       "    </tr>\n",
       "    <tr>\n",
       "      <th>5</th>\n",
       "      <td>172</td>\n",
       "      <td>0.561998</td>\n",
       "      <td>Johnny Mnemonic</td>\n",
       "      <td>[\"Action\",\"Sci-Fi\",\"Thriller\"]</td>\n",
       "    </tr>\n",
       "    <tr>\n",
       "      <th>6</th>\n",
       "      <td>1779</td>\n",
       "      <td>0.558978</td>\n",
       "      <td>Sphere</td>\n",
       "      <td>[\"Sci-Fi\",\"Thriller\"]</td>\n",
       "    </tr>\n",
       "    <tr>\n",
       "      <th>7</th>\n",
       "      <td>173</td>\n",
       "      <td>0.553721</td>\n",
       "      <td>Judge Dredd</td>\n",
       "      <td>[\"Action\",\"Crime\",\"Sci-Fi\"]</td>\n",
       "    </tr>\n",
       "    <tr>\n",
       "      <th>8</th>\n",
       "      <td>332</td>\n",
       "      <td>0.544208</td>\n",
       "      <td>Village of the Damned</td>\n",
       "      <td>[\"Horror\",\"Sci-Fi\"]</td>\n",
       "    </tr>\n",
       "    <tr>\n",
       "      <th>9</th>\n",
       "      <td>442</td>\n",
       "      <td>0.544054</td>\n",
       "      <td>Demolition Man</td>\n",
       "      <td>[\"Action\",\"Adventure\",\"Sci-Fi\"]</td>\n",
       "    </tr>\n",
       "  </tbody>\n",
       "</table>\n",
       "</div>"
      ],
      "text/plain": [
       "   movie_id       sim                       title  \\\n",
       "0      1603  0.633995                      Mimic    \n",
       "1      1862  0.616965                 Species II    \n",
       "2      1690  0.595125        Alien: Resurrection    \n",
       "3       185  0.586818                   Net, The    \n",
       "4       880  0.563946  Island of Dr. Moreau, The    \n",
       "5       172  0.561998            Johnny Mnemonic    \n",
       "6      1779  0.558978                     Sphere    \n",
       "7       173  0.553721                Judge Dredd    \n",
       "8       332  0.544208      Village of the Damned    \n",
       "9       442  0.544054             Demolition Man    \n",
       "\n",
       "                            genres  \n",
       "0   [\"Horror\",\"Sci-Fi\",\"Thriller\"]  \n",
       "1              [\"Horror\",\"Sci-Fi\"]  \n",
       "2     [\"Action\",\"Horror\",\"Sci-Fi\"]  \n",
       "3    [\"Action\",\"Crime\",\"Thriller\"]  \n",
       "4            [\"Sci-Fi\",\"Thriller\"]  \n",
       "5   [\"Action\",\"Sci-Fi\",\"Thriller\"]  \n",
       "6            [\"Sci-Fi\",\"Thriller\"]  \n",
       "7      [\"Action\",\"Crime\",\"Sci-Fi\"]  \n",
       "8              [\"Horror\",\"Sci-Fi\"]  \n",
       "9  [\"Action\",\"Adventure\",\"Sci-Fi\"]  "
      ]
     },
     "metadata": {},
     "output_type": "display_data"
    },
    {
     "name": "stdout",
     "output_type": "stream",
     "text": [
      "\n",
      "Star Wars V - Star Wars VI (similar in Doc2Vec): 0.690062467715\n",
      "Star Wars V - Angela's Ashes (dissimilar in Doc2Vec): -0.0734449486636\n",
      "most similar to Star Wars V\n"
     ]
    },
    {
     "data": {
      "text/html": [
       "<div>\n",
       "<table border=\"1\" class=\"dataframe\">\n",
       "  <thead>\n",
       "    <tr style=\"text-align: right;\">\n",
       "      <th></th>\n",
       "      <th>movie_id</th>\n",
       "      <th>sim</th>\n",
       "      <th>title</th>\n",
       "      <th>genres</th>\n",
       "    </tr>\n",
       "  </thead>\n",
       "  <tbody>\n",
       "    <tr>\n",
       "      <th>0</th>\n",
       "      <td>260</td>\n",
       "      <td>0.756724</td>\n",
       "      <td>Star Wars: Episode IV - A New Hope</td>\n",
       "      <td>[\"Action\",\"Adventure\",\"Sci-Fi\"]</td>\n",
       "    </tr>\n",
       "    <tr>\n",
       "      <th>1</th>\n",
       "      <td>1240</td>\n",
       "      <td>0.706137</td>\n",
       "      <td>Terminator, The</td>\n",
       "      <td>[\"Action\",\"Sci-Fi\",\"Thriller\"]</td>\n",
       "    </tr>\n",
       "    <tr>\n",
       "      <th>2</th>\n",
       "      <td>1210</td>\n",
       "      <td>0.690062</td>\n",
       "      <td>Star Wars: Episode VI - Return of the Jedi</td>\n",
       "      <td>[\"Action\",\"Adventure\",\"Sci-Fi\"]</td>\n",
       "    </tr>\n",
       "    <tr>\n",
       "      <th>3</th>\n",
       "      <td>1198</td>\n",
       "      <td>0.649632</td>\n",
       "      <td>Raiders of the Lost Ark</td>\n",
       "      <td>[\"Action\",\"Adventure\"]</td>\n",
       "    </tr>\n",
       "    <tr>\n",
       "      <th>4</th>\n",
       "      <td>1291</td>\n",
       "      <td>0.643633</td>\n",
       "      <td>Indiana Jones and the Last Crusade</td>\n",
       "      <td>[\"Action\",\"Adventure\"]</td>\n",
       "    </tr>\n",
       "    <tr>\n",
       "      <th>5</th>\n",
       "      <td>1200</td>\n",
       "      <td>0.627442</td>\n",
       "      <td>Aliens</td>\n",
       "      <td>[\"Action\",\"Adventure\",\"Horror\",\"Sci-Fi\"]</td>\n",
       "    </tr>\n",
       "    <tr>\n",
       "      <th>6</th>\n",
       "      <td>1214</td>\n",
       "      <td>0.484115</td>\n",
       "      <td>Alien</td>\n",
       "      <td>[\"Horror\",\"Sci-Fi\"]</td>\n",
       "    </tr>\n",
       "    <tr>\n",
       "      <th>7</th>\n",
       "      <td>2571</td>\n",
       "      <td>0.483702</td>\n",
       "      <td>Matrix, The</td>\n",
       "      <td>[\"Action\",\"Sci-Fi\",\"Thriller\"]</td>\n",
       "    </tr>\n",
       "    <tr>\n",
       "      <th>8</th>\n",
       "      <td>1097</td>\n",
       "      <td>0.478654</td>\n",
       "      <td>E.T. the Extra-Terrestrial</td>\n",
       "      <td>[\"Children\",\"Drama\",\"Sci-Fi\"]</td>\n",
       "    </tr>\n",
       "    <tr>\n",
       "      <th>9</th>\n",
       "      <td>1036</td>\n",
       "      <td>0.473915</td>\n",
       "      <td>Die Hard</td>\n",
       "      <td>[\"Action\",\"Crime\",\"Thriller\"]</td>\n",
       "    </tr>\n",
       "  </tbody>\n",
       "</table>\n",
       "</div>"
      ],
      "text/plain": [
       "   movie_id       sim                                        title  \\\n",
       "0       260  0.756724          Star Wars: Episode IV - A New Hope    \n",
       "1      1240  0.706137                             Terminator, The    \n",
       "2      1210  0.690062  Star Wars: Episode VI - Return of the Jedi    \n",
       "3      1198  0.649632                     Raiders of the Lost Ark    \n",
       "4      1291  0.643633          Indiana Jones and the Last Crusade    \n",
       "5      1200  0.627442                                      Aliens    \n",
       "6      1214  0.484115                                       Alien    \n",
       "7      2571  0.483702                                 Matrix, The    \n",
       "8      1097  0.478654                  E.T. the Extra-Terrestrial    \n",
       "9      1036  0.473915                                    Die Hard    \n",
       "\n",
       "                                     genres  \n",
       "0           [\"Action\",\"Adventure\",\"Sci-Fi\"]  \n",
       "1            [\"Action\",\"Sci-Fi\",\"Thriller\"]  \n",
       "2           [\"Action\",\"Adventure\",\"Sci-Fi\"]  \n",
       "3                    [\"Action\",\"Adventure\"]  \n",
       "4                    [\"Action\",\"Adventure\"]  \n",
       "5  [\"Action\",\"Adventure\",\"Horror\",\"Sci-Fi\"]  \n",
       "6                       [\"Horror\",\"Sci-Fi\"]  \n",
       "7            [\"Action\",\"Sci-Fi\",\"Thriller\"]  \n",
       "8             [\"Children\",\"Drama\",\"Sci-Fi\"]  \n",
       "9             [\"Action\",\"Crime\",\"Thriller\"]  "
      ]
     },
     "metadata": {},
     "output_type": "display_data"
    },
    {
     "name": "stdout",
     "output_type": "stream",
     "text": [
      "\n",
      "Toy Story - Toy Story 2 (similar in Doc2Vec): 0.669595461581\n",
      "Toy Story - Raise the Red Lantern (dissimilar in Doc2Vec): -0.0127149157715\n",
      "most similar to Toy Story\n"
     ]
    },
    {
     "data": {
      "text/html": [
       "<div>\n",
       "<table border=\"1\" class=\"dataframe\">\n",
       "  <thead>\n",
       "    <tr style=\"text-align: right;\">\n",
       "      <th></th>\n",
       "      <th>movie_id</th>\n",
       "      <th>sim</th>\n",
       "      <th>title</th>\n",
       "      <th>genres</th>\n",
       "    </tr>\n",
       "  </thead>\n",
       "  <tbody>\n",
       "    <tr>\n",
       "      <th>0</th>\n",
       "      <td>3114</td>\n",
       "      <td>0.669595</td>\n",
       "      <td>Toy Story 2</td>\n",
       "      <td>[\"Adventure\",\"Animation\",\"Children\",\"Comedy\",\"...</td>\n",
       "    </tr>\n",
       "    <tr>\n",
       "      <th>1</th>\n",
       "      <td>34</td>\n",
       "      <td>0.599774</td>\n",
       "      <td>Babe</td>\n",
       "      <td>[\"Children\",\"Drama\"]</td>\n",
       "    </tr>\n",
       "    <tr>\n",
       "      <th>2</th>\n",
       "      <td>1265</td>\n",
       "      <td>0.599761</td>\n",
       "      <td>Groundhog Day</td>\n",
       "      <td>[\"Comedy\",\"Fantasy\",\"Romance\"]</td>\n",
       "    </tr>\n",
       "    <tr>\n",
       "      <th>3</th>\n",
       "      <td>1923</td>\n",
       "      <td>0.536572</td>\n",
       "      <td>There\\'s Something About Mary</td>\n",
       "      <td>[\"Comedy\",\"Romance\"]</td>\n",
       "    </tr>\n",
       "    <tr>\n",
       "      <th>4</th>\n",
       "      <td>2355</td>\n",
       "      <td>0.530880</td>\n",
       "      <td>Bug\\'s Life, A</td>\n",
       "      <td>[\"Adventure\",\"Animation\",\"Children\",\"Comedy\"]</td>\n",
       "    </tr>\n",
       "    <tr>\n",
       "      <th>5</th>\n",
       "      <td>588</td>\n",
       "      <td>0.523862</td>\n",
       "      <td>Aladdin</td>\n",
       "      <td>[\"Adventure\",\"Animation\",\"Children\",\"Comedy\",\"...</td>\n",
       "    </tr>\n",
       "    <tr>\n",
       "      <th>6</th>\n",
       "      <td>2321</td>\n",
       "      <td>0.517021</td>\n",
       "      <td>Pleasantville</td>\n",
       "      <td>[\"Comedy\",\"Drama\",\"Fantasy\"]</td>\n",
       "    </tr>\n",
       "    <tr>\n",
       "      <th>7</th>\n",
       "      <td>1641</td>\n",
       "      <td>0.512097</td>\n",
       "      <td>Full Monty, The</td>\n",
       "      <td>[\"Comedy\",\"Drama\"]</td>\n",
       "    </tr>\n",
       "    <tr>\n",
       "      <th>8</th>\n",
       "      <td>3253</td>\n",
       "      <td>0.485353</td>\n",
       "      <td>Wayne\\'s World</td>\n",
       "      <td>[\"Comedy\"]</td>\n",
       "    </tr>\n",
       "    <tr>\n",
       "      <th>9</th>\n",
       "      <td>1517</td>\n",
       "      <td>0.450316</td>\n",
       "      <td>Austin Powers: International Man of Mystery</td>\n",
       "      <td>[\"Action\",\"Adventure\",\"Comedy\"]</td>\n",
       "    </tr>\n",
       "  </tbody>\n",
       "</table>\n",
       "</div>"
      ],
      "text/plain": [
       "   movie_id       sim                                         title  \\\n",
       "0      3114  0.669595                                  Toy Story 2    \n",
       "1        34  0.599774                                         Babe    \n",
       "2      1265  0.599761                                Groundhog Day    \n",
       "3      1923  0.536572                There\\'s Something About Mary    \n",
       "4      2355  0.530880                               Bug\\'s Life, A    \n",
       "5       588  0.523862                                      Aladdin    \n",
       "6      2321  0.517021                                Pleasantville    \n",
       "7      1641  0.512097                              Full Monty, The    \n",
       "8      3253  0.485353                               Wayne\\'s World    \n",
       "9      1517  0.450316  Austin Powers: International Man of Mystery    \n",
       "\n",
       "                                              genres  \n",
       "0  [\"Adventure\",\"Animation\",\"Children\",\"Comedy\",\"...  \n",
       "1                               [\"Children\",\"Drama\"]  \n",
       "2                     [\"Comedy\",\"Fantasy\",\"Romance\"]  \n",
       "3                               [\"Comedy\",\"Romance\"]  \n",
       "4      [\"Adventure\",\"Animation\",\"Children\",\"Comedy\"]  \n",
       "5  [\"Adventure\",\"Animation\",\"Children\",\"Comedy\",\"...  \n",
       "6                       [\"Comedy\",\"Drama\",\"Fantasy\"]  \n",
       "7                                 [\"Comedy\",\"Drama\"]  \n",
       "8                                         [\"Comedy\"]  \n",
       "9                    [\"Action\",\"Adventure\",\"Comedy\"]  "
      ]
     },
     "metadata": {},
     "output_type": "display_data"
    }
   ],
   "source": [
    "path = '../models/mpcf/2016-05-27_20.57.43_no-si_ml-1m_e20_tt-0.7_task-22.h5'\n",
    "print_similarities(path)"
   ]
  },
  {
   "cell_type": "code",
   "execution_count": 42,
   "metadata": {
    "collapsed": false
   },
   "outputs": [
    {
     "name": "stdout",
     "output_type": "stream",
     "text": [
      "Free Willy - Free Willy 2 (similar in Doc2Vec): 0.691529941656\n",
      "Free Willy - Mrs. Brown (dissimilar in Doc2Vec): -0.0366433348194\n",
      "\n",
      "Jurassic Park - Jurassic Park 2 (similar in Doc2Vec): 0.541842436216\n",
      "Jurassic Park - Battling Butler (dissimilar in Doc2Vec): -0.121830731486\n",
      "\n",
      "Scream - Scream 2 (similar in Doc2Vec): 0.70155599718\n",
      "Scream - Kelly's Heroes (dissimilar in Doc2Vec): -0.138500868215\n",
      "\n",
      "Species - Species II (similar in Doc2Vec): 0.664088985129\n",
      "Species - Patton (dissimilar in Doc2Vec): -0.0282791287545\n",
      "\n",
      "Star Wars V - Star Wars VI (similar in Doc2Vec): 0.684562985778\n",
      "Star Wars V - Angela's Ashes (dissimilar in Doc2Vec): -0.143269204894\n",
      "\n",
      "Toy Story - Toy Story 2 (similar in Doc2Vec): 0.654633650904\n",
      "Toy Story - Raise the Red Lantern (dissimilar in Doc2Vec): -0.0255728156526\n"
     ]
    }
   ],
   "source": [
    "paths = [\n",
    "'../models/mpcf/2016-05-27_20.57.43_no-si_ml-1m_e20_tt-0.7_task-22.h5',\n",
    "'../models/mpcf/2016-06-22_19.55.46_no-si_ml-1m_e20_tt-0.7_train-2_task-0.h5',\n",
    "'../models/mpcf/2016-06-22_19.56.10_no-si_ml-1m_e20_tt-0.7_train-5_task-0.h5',\n",
    "'../models/mpcf/2016-06-22_19.56.50_no-si_ml-1m_e20_tt-0.7_train-3_task-0.h5',\n",
    "'../models/mpcf/2016-06-22_19.59.20_no-si_ml-1m_e20_tt-0.7_train-4_task-0.h5',\n",
    "]\n",
    "get_avg_cosine_sim(paths)"
   ]
  },
  {
   "cell_type": "markdown",
   "metadata": {},
   "source": [
    "## MPCFs-SI (with side information)"
   ]
  },
  {
   "cell_type": "code",
   "execution_count": 43,
   "metadata": {
    "collapsed": false,
    "scrolled": false
   },
   "outputs": [
    {
     "name": "stdout",
     "output_type": "stream",
     "text": [
      "Free Willy - Free Willy 2 (similar in Doc2Vec): 0.705107367023\n",
      "Free Willy - Mrs. Brown (dissimilar in Doc2Vec): -0.0675717988178\n",
      "most similar to Free Willy\n"
     ]
    },
    {
     "data": {
      "text/html": [
       "<div>\n",
       "<table border=\"1\" class=\"dataframe\">\n",
       "  <thead>\n",
       "    <tr style=\"text-align: right;\">\n",
       "      <th></th>\n",
       "      <th>movie_id</th>\n",
       "      <th>sim</th>\n",
       "      <th>title</th>\n",
       "      <th>genres</th>\n",
       "    </tr>\n",
       "  </thead>\n",
       "  <tbody>\n",
       "    <tr>\n",
       "      <th>0</th>\n",
       "      <td>169</td>\n",
       "      <td>0.705107</td>\n",
       "      <td>Free Willy 2: The Adventure Home</td>\n",
       "      <td>[\"Adventure\",\"Children\",\"Drama\"]</td>\n",
       "    </tr>\n",
       "    <tr>\n",
       "      <th>1</th>\n",
       "      <td>1015</td>\n",
       "      <td>0.625628</td>\n",
       "      <td>Homeward Bound: The Incredible Journey</td>\n",
       "      <td>[\"Adventure\",\"Children\",\"Drama\"]</td>\n",
       "    </tr>\n",
       "    <tr>\n",
       "      <th>2</th>\n",
       "      <td>158</td>\n",
       "      <td>0.605429</td>\n",
       "      <td>Casper</td>\n",
       "      <td>[\"Adventure\",\"Children\"]</td>\n",
       "    </tr>\n",
       "    <tr>\n",
       "      <th>3</th>\n",
       "      <td>1595</td>\n",
       "      <td>0.589972</td>\n",
       "      <td>Free Willy 3: The Rescue</td>\n",
       "      <td>[\"Adventure\",\"Children\",\"Drama\"]</td>\n",
       "    </tr>\n",
       "    <tr>\n",
       "      <th>4</th>\n",
       "      <td>711</td>\n",
       "      <td>0.571554</td>\n",
       "      <td>Flipper</td>\n",
       "      <td>[\"Adventure\",\"Children\"]</td>\n",
       "    </tr>\n",
       "    <tr>\n",
       "      <th>5</th>\n",
       "      <td>1359</td>\n",
       "      <td>0.546241</td>\n",
       "      <td>Jingle All the Way</td>\n",
       "      <td>[\"Children\",\"Comedy\"]</td>\n",
       "    </tr>\n",
       "    <tr>\n",
       "      <th>6</th>\n",
       "      <td>2429</td>\n",
       "      <td>0.541455</td>\n",
       "      <td>Mighty Joe Young</td>\n",
       "      <td>[\"Action\",\"Adventure\",\"Drama\",\"Fantasy\",\"Thril...</td>\n",
       "    </tr>\n",
       "    <tr>\n",
       "      <th>7</th>\n",
       "      <td>374</td>\n",
       "      <td>0.482522</td>\n",
       "      <td>Richie Rich</td>\n",
       "      <td>[\"Children\",\"Comedy\"]</td>\n",
       "    </tr>\n",
       "    <tr>\n",
       "      <th>8</th>\n",
       "      <td>362</td>\n",
       "      <td>0.464526</td>\n",
       "      <td>Jungle Book, The</td>\n",
       "      <td>[\"Adventure\",\"Children\",\"Romance\"]</td>\n",
       "    </tr>\n",
       "    <tr>\n",
       "      <th>9</th>\n",
       "      <td>3672</td>\n",
       "      <td>0.452835</td>\n",
       "      <td>Benji</td>\n",
       "      <td>[\"Adventure\",\"Children\"]</td>\n",
       "    </tr>\n",
       "  </tbody>\n",
       "</table>\n",
       "</div>"
      ],
      "text/plain": [
       "   movie_id       sim                                    title  \\\n",
       "0       169  0.705107        Free Willy 2: The Adventure Home    \n",
       "1      1015  0.625628  Homeward Bound: The Incredible Journey    \n",
       "2       158  0.605429                                  Casper    \n",
       "3      1595  0.589972                Free Willy 3: The Rescue    \n",
       "4       711  0.571554                                 Flipper    \n",
       "5      1359  0.546241                      Jingle All the Way    \n",
       "6      2429  0.541455                        Mighty Joe Young    \n",
       "7       374  0.482522                             Richie Rich    \n",
       "8       362  0.464526                        Jungle Book, The    \n",
       "9      3672  0.452835                                   Benji    \n",
       "\n",
       "                                              genres  \n",
       "0                   [\"Adventure\",\"Children\",\"Drama\"]  \n",
       "1                   [\"Adventure\",\"Children\",\"Drama\"]  \n",
       "2                           [\"Adventure\",\"Children\"]  \n",
       "3                   [\"Adventure\",\"Children\",\"Drama\"]  \n",
       "4                           [\"Adventure\",\"Children\"]  \n",
       "5                              [\"Children\",\"Comedy\"]  \n",
       "6  [\"Action\",\"Adventure\",\"Drama\",\"Fantasy\",\"Thril...  \n",
       "7                              [\"Children\",\"Comedy\"]  \n",
       "8                 [\"Adventure\",\"Children\",\"Romance\"]  \n",
       "9                           [\"Adventure\",\"Children\"]  "
      ]
     },
     "metadata": {},
     "output_type": "display_data"
    },
    {
     "name": "stdout",
     "output_type": "stream",
     "text": [
      "\n",
      "Jurassic Park - Jurassic Park 2 (similar in Doc2Vec): 0.617076550583\n",
      "Jurassic Park - Battling Butler (dissimilar in Doc2Vec): -0.190130878462\n",
      "most similar to Jurassic Park\n"
     ]
    },
    {
     "data": {
      "text/html": [
       "<div>\n",
       "<table border=\"1\" class=\"dataframe\">\n",
       "  <thead>\n",
       "    <tr style=\"text-align: right;\">\n",
       "      <th></th>\n",
       "      <th>movie_id</th>\n",
       "      <th>sim</th>\n",
       "      <th>title</th>\n",
       "      <th>genres</th>\n",
       "    </tr>\n",
       "  </thead>\n",
       "  <tbody>\n",
       "    <tr>\n",
       "      <th>0</th>\n",
       "      <td>1580</td>\n",
       "      <td>0.841416</td>\n",
       "      <td>Men in Black</td>\n",
       "      <td>[\"Action\",\"Comedy\",\"Sci-Fi\"]</td>\n",
       "    </tr>\n",
       "    <tr>\n",
       "      <th>1</th>\n",
       "      <td>589</td>\n",
       "      <td>0.736652</td>\n",
       "      <td>Terminator 2: Judgment Day</td>\n",
       "      <td>[\"Action\",\"Sci-Fi\"]</td>\n",
       "    </tr>\n",
       "    <tr>\n",
       "      <th>2</th>\n",
       "      <td>2916</td>\n",
       "      <td>0.641961</td>\n",
       "      <td>Total Recall</td>\n",
       "      <td>[\"Action\",\"Adventure\",\"Sci-Fi\",\"Thriller\"]</td>\n",
       "    </tr>\n",
       "    <tr>\n",
       "      <th>3</th>\n",
       "      <td>1544</td>\n",
       "      <td>0.617077</td>\n",
       "      <td>Lost World: Jurassic Park, The</td>\n",
       "      <td>[\"Action\",\"Adventure\",\"Sci-Fi\",\"Thriller\"]</td>\n",
       "    </tr>\n",
       "    <tr>\n",
       "      <th>4</th>\n",
       "      <td>2571</td>\n",
       "      <td>0.597141</td>\n",
       "      <td>Matrix, The</td>\n",
       "      <td>[\"Action\",\"Sci-Fi\",\"Thriller\"]</td>\n",
       "    </tr>\n",
       "    <tr>\n",
       "      <th>5</th>\n",
       "      <td>648</td>\n",
       "      <td>0.540267</td>\n",
       "      <td>Mission: Impossible</td>\n",
       "      <td>[\"Action\",\"Adventure\",\"Mystery\",\"Thriller\"]</td>\n",
       "    </tr>\n",
       "    <tr>\n",
       "      <th>6</th>\n",
       "      <td>1356</td>\n",
       "      <td>0.530450</td>\n",
       "      <td>Star Trek: First Contact</td>\n",
       "      <td>[\"Action\",\"Adventure\",\"Sci-Fi\",\"Thriller\"]</td>\n",
       "    </tr>\n",
       "    <tr>\n",
       "      <th>7</th>\n",
       "      <td>380</td>\n",
       "      <td>0.515620</td>\n",
       "      <td>True Lies</td>\n",
       "      <td>[\"Action\",\"Adventure\",\"Comedy\",\"Romance\",\"Thri...</td>\n",
       "    </tr>\n",
       "    <tr>\n",
       "      <th>8</th>\n",
       "      <td>1573</td>\n",
       "      <td>0.496589</td>\n",
       "      <td>Face/Off</td>\n",
       "      <td>[\"Action\",\"Crime\",\"Drama\",\"Thriller\"]</td>\n",
       "    </tr>\n",
       "    <tr>\n",
       "      <th>9</th>\n",
       "      <td>110</td>\n",
       "      <td>0.490036</td>\n",
       "      <td>Braveheart</td>\n",
       "      <td>[\"Action\",\"Drama\",\"War\"]</td>\n",
       "    </tr>\n",
       "  </tbody>\n",
       "</table>\n",
       "</div>"
      ],
      "text/plain": [
       "   movie_id       sim                            title  \\\n",
       "0      1580  0.841416                    Men in Black    \n",
       "1       589  0.736652      Terminator 2: Judgment Day    \n",
       "2      2916  0.641961                    Total Recall    \n",
       "3      1544  0.617077  Lost World: Jurassic Park, The    \n",
       "4      2571  0.597141                     Matrix, The    \n",
       "5       648  0.540267             Mission: Impossible    \n",
       "6      1356  0.530450        Star Trek: First Contact    \n",
       "7       380  0.515620                       True Lies    \n",
       "8      1573  0.496589                        Face/Off    \n",
       "9       110  0.490036                      Braveheart    \n",
       "\n",
       "                                              genres  \n",
       "0                       [\"Action\",\"Comedy\",\"Sci-Fi\"]  \n",
       "1                                [\"Action\",\"Sci-Fi\"]  \n",
       "2         [\"Action\",\"Adventure\",\"Sci-Fi\",\"Thriller\"]  \n",
       "3         [\"Action\",\"Adventure\",\"Sci-Fi\",\"Thriller\"]  \n",
       "4                     [\"Action\",\"Sci-Fi\",\"Thriller\"]  \n",
       "5        [\"Action\",\"Adventure\",\"Mystery\",\"Thriller\"]  \n",
       "6         [\"Action\",\"Adventure\",\"Sci-Fi\",\"Thriller\"]  \n",
       "7  [\"Action\",\"Adventure\",\"Comedy\",\"Romance\",\"Thri...  \n",
       "8              [\"Action\",\"Crime\",\"Drama\",\"Thriller\"]  \n",
       "9                           [\"Action\",\"Drama\",\"War\"]  "
      ]
     },
     "metadata": {},
     "output_type": "display_data"
    },
    {
     "name": "stdout",
     "output_type": "stream",
     "text": [
      "\n",
      "Scream - Scream 2 (similar in Doc2Vec): 0.723297044654\n",
      "Scream - Kelly's Heroes (dissimilar in Doc2Vec): -0.205559453259\n",
      "most similar to Scream\n"
     ]
    },
    {
     "data": {
      "text/html": [
       "<div>\n",
       "<table border=\"1\" class=\"dataframe\">\n",
       "  <thead>\n",
       "    <tr style=\"text-align: right;\">\n",
       "      <th></th>\n",
       "      <th>movie_id</th>\n",
       "      <th>sim</th>\n",
       "      <th>title</th>\n",
       "      <th>genres</th>\n",
       "    </tr>\n",
       "  </thead>\n",
       "  <tbody>\n",
       "    <tr>\n",
       "      <th>0</th>\n",
       "      <td>1717</td>\n",
       "      <td>0.723297</td>\n",
       "      <td>Scream 2</td>\n",
       "      <td>[\"Comedy\",\"Horror\",\"Mystery\",\"Thriller\"]</td>\n",
       "    </tr>\n",
       "    <tr>\n",
       "      <th>1</th>\n",
       "      <td>3499</td>\n",
       "      <td>0.647078</td>\n",
       "      <td>Misery</td>\n",
       "      <td>[\"Drama\",\"Horror\",\"Thriller\"]</td>\n",
       "    </tr>\n",
       "    <tr>\n",
       "      <th>2</th>\n",
       "      <td>1339</td>\n",
       "      <td>0.601797</td>\n",
       "      <td>Dracula</td>\n",
       "      <td>[\"Fantasy\",\"Horror\",\"Romance\",\"Thriller\"]</td>\n",
       "    </tr>\n",
       "    <tr>\n",
       "      <th>3</th>\n",
       "      <td>1644</td>\n",
       "      <td>0.596543</td>\n",
       "      <td>I Know What You Did Last Summer</td>\n",
       "      <td>[\"Horror\",\"Mystery\",\"Thriller\"]</td>\n",
       "    </tr>\n",
       "    <tr>\n",
       "      <th>4</th>\n",
       "      <td>1982</td>\n",
       "      <td>0.554073</td>\n",
       "      <td>Halloween</td>\n",
       "      <td>[\"Horror\"]</td>\n",
       "    </tr>\n",
       "    <tr>\n",
       "      <th>5</th>\n",
       "      <td>1645</td>\n",
       "      <td>0.552528</td>\n",
       "      <td>Devil\\'s Advocate, The</td>\n",
       "      <td>[\"Drama\",\"Mystery\",\"Thriller\"]</td>\n",
       "    </tr>\n",
       "    <tr>\n",
       "      <th>6</th>\n",
       "      <td>253</td>\n",
       "      <td>0.551472</td>\n",
       "      <td>Interview with the Vampire: The Vampire Chroni...</td>\n",
       "      <td>[\"Drama\",\"Horror\"]</td>\n",
       "    </tr>\n",
       "    <tr>\n",
       "      <th>7</th>\n",
       "      <td>3476</td>\n",
       "      <td>0.549237</td>\n",
       "      <td>Jacob\\'s Ladder</td>\n",
       "      <td>[\"Horror\",\"Mystery\"]</td>\n",
       "    </tr>\n",
       "    <tr>\n",
       "      <th>8</th>\n",
       "      <td>2338</td>\n",
       "      <td>0.548721</td>\n",
       "      <td>I Still Know What You Did Last Summer</td>\n",
       "      <td>[\"Horror\",\"Mystery\",\"Thriller\"]</td>\n",
       "    </tr>\n",
       "    <tr>\n",
       "      <th>9</th>\n",
       "      <td>2120</td>\n",
       "      <td>0.541995</td>\n",
       "      <td>Needful Things</td>\n",
       "      <td>[\"Drama\",\"Horror\"]</td>\n",
       "    </tr>\n",
       "  </tbody>\n",
       "</table>\n",
       "</div>"
      ],
      "text/plain": [
       "   movie_id       sim                                              title  \\\n",
       "0      1717  0.723297                                          Scream 2    \n",
       "1      3499  0.647078                                            Misery    \n",
       "2      1339  0.601797                                           Dracula    \n",
       "3      1644  0.596543                   I Know What You Did Last Summer    \n",
       "4      1982  0.554073                                         Halloween    \n",
       "5      1645  0.552528                            Devil\\'s Advocate, The    \n",
       "6       253  0.551472  Interview with the Vampire: The Vampire Chroni...   \n",
       "7      3476  0.549237                                   Jacob\\'s Ladder    \n",
       "8      2338  0.548721             I Still Know What You Did Last Summer    \n",
       "9      2120  0.541995                                    Needful Things    \n",
       "\n",
       "                                      genres  \n",
       "0   [\"Comedy\",\"Horror\",\"Mystery\",\"Thriller\"]  \n",
       "1              [\"Drama\",\"Horror\",\"Thriller\"]  \n",
       "2  [\"Fantasy\",\"Horror\",\"Romance\",\"Thriller\"]  \n",
       "3            [\"Horror\",\"Mystery\",\"Thriller\"]  \n",
       "4                                 [\"Horror\"]  \n",
       "5             [\"Drama\",\"Mystery\",\"Thriller\"]  \n",
       "6                         [\"Drama\",\"Horror\"]  \n",
       "7                       [\"Horror\",\"Mystery\"]  \n",
       "8            [\"Horror\",\"Mystery\",\"Thriller\"]  \n",
       "9                         [\"Drama\",\"Horror\"]  "
      ]
     },
     "metadata": {},
     "output_type": "display_data"
    },
    {
     "name": "stdout",
     "output_type": "stream",
     "text": [
      "\n",
      "Species - Species II (similar in Doc2Vec): 0.70643524738\n",
      "Species - Patton (dissimilar in Doc2Vec): -0.0306956746373\n",
      "most similar to Species\n"
     ]
    },
    {
     "data": {
      "text/html": [
       "<div>\n",
       "<table border=\"1\" class=\"dataframe\">\n",
       "  <thead>\n",
       "    <tr style=\"text-align: right;\">\n",
       "      <th></th>\n",
       "      <th>movie_id</th>\n",
       "      <th>sim</th>\n",
       "      <th>title</th>\n",
       "      <th>genres</th>\n",
       "    </tr>\n",
       "  </thead>\n",
       "  <tbody>\n",
       "    <tr>\n",
       "      <th>0</th>\n",
       "      <td>1603</td>\n",
       "      <td>0.722097</td>\n",
       "      <td>Mimic</td>\n",
       "      <td>[\"Horror\",\"Sci-Fi\",\"Thriller\"]</td>\n",
       "    </tr>\n",
       "    <tr>\n",
       "      <th>1</th>\n",
       "      <td>1862</td>\n",
       "      <td>0.706435</td>\n",
       "      <td>Species II</td>\n",
       "      <td>[\"Horror\",\"Sci-Fi\"]</td>\n",
       "    </tr>\n",
       "    <tr>\n",
       "      <th>2</th>\n",
       "      <td>1690</td>\n",
       "      <td>0.664487</td>\n",
       "      <td>Alien: Resurrection</td>\n",
       "      <td>[\"Action\",\"Horror\",\"Sci-Fi\"]</td>\n",
       "    </tr>\n",
       "    <tr>\n",
       "      <th>3</th>\n",
       "      <td>1590</td>\n",
       "      <td>0.664322</td>\n",
       "      <td>Event Horizon</td>\n",
       "      <td>[\"Horror\",\"Sci-Fi\",\"Thriller\"]</td>\n",
       "    </tr>\n",
       "    <tr>\n",
       "      <th>4</th>\n",
       "      <td>172</td>\n",
       "      <td>0.637178</td>\n",
       "      <td>Johnny Mnemonic</td>\n",
       "      <td>[\"Action\",\"Sci-Fi\",\"Thriller\"]</td>\n",
       "    </tr>\n",
       "    <tr>\n",
       "      <th>5</th>\n",
       "      <td>1779</td>\n",
       "      <td>0.621771</td>\n",
       "      <td>Sphere</td>\n",
       "      <td>[\"Sci-Fi\",\"Thriller\"]</td>\n",
       "    </tr>\n",
       "    <tr>\n",
       "      <th>6</th>\n",
       "      <td>173</td>\n",
       "      <td>0.619452</td>\n",
       "      <td>Judge Dredd</td>\n",
       "      <td>[\"Action\",\"Crime\",\"Sci-Fi\"]</td>\n",
       "    </tr>\n",
       "    <tr>\n",
       "      <th>7</th>\n",
       "      <td>442</td>\n",
       "      <td>0.619162</td>\n",
       "      <td>Demolition Man</td>\n",
       "      <td>[\"Action\",\"Adventure\",\"Sci-Fi\"]</td>\n",
       "    </tr>\n",
       "    <tr>\n",
       "      <th>8</th>\n",
       "      <td>332</td>\n",
       "      <td>0.617267</td>\n",
       "      <td>Village of the Damned</td>\n",
       "      <td>[\"Horror\",\"Sci-Fi\"]</td>\n",
       "    </tr>\n",
       "    <tr>\n",
       "      <th>9</th>\n",
       "      <td>880</td>\n",
       "      <td>0.608649</td>\n",
       "      <td>Island of Dr. Moreau, The</td>\n",
       "      <td>[\"Sci-Fi\",\"Thriller\"]</td>\n",
       "    </tr>\n",
       "  </tbody>\n",
       "</table>\n",
       "</div>"
      ],
      "text/plain": [
       "   movie_id       sim                       title  \\\n",
       "0      1603  0.722097                      Mimic    \n",
       "1      1862  0.706435                 Species II    \n",
       "2      1690  0.664487        Alien: Resurrection    \n",
       "3      1590  0.664322              Event Horizon    \n",
       "4       172  0.637178            Johnny Mnemonic    \n",
       "5      1779  0.621771                     Sphere    \n",
       "6       173  0.619452                Judge Dredd    \n",
       "7       442  0.619162             Demolition Man    \n",
       "8       332  0.617267      Village of the Damned    \n",
       "9       880  0.608649  Island of Dr. Moreau, The    \n",
       "\n",
       "                            genres  \n",
       "0   [\"Horror\",\"Sci-Fi\",\"Thriller\"]  \n",
       "1              [\"Horror\",\"Sci-Fi\"]  \n",
       "2     [\"Action\",\"Horror\",\"Sci-Fi\"]  \n",
       "3   [\"Horror\",\"Sci-Fi\",\"Thriller\"]  \n",
       "4   [\"Action\",\"Sci-Fi\",\"Thriller\"]  \n",
       "5            [\"Sci-Fi\",\"Thriller\"]  \n",
       "6      [\"Action\",\"Crime\",\"Sci-Fi\"]  \n",
       "7  [\"Action\",\"Adventure\",\"Sci-Fi\"]  \n",
       "8              [\"Horror\",\"Sci-Fi\"]  \n",
       "9            [\"Sci-Fi\",\"Thriller\"]  "
      ]
     },
     "metadata": {},
     "output_type": "display_data"
    },
    {
     "name": "stdout",
     "output_type": "stream",
     "text": [
      "\n",
      "Star Wars V - Star Wars VI (similar in Doc2Vec): 0.722052519549\n",
      "Star Wars V - Angela's Ashes (dissimilar in Doc2Vec): -0.16142731848\n",
      "most similar to Star Wars V\n"
     ]
    },
    {
     "data": {
      "text/html": [
       "<div>\n",
       "<table border=\"1\" class=\"dataframe\">\n",
       "  <thead>\n",
       "    <tr style=\"text-align: right;\">\n",
       "      <th></th>\n",
       "      <th>movie_id</th>\n",
       "      <th>sim</th>\n",
       "      <th>title</th>\n",
       "      <th>genres</th>\n",
       "    </tr>\n",
       "  </thead>\n",
       "  <tbody>\n",
       "    <tr>\n",
       "      <th>0</th>\n",
       "      <td>260</td>\n",
       "      <td>0.814265</td>\n",
       "      <td>Star Wars: Episode IV - A New Hope</td>\n",
       "      <td>[\"Action\",\"Adventure\",\"Sci-Fi\"]</td>\n",
       "    </tr>\n",
       "    <tr>\n",
       "      <th>1</th>\n",
       "      <td>1210</td>\n",
       "      <td>0.722053</td>\n",
       "      <td>Star Wars: Episode VI - Return of the Jedi</td>\n",
       "      <td>[\"Action\",\"Adventure\",\"Sci-Fi\"]</td>\n",
       "    </tr>\n",
       "    <tr>\n",
       "      <th>2</th>\n",
       "      <td>1240</td>\n",
       "      <td>0.709440</td>\n",
       "      <td>Terminator, The</td>\n",
       "      <td>[\"Action\",\"Sci-Fi\",\"Thriller\"]</td>\n",
       "    </tr>\n",
       "    <tr>\n",
       "      <th>3</th>\n",
       "      <td>1198</td>\n",
       "      <td>0.685031</td>\n",
       "      <td>Raiders of the Lost Ark</td>\n",
       "      <td>[\"Action\",\"Adventure\"]</td>\n",
       "    </tr>\n",
       "    <tr>\n",
       "      <th>4</th>\n",
       "      <td>1200</td>\n",
       "      <td>0.616765</td>\n",
       "      <td>Aliens</td>\n",
       "      <td>[\"Action\",\"Adventure\",\"Horror\",\"Sci-Fi\"]</td>\n",
       "    </tr>\n",
       "    <tr>\n",
       "      <th>5</th>\n",
       "      <td>1291</td>\n",
       "      <td>0.615452</td>\n",
       "      <td>Indiana Jones and the Last Crusade</td>\n",
       "      <td>[\"Action\",\"Adventure\"]</td>\n",
       "    </tr>\n",
       "    <tr>\n",
       "      <th>6</th>\n",
       "      <td>1097</td>\n",
       "      <td>0.531153</td>\n",
       "      <td>E.T. the Extra-Terrestrial</td>\n",
       "      <td>[\"Children\",\"Drama\",\"Sci-Fi\"]</td>\n",
       "    </tr>\n",
       "    <tr>\n",
       "      <th>7</th>\n",
       "      <td>1197</td>\n",
       "      <td>0.517411</td>\n",
       "      <td>Princess Bride, The</td>\n",
       "      <td>[\"Action\",\"Adventure\",\"Comedy\",\"Fantasy\",\"Roma...</td>\n",
       "    </tr>\n",
       "    <tr>\n",
       "      <th>8</th>\n",
       "      <td>541</td>\n",
       "      <td>0.510899</td>\n",
       "      <td>Blade Runner</td>\n",
       "      <td>[\"Action\",\"Sci-Fi\",\"Thriller\"]</td>\n",
       "    </tr>\n",
       "    <tr>\n",
       "      <th>9</th>\n",
       "      <td>1214</td>\n",
       "      <td>0.501877</td>\n",
       "      <td>Alien</td>\n",
       "      <td>[\"Horror\",\"Sci-Fi\"]</td>\n",
       "    </tr>\n",
       "  </tbody>\n",
       "</table>\n",
       "</div>"
      ],
      "text/plain": [
       "   movie_id       sim                                        title  \\\n",
       "0       260  0.814265          Star Wars: Episode IV - A New Hope    \n",
       "1      1210  0.722053  Star Wars: Episode VI - Return of the Jedi    \n",
       "2      1240  0.709440                             Terminator, The    \n",
       "3      1198  0.685031                     Raiders of the Lost Ark    \n",
       "4      1200  0.616765                                      Aliens    \n",
       "5      1291  0.615452          Indiana Jones and the Last Crusade    \n",
       "6      1097  0.531153                  E.T. the Extra-Terrestrial    \n",
       "7      1197  0.517411                         Princess Bride, The    \n",
       "8       541  0.510899                                Blade Runner    \n",
       "9      1214  0.501877                                       Alien    \n",
       "\n",
       "                                              genres  \n",
       "0                    [\"Action\",\"Adventure\",\"Sci-Fi\"]  \n",
       "1                    [\"Action\",\"Adventure\",\"Sci-Fi\"]  \n",
       "2                     [\"Action\",\"Sci-Fi\",\"Thriller\"]  \n",
       "3                             [\"Action\",\"Adventure\"]  \n",
       "4           [\"Action\",\"Adventure\",\"Horror\",\"Sci-Fi\"]  \n",
       "5                             [\"Action\",\"Adventure\"]  \n",
       "6                      [\"Children\",\"Drama\",\"Sci-Fi\"]  \n",
       "7  [\"Action\",\"Adventure\",\"Comedy\",\"Fantasy\",\"Roma...  \n",
       "8                     [\"Action\",\"Sci-Fi\",\"Thriller\"]  \n",
       "9                                [\"Horror\",\"Sci-Fi\"]  "
      ]
     },
     "metadata": {},
     "output_type": "display_data"
    },
    {
     "name": "stdout",
     "output_type": "stream",
     "text": [
      "\n",
      "Toy Story - Toy Story 2 (similar in Doc2Vec): 0.667803907944\n",
      "Toy Story - Raise the Red Lantern (dissimilar in Doc2Vec): -0.0505249450573\n",
      "most similar to Toy Story\n"
     ]
    },
    {
     "data": {
      "text/html": [
       "<div>\n",
       "<table border=\"1\" class=\"dataframe\">\n",
       "  <thead>\n",
       "    <tr style=\"text-align: right;\">\n",
       "      <th></th>\n",
       "      <th>movie_id</th>\n",
       "      <th>sim</th>\n",
       "      <th>title</th>\n",
       "      <th>genres</th>\n",
       "    </tr>\n",
       "  </thead>\n",
       "  <tbody>\n",
       "    <tr>\n",
       "      <th>0</th>\n",
       "      <td>3114</td>\n",
       "      <td>0.667804</td>\n",
       "      <td>Toy Story 2</td>\n",
       "      <td>[\"Adventure\",\"Animation\",\"Children\",\"Comedy\",\"...</td>\n",
       "    </tr>\n",
       "    <tr>\n",
       "      <th>1</th>\n",
       "      <td>1265</td>\n",
       "      <td>0.616815</td>\n",
       "      <td>Groundhog Day</td>\n",
       "      <td>[\"Comedy\",\"Fantasy\",\"Romance\"]</td>\n",
       "    </tr>\n",
       "    <tr>\n",
       "      <th>2</th>\n",
       "      <td>1923</td>\n",
       "      <td>0.563258</td>\n",
       "      <td>There\\'s Something About Mary</td>\n",
       "      <td>[\"Comedy\",\"Romance\"]</td>\n",
       "    </tr>\n",
       "    <tr>\n",
       "      <th>3</th>\n",
       "      <td>3253</td>\n",
       "      <td>0.557426</td>\n",
       "      <td>Wayne\\'s World</td>\n",
       "      <td>[\"Comedy\"]</td>\n",
       "    </tr>\n",
       "    <tr>\n",
       "      <th>4</th>\n",
       "      <td>2321</td>\n",
       "      <td>0.554332</td>\n",
       "      <td>Pleasantville</td>\n",
       "      <td>[\"Comedy\",\"Drama\",\"Fantasy\"]</td>\n",
       "    </tr>\n",
       "    <tr>\n",
       "      <th>5</th>\n",
       "      <td>34</td>\n",
       "      <td>0.553615</td>\n",
       "      <td>Babe</td>\n",
       "      <td>[\"Children\",\"Drama\"]</td>\n",
       "    </tr>\n",
       "    <tr>\n",
       "      <th>6</th>\n",
       "      <td>588</td>\n",
       "      <td>0.534896</td>\n",
       "      <td>Aladdin</td>\n",
       "      <td>[\"Adventure\",\"Animation\",\"Children\",\"Comedy\",\"...</td>\n",
       "    </tr>\n",
       "    <tr>\n",
       "      <th>7</th>\n",
       "      <td>1641</td>\n",
       "      <td>0.522546</td>\n",
       "      <td>Full Monty, The</td>\n",
       "      <td>[\"Comedy\",\"Drama\"]</td>\n",
       "    </tr>\n",
       "    <tr>\n",
       "      <th>8</th>\n",
       "      <td>2355</td>\n",
       "      <td>0.520408</td>\n",
       "      <td>Bug\\'s Life, A</td>\n",
       "      <td>[\"Adventure\",\"Animation\",\"Children\",\"Comedy\"]</td>\n",
       "    </tr>\n",
       "    <tr>\n",
       "      <th>9</th>\n",
       "      <td>364</td>\n",
       "      <td>0.490792</td>\n",
       "      <td>Lion King, The</td>\n",
       "      <td>[\"Adventure\",\"Animation\",\"Children\",\"Drama\",\"M...</td>\n",
       "    </tr>\n",
       "  </tbody>\n",
       "</table>\n",
       "</div>"
      ],
      "text/plain": [
       "   movie_id       sim                           title  \\\n",
       "0      3114  0.667804                    Toy Story 2    \n",
       "1      1265  0.616815                  Groundhog Day    \n",
       "2      1923  0.563258  There\\'s Something About Mary    \n",
       "3      3253  0.557426                 Wayne\\'s World    \n",
       "4      2321  0.554332                  Pleasantville    \n",
       "5        34  0.553615                           Babe    \n",
       "6       588  0.534896                        Aladdin    \n",
       "7      1641  0.522546                Full Monty, The    \n",
       "8      2355  0.520408                 Bug\\'s Life, A    \n",
       "9       364  0.490792                 Lion King, The    \n",
       "\n",
       "                                              genres  \n",
       "0  [\"Adventure\",\"Animation\",\"Children\",\"Comedy\",\"...  \n",
       "1                     [\"Comedy\",\"Fantasy\",\"Romance\"]  \n",
       "2                               [\"Comedy\",\"Romance\"]  \n",
       "3                                         [\"Comedy\"]  \n",
       "4                       [\"Comedy\",\"Drama\",\"Fantasy\"]  \n",
       "5                               [\"Children\",\"Drama\"]  \n",
       "6  [\"Adventure\",\"Animation\",\"Children\",\"Comedy\",\"...  \n",
       "7                                 [\"Comedy\",\"Drama\"]  \n",
       "8      [\"Adventure\",\"Animation\",\"Children\",\"Comedy\"]  \n",
       "9  [\"Adventure\",\"Animation\",\"Children\",\"Drama\",\"M...  "
      ]
     },
     "metadata": {},
     "output_type": "display_data"
    }
   ],
   "source": [
    "path = '../models/mpcf-si/2016-06-29_13.23.36_si_ml-1m_e20_tt-0.7_task-0.h5'\n",
    "print_similarities(path)"
   ]
  },
  {
   "cell_type": "code",
   "execution_count": 44,
   "metadata": {
    "collapsed": false
   },
   "outputs": [
    {
     "name": "stdout",
     "output_type": "stream",
     "text": [
      "Free Willy - Free Willy 2 (similar in Doc2Vec): 0.732944583476\n",
      "Free Willy - Mrs. Brown (dissimilar in Doc2Vec): -0.0926604879151\n",
      "\n",
      "Jurassic Park - Jurassic Park 2 (similar in Doc2Vec): 0.621436244914\n",
      "Jurassic Park - Battling Butler (dissimilar in Doc2Vec): -0.180504018778\n",
      "\n",
      "Scream - Scream 2 (similar in Doc2Vec): 0.736175015923\n",
      "Scream - Kelly's Heroes (dissimilar in Doc2Vec): -0.197135526548\n",
      "\n",
      "Species - Species II (similar in Doc2Vec): 0.701474777661\n",
      "Species - Patton (dissimilar in Doc2Vec): -0.0485456255288\n",
      "\n",
      "Star Wars V - Star Wars VI (similar in Doc2Vec): 0.765015977461\n",
      "Star Wars V - Angela's Ashes (dissimilar in Doc2Vec): -0.17324603141\n",
      "\n",
      "Toy Story - Toy Story 2 (similar in Doc2Vec): 0.68379751577\n",
      "Toy Story - Raise the Red Lantern (dissimilar in Doc2Vec): -0.0490065116925\n"
     ]
    }
   ],
   "source": [
    "paths = [\n",
    "'../models/mpcf-si/2016-06-29_13.23.36_si_ml-1m_e20_tt-0.7_task-0.h5',\n",
    "'../models/mpcf-si/2016-06-30_07.38.02_si_ml-1m_e20_tt-0.7_train-2.h5',\n",
    "'../models/mpcf-si/2016-06-30_07.32.45_si_ml-1m_e20_tt-0.7_train-3.h5',\n",
    "'../models/mpcf-si/2016-06-30_07.36.22_si_ml-1m_e20_tt-0.7_train-4.h5',\n",
    "'../models/mpcf-si/2016-06-30_07.35.21_si_ml-1m_e20_tt-0.7_train-5.h5',\n",
    "]\n",
    "get_avg_cosine_sim(paths)"
   ]
  },
  {
   "cell_type": "markdown",
   "metadata": {
    "collapsed": true
   },
   "source": [
    "## MFNN"
   ]
  },
  {
   "cell_type": "code",
   "execution_count": 45,
   "metadata": {
    "collapsed": false,
    "scrolled": false
   },
   "outputs": [
    {
     "name": "stdout",
     "output_type": "stream",
     "text": [
      "Free Willy - Free Willy 2 (similar in Doc2Vec): 0.828474725234\n",
      "Free Willy - Mrs. Brown (dissimilar in Doc2Vec): 0.0437503275236\n",
      "most similar to Free Willy\n"
     ]
    },
    {
     "data": {
      "text/html": [
       "<div>\n",
       "<table border=\"1\" class=\"dataframe\">\n",
       "  <thead>\n",
       "    <tr style=\"text-align: right;\">\n",
       "      <th></th>\n",
       "      <th>movie_id</th>\n",
       "      <th>sim</th>\n",
       "      <th>title</th>\n",
       "      <th>genres</th>\n",
       "    </tr>\n",
       "  </thead>\n",
       "  <tbody>\n",
       "    <tr>\n",
       "      <th>0</th>\n",
       "      <td>169</td>\n",
       "      <td>0.828475</td>\n",
       "      <td>Free Willy 2: The Adventure Home</td>\n",
       "      <td>[\"Adventure\",\"Children\",\"Drama\"]</td>\n",
       "    </tr>\n",
       "    <tr>\n",
       "      <th>1</th>\n",
       "      <td>1015</td>\n",
       "      <td>0.786158</td>\n",
       "      <td>Homeward Bound: The Incredible Journey</td>\n",
       "      <td>[\"Adventure\",\"Children\",\"Drama\"]</td>\n",
       "    </tr>\n",
       "    <tr>\n",
       "      <th>2</th>\n",
       "      <td>711</td>\n",
       "      <td>0.750752</td>\n",
       "      <td>Flipper</td>\n",
       "      <td>[\"Adventure\",\"Children\"]</td>\n",
       "    </tr>\n",
       "    <tr>\n",
       "      <th>3</th>\n",
       "      <td>158</td>\n",
       "      <td>0.744557</td>\n",
       "      <td>Casper</td>\n",
       "      <td>[\"Adventure\",\"Children\"]</td>\n",
       "    </tr>\n",
       "    <tr>\n",
       "      <th>4</th>\n",
       "      <td>1595</td>\n",
       "      <td>0.741030</td>\n",
       "      <td>Free Willy 3: The Rescue</td>\n",
       "      <td>[\"Adventure\",\"Children\",\"Drama\"]</td>\n",
       "    </tr>\n",
       "    <tr>\n",
       "      <th>5</th>\n",
       "      <td>1359</td>\n",
       "      <td>0.728484</td>\n",
       "      <td>Jingle All the Way</td>\n",
       "      <td>[\"Children\",\"Comedy\"]</td>\n",
       "    </tr>\n",
       "    <tr>\n",
       "      <th>6</th>\n",
       "      <td>3672</td>\n",
       "      <td>0.705980</td>\n",
       "      <td>Benji</td>\n",
       "      <td>[\"Adventure\",\"Children\"]</td>\n",
       "    </tr>\n",
       "    <tr>\n",
       "      <th>7</th>\n",
       "      <td>2429</td>\n",
       "      <td>0.702793</td>\n",
       "      <td>Mighty Joe Young</td>\n",
       "      <td>[\"Action\",\"Adventure\",\"Drama\",\"Fantasy\",\"Thril...</td>\n",
       "    </tr>\n",
       "    <tr>\n",
       "      <th>8</th>\n",
       "      <td>8</td>\n",
       "      <td>0.699666</td>\n",
       "      <td>Tom and Huck</td>\n",
       "      <td>[\"Adventure\",\"Children\"]</td>\n",
       "    </tr>\n",
       "    <tr>\n",
       "      <th>9</th>\n",
       "      <td>885</td>\n",
       "      <td>0.682233</td>\n",
       "      <td>Bogus</td>\n",
       "      <td>[\"Children\",\"Drama\",\"Fantasy\"]</td>\n",
       "    </tr>\n",
       "  </tbody>\n",
       "</table>\n",
       "</div>"
      ],
      "text/plain": [
       "   movie_id       sim                                    title  \\\n",
       "0       169  0.828475        Free Willy 2: The Adventure Home    \n",
       "1      1015  0.786158  Homeward Bound: The Incredible Journey    \n",
       "2       711  0.750752                                 Flipper    \n",
       "3       158  0.744557                                  Casper    \n",
       "4      1595  0.741030                Free Willy 3: The Rescue    \n",
       "5      1359  0.728484                      Jingle All the Way    \n",
       "6      3672  0.705980                                   Benji    \n",
       "7      2429  0.702793                        Mighty Joe Young    \n",
       "8         8  0.699666                            Tom and Huck    \n",
       "9       885  0.682233                                   Bogus    \n",
       "\n",
       "                                              genres  \n",
       "0                   [\"Adventure\",\"Children\",\"Drama\"]  \n",
       "1                   [\"Adventure\",\"Children\",\"Drama\"]  \n",
       "2                           [\"Adventure\",\"Children\"]  \n",
       "3                           [\"Adventure\",\"Children\"]  \n",
       "4                   [\"Adventure\",\"Children\",\"Drama\"]  \n",
       "5                              [\"Children\",\"Comedy\"]  \n",
       "6                           [\"Adventure\",\"Children\"]  \n",
       "7  [\"Action\",\"Adventure\",\"Drama\",\"Fantasy\",\"Thril...  \n",
       "8                           [\"Adventure\",\"Children\"]  \n",
       "9                     [\"Children\",\"Drama\",\"Fantasy\"]  "
      ]
     },
     "metadata": {},
     "output_type": "display_data"
    },
    {
     "name": "stdout",
     "output_type": "stream",
     "text": [
      "\n",
      "Jurassic Park - Jurassic Park 2 (similar in Doc2Vec): 0.733450617764\n",
      "Jurassic Park - Battling Butler (dissimilar in Doc2Vec): 0.0611703494449\n",
      "most similar to Jurassic Park\n"
     ]
    },
    {
     "data": {
      "text/html": [
       "<div>\n",
       "<table border=\"1\" class=\"dataframe\">\n",
       "  <thead>\n",
       "    <tr style=\"text-align: right;\">\n",
       "      <th></th>\n",
       "      <th>movie_id</th>\n",
       "      <th>sim</th>\n",
       "      <th>title</th>\n",
       "      <th>genres</th>\n",
       "    </tr>\n",
       "  </thead>\n",
       "  <tbody>\n",
       "    <tr>\n",
       "      <th>0</th>\n",
       "      <td>1580</td>\n",
       "      <td>0.907444</td>\n",
       "      <td>Men in Black</td>\n",
       "      <td>[\"Action\",\"Comedy\",\"Sci-Fi\"]</td>\n",
       "    </tr>\n",
       "    <tr>\n",
       "      <th>1</th>\n",
       "      <td>589</td>\n",
       "      <td>0.800509</td>\n",
       "      <td>Terminator 2: Judgment Day</td>\n",
       "      <td>[\"Action\",\"Sci-Fi\"]</td>\n",
       "    </tr>\n",
       "    <tr>\n",
       "      <th>2</th>\n",
       "      <td>2916</td>\n",
       "      <td>0.753964</td>\n",
       "      <td>Total Recall</td>\n",
       "      <td>[\"Action\",\"Adventure\",\"Sci-Fi\",\"Thriller\"]</td>\n",
       "    </tr>\n",
       "    <tr>\n",
       "      <th>3</th>\n",
       "      <td>1544</td>\n",
       "      <td>0.733451</td>\n",
       "      <td>Lost World: Jurassic Park, The</td>\n",
       "      <td>[\"Action\",\"Adventure\",\"Sci-Fi\",\"Thriller\"]</td>\n",
       "    </tr>\n",
       "    <tr>\n",
       "      <th>4</th>\n",
       "      <td>1573</td>\n",
       "      <td>0.696839</td>\n",
       "      <td>Face/Off</td>\n",
       "      <td>[\"Action\",\"Crime\",\"Drama\",\"Thriller\"]</td>\n",
       "    </tr>\n",
       "    <tr>\n",
       "      <th>5</th>\n",
       "      <td>1356</td>\n",
       "      <td>0.677492</td>\n",
       "      <td>Star Trek: First Contact</td>\n",
       "      <td>[\"Action\",\"Adventure\",\"Sci-Fi\",\"Thriller\"]</td>\n",
       "    </tr>\n",
       "    <tr>\n",
       "      <th>6</th>\n",
       "      <td>1527</td>\n",
       "      <td>0.675665</td>\n",
       "      <td>Fifth Element, The</td>\n",
       "      <td>[\"Action\",\"Adventure\",\"Comedy\",\"Sci-Fi\"]</td>\n",
       "    </tr>\n",
       "    <tr>\n",
       "      <th>7</th>\n",
       "      <td>2571</td>\n",
       "      <td>0.669747</td>\n",
       "      <td>Matrix, The</td>\n",
       "      <td>[\"Action\",\"Sci-Fi\",\"Thriller\"]</td>\n",
       "    </tr>\n",
       "    <tr>\n",
       "      <th>8</th>\n",
       "      <td>648</td>\n",
       "      <td>0.663822</td>\n",
       "      <td>Mission: Impossible</td>\n",
       "      <td>[\"Action\",\"Adventure\",\"Mystery\",\"Thriller\"]</td>\n",
       "    </tr>\n",
       "    <tr>\n",
       "      <th>9</th>\n",
       "      <td>780</td>\n",
       "      <td>0.650530</td>\n",
       "      <td>Independence Day</td>\n",
       "      <td>[\"Action\",\"Adventure\",\"Sci-Fi\",\"Thriller\"]</td>\n",
       "    </tr>\n",
       "  </tbody>\n",
       "</table>\n",
       "</div>"
      ],
      "text/plain": [
       "   movie_id       sim                            title  \\\n",
       "0      1580  0.907444                    Men in Black    \n",
       "1       589  0.800509      Terminator 2: Judgment Day    \n",
       "2      2916  0.753964                    Total Recall    \n",
       "3      1544  0.733451  Lost World: Jurassic Park, The    \n",
       "4      1573  0.696839                        Face/Off    \n",
       "5      1356  0.677492        Star Trek: First Contact    \n",
       "6      1527  0.675665              Fifth Element, The    \n",
       "7      2571  0.669747                     Matrix, The    \n",
       "8       648  0.663822             Mission: Impossible    \n",
       "9       780  0.650530                Independence Day    \n",
       "\n",
       "                                        genres  \n",
       "0                 [\"Action\",\"Comedy\",\"Sci-Fi\"]  \n",
       "1                          [\"Action\",\"Sci-Fi\"]  \n",
       "2   [\"Action\",\"Adventure\",\"Sci-Fi\",\"Thriller\"]  \n",
       "3   [\"Action\",\"Adventure\",\"Sci-Fi\",\"Thriller\"]  \n",
       "4        [\"Action\",\"Crime\",\"Drama\",\"Thriller\"]  \n",
       "5   [\"Action\",\"Adventure\",\"Sci-Fi\",\"Thriller\"]  \n",
       "6     [\"Action\",\"Adventure\",\"Comedy\",\"Sci-Fi\"]  \n",
       "7               [\"Action\",\"Sci-Fi\",\"Thriller\"]  \n",
       "8  [\"Action\",\"Adventure\",\"Mystery\",\"Thriller\"]  \n",
       "9   [\"Action\",\"Adventure\",\"Sci-Fi\",\"Thriller\"]  "
      ]
     },
     "metadata": {},
     "output_type": "display_data"
    },
    {
     "name": "stdout",
     "output_type": "stream",
     "text": [
      "\n",
      "Scream - Scream 2 (similar in Doc2Vec): 0.807934065066\n",
      "Scream - Kelly's Heroes (dissimilar in Doc2Vec): -0.0952893964007\n",
      "most similar to Scream\n"
     ]
    },
    {
     "data": {
      "text/html": [
       "<div>\n",
       "<table border=\"1\" class=\"dataframe\">\n",
       "  <thead>\n",
       "    <tr style=\"text-align: right;\">\n",
       "      <th></th>\n",
       "      <th>movie_id</th>\n",
       "      <th>sim</th>\n",
       "      <th>title</th>\n",
       "      <th>genres</th>\n",
       "    </tr>\n",
       "  </thead>\n",
       "  <tbody>\n",
       "    <tr>\n",
       "      <th>0</th>\n",
       "      <td>1717</td>\n",
       "      <td>0.807934</td>\n",
       "      <td>Scream 2</td>\n",
       "      <td>[\"Comedy\",\"Horror\",\"Mystery\",\"Thriller\"]</td>\n",
       "    </tr>\n",
       "    <tr>\n",
       "      <th>1</th>\n",
       "      <td>3499</td>\n",
       "      <td>0.784118</td>\n",
       "      <td>Misery</td>\n",
       "      <td>[\"Drama\",\"Horror\",\"Thriller\"]</td>\n",
       "    </tr>\n",
       "    <tr>\n",
       "      <th>2</th>\n",
       "      <td>1644</td>\n",
       "      <td>0.741383</td>\n",
       "      <td>I Know What You Did Last Summer</td>\n",
       "      <td>[\"Horror\",\"Mystery\",\"Thriller\"]</td>\n",
       "    </tr>\n",
       "    <tr>\n",
       "      <th>3</th>\n",
       "      <td>3476</td>\n",
       "      <td>0.737348</td>\n",
       "      <td>Jacob\\'s Ladder</td>\n",
       "      <td>[\"Horror\",\"Mystery\"]</td>\n",
       "    </tr>\n",
       "    <tr>\n",
       "      <th>4</th>\n",
       "      <td>1339</td>\n",
       "      <td>0.733826</td>\n",
       "      <td>Dracula</td>\n",
       "      <td>[\"Fantasy\",\"Horror\",\"Romance\",\"Thriller\"]</td>\n",
       "    </tr>\n",
       "    <tr>\n",
       "      <th>5</th>\n",
       "      <td>1982</td>\n",
       "      <td>0.727594</td>\n",
       "      <td>Halloween</td>\n",
       "      <td>[\"Horror\"]</td>\n",
       "    </tr>\n",
       "    <tr>\n",
       "      <th>6</th>\n",
       "      <td>724</td>\n",
       "      <td>0.721092</td>\n",
       "      <td>Craft, The</td>\n",
       "      <td>[\"Drama\",\"Fantasy\",\"Horror\",\"Thriller\"]</td>\n",
       "    </tr>\n",
       "    <tr>\n",
       "      <th>7</th>\n",
       "      <td>2120</td>\n",
       "      <td>0.719413</td>\n",
       "      <td>Needful Things</td>\n",
       "      <td>[\"Drama\",\"Horror\"]</td>\n",
       "    </tr>\n",
       "    <tr>\n",
       "      <th>8</th>\n",
       "      <td>1645</td>\n",
       "      <td>0.710941</td>\n",
       "      <td>Devil\\'s Advocate, The</td>\n",
       "      <td>[\"Drama\",\"Mystery\",\"Thriller\"]</td>\n",
       "    </tr>\n",
       "    <tr>\n",
       "      <th>9</th>\n",
       "      <td>253</td>\n",
       "      <td>0.695502</td>\n",
       "      <td>Interview with the Vampire: The Vampire Chroni...</td>\n",
       "      <td>[\"Drama\",\"Horror\"]</td>\n",
       "    </tr>\n",
       "  </tbody>\n",
       "</table>\n",
       "</div>"
      ],
      "text/plain": [
       "   movie_id       sim                                              title  \\\n",
       "0      1717  0.807934                                          Scream 2    \n",
       "1      3499  0.784118                                            Misery    \n",
       "2      1644  0.741383                   I Know What You Did Last Summer    \n",
       "3      3476  0.737348                                   Jacob\\'s Ladder    \n",
       "4      1339  0.733826                                           Dracula    \n",
       "5      1982  0.727594                                         Halloween    \n",
       "6       724  0.721092                                        Craft, The    \n",
       "7      2120  0.719413                                    Needful Things    \n",
       "8      1645  0.710941                            Devil\\'s Advocate, The    \n",
       "9       253  0.695502  Interview with the Vampire: The Vampire Chroni...   \n",
       "\n",
       "                                      genres  \n",
       "0   [\"Comedy\",\"Horror\",\"Mystery\",\"Thriller\"]  \n",
       "1              [\"Drama\",\"Horror\",\"Thriller\"]  \n",
       "2            [\"Horror\",\"Mystery\",\"Thriller\"]  \n",
       "3                       [\"Horror\",\"Mystery\"]  \n",
       "4  [\"Fantasy\",\"Horror\",\"Romance\",\"Thriller\"]  \n",
       "5                                 [\"Horror\"]  \n",
       "6    [\"Drama\",\"Fantasy\",\"Horror\",\"Thriller\"]  \n",
       "7                         [\"Drama\",\"Horror\"]  \n",
       "8             [\"Drama\",\"Mystery\",\"Thriller\"]  \n",
       "9                         [\"Drama\",\"Horror\"]  "
      ]
     },
     "metadata": {},
     "output_type": "display_data"
    },
    {
     "name": "stdout",
     "output_type": "stream",
     "text": [
      "\n",
      "Species - Species II (similar in Doc2Vec): 0.786596563854\n",
      "Species - Patton (dissimilar in Doc2Vec): 0.127275866759\n",
      "most similar to Species\n"
     ]
    },
    {
     "data": {
      "text/html": [
       "<div>\n",
       "<table border=\"1\" class=\"dataframe\">\n",
       "  <thead>\n",
       "    <tr style=\"text-align: right;\">\n",
       "      <th></th>\n",
       "      <th>movie_id</th>\n",
       "      <th>sim</th>\n",
       "      <th>title</th>\n",
       "      <th>genres</th>\n",
       "    </tr>\n",
       "  </thead>\n",
       "  <tbody>\n",
       "    <tr>\n",
       "      <th>0</th>\n",
       "      <td>1603</td>\n",
       "      <td>0.852905</td>\n",
       "      <td>Mimic</td>\n",
       "      <td>[\"Horror\",\"Sci-Fi\",\"Thriller\"]</td>\n",
       "    </tr>\n",
       "    <tr>\n",
       "      <th>1</th>\n",
       "      <td>880</td>\n",
       "      <td>0.811985</td>\n",
       "      <td>Island of Dr. Moreau, The</td>\n",
       "      <td>[\"Sci-Fi\",\"Thriller\"]</td>\n",
       "    </tr>\n",
       "    <tr>\n",
       "      <th>2</th>\n",
       "      <td>1779</td>\n",
       "      <td>0.794934</td>\n",
       "      <td>Sphere</td>\n",
       "      <td>[\"Sci-Fi\",\"Thriller\"]</td>\n",
       "    </tr>\n",
       "    <tr>\n",
       "      <th>3</th>\n",
       "      <td>1862</td>\n",
       "      <td>0.786597</td>\n",
       "      <td>Species II</td>\n",
       "      <td>[\"Horror\",\"Sci-Fi\"]</td>\n",
       "    </tr>\n",
       "    <tr>\n",
       "      <th>4</th>\n",
       "      <td>332</td>\n",
       "      <td>0.785775</td>\n",
       "      <td>Village of the Damned</td>\n",
       "      <td>[\"Horror\",\"Sci-Fi\"]</td>\n",
       "    </tr>\n",
       "    <tr>\n",
       "      <th>5</th>\n",
       "      <td>2448</td>\n",
       "      <td>0.780651</td>\n",
       "      <td>Virus</td>\n",
       "      <td>[\"Horror\",\"Sci-Fi\"]</td>\n",
       "    </tr>\n",
       "    <tr>\n",
       "      <th>6</th>\n",
       "      <td>512</td>\n",
       "      <td>0.775712</td>\n",
       "      <td>Puppet Masters, The</td>\n",
       "      <td>[\"Horror\",\"Sci-Fi\"]</td>\n",
       "    </tr>\n",
       "    <tr>\n",
       "      <th>7</th>\n",
       "      <td>1590</td>\n",
       "      <td>0.774781</td>\n",
       "      <td>Event Horizon</td>\n",
       "      <td>[\"Horror\",\"Sci-Fi\",\"Thriller\"]</td>\n",
       "    </tr>\n",
       "    <tr>\n",
       "      <th>8</th>\n",
       "      <td>1690</td>\n",
       "      <td>0.773353</td>\n",
       "      <td>Alien: Resurrection</td>\n",
       "      <td>[\"Action\",\"Horror\",\"Sci-Fi\"]</td>\n",
       "    </tr>\n",
       "    <tr>\n",
       "      <th>9</th>\n",
       "      <td>76</td>\n",
       "      <td>0.764494</td>\n",
       "      <td>Screamers</td>\n",
       "      <td>[\"Action\",\"Sci-Fi\",\"Thriller\"]</td>\n",
       "    </tr>\n",
       "  </tbody>\n",
       "</table>\n",
       "</div>"
      ],
      "text/plain": [
       "   movie_id       sim                       title  \\\n",
       "0      1603  0.852905                      Mimic    \n",
       "1       880  0.811985  Island of Dr. Moreau, The    \n",
       "2      1779  0.794934                     Sphere    \n",
       "3      1862  0.786597                 Species II    \n",
       "4       332  0.785775      Village of the Damned    \n",
       "5      2448  0.780651                      Virus    \n",
       "6       512  0.775712        Puppet Masters, The    \n",
       "7      1590  0.774781              Event Horizon    \n",
       "8      1690  0.773353        Alien: Resurrection    \n",
       "9        76  0.764494                  Screamers    \n",
       "\n",
       "                           genres  \n",
       "0  [\"Horror\",\"Sci-Fi\",\"Thriller\"]  \n",
       "1           [\"Sci-Fi\",\"Thriller\"]  \n",
       "2           [\"Sci-Fi\",\"Thriller\"]  \n",
       "3             [\"Horror\",\"Sci-Fi\"]  \n",
       "4             [\"Horror\",\"Sci-Fi\"]  \n",
       "5             [\"Horror\",\"Sci-Fi\"]  \n",
       "6             [\"Horror\",\"Sci-Fi\"]  \n",
       "7  [\"Horror\",\"Sci-Fi\",\"Thriller\"]  \n",
       "8    [\"Action\",\"Horror\",\"Sci-Fi\"]  \n",
       "9  [\"Action\",\"Sci-Fi\",\"Thriller\"]  "
      ]
     },
     "metadata": {},
     "output_type": "display_data"
    },
    {
     "name": "stdout",
     "output_type": "stream",
     "text": [
      "\n",
      "Star Wars V - Star Wars VI (similar in Doc2Vec): 0.847277554403\n",
      "Star Wars V - Angela's Ashes (dissimilar in Doc2Vec): -0.123863645706\n",
      "most similar to Star Wars V\n"
     ]
    },
    {
     "data": {
      "text/html": [
       "<div>\n",
       "<table border=\"1\" class=\"dataframe\">\n",
       "  <thead>\n",
       "    <tr style=\"text-align: right;\">\n",
       "      <th></th>\n",
       "      <th>movie_id</th>\n",
       "      <th>sim</th>\n",
       "      <th>title</th>\n",
       "      <th>genres</th>\n",
       "    </tr>\n",
       "  </thead>\n",
       "  <tbody>\n",
       "    <tr>\n",
       "      <th>0</th>\n",
       "      <td>260</td>\n",
       "      <td>0.901147</td>\n",
       "      <td>Star Wars: Episode IV - A New Hope</td>\n",
       "      <td>[\"Action\",\"Adventure\",\"Sci-Fi\"]</td>\n",
       "    </tr>\n",
       "    <tr>\n",
       "      <th>1</th>\n",
       "      <td>1210</td>\n",
       "      <td>0.847278</td>\n",
       "      <td>Star Wars: Episode VI - Return of the Jedi</td>\n",
       "      <td>[\"Action\",\"Adventure\",\"Sci-Fi\"]</td>\n",
       "    </tr>\n",
       "    <tr>\n",
       "      <th>2</th>\n",
       "      <td>1240</td>\n",
       "      <td>0.843912</td>\n",
       "      <td>Terminator, The</td>\n",
       "      <td>[\"Action\",\"Sci-Fi\",\"Thriller\"]</td>\n",
       "    </tr>\n",
       "    <tr>\n",
       "      <th>3</th>\n",
       "      <td>1198</td>\n",
       "      <td>0.838579</td>\n",
       "      <td>Raiders of the Lost Ark</td>\n",
       "      <td>[\"Action\",\"Adventure\"]</td>\n",
       "    </tr>\n",
       "    <tr>\n",
       "      <th>4</th>\n",
       "      <td>1200</td>\n",
       "      <td>0.792017</td>\n",
       "      <td>Aliens</td>\n",
       "      <td>[\"Action\",\"Adventure\",\"Horror\",\"Sci-Fi\"]</td>\n",
       "    </tr>\n",
       "    <tr>\n",
       "      <th>5</th>\n",
       "      <td>1291</td>\n",
       "      <td>0.789889</td>\n",
       "      <td>Indiana Jones and the Last Crusade</td>\n",
       "      <td>[\"Action\",\"Adventure\"]</td>\n",
       "    </tr>\n",
       "    <tr>\n",
       "      <th>6</th>\n",
       "      <td>1097</td>\n",
       "      <td>0.722538</td>\n",
       "      <td>E.T. the Extra-Terrestrial</td>\n",
       "      <td>[\"Children\",\"Drama\",\"Sci-Fi\"]</td>\n",
       "    </tr>\n",
       "    <tr>\n",
       "      <th>7</th>\n",
       "      <td>1036</td>\n",
       "      <td>0.691353</td>\n",
       "      <td>Die Hard</td>\n",
       "      <td>[\"Action\",\"Crime\",\"Thriller\"]</td>\n",
       "    </tr>\n",
       "    <tr>\n",
       "      <th>8</th>\n",
       "      <td>1270</td>\n",
       "      <td>0.677533</td>\n",
       "      <td>Back to the Future</td>\n",
       "      <td>[\"Adventure\",\"Comedy\",\"Sci-Fi\"]</td>\n",
       "    </tr>\n",
       "    <tr>\n",
       "      <th>9</th>\n",
       "      <td>1374</td>\n",
       "      <td>0.674408</td>\n",
       "      <td>Star Trek II: The Wrath of Khan</td>\n",
       "      <td>[\"Action\",\"Adventure\",\"Sci-Fi\",\"Thriller\"]</td>\n",
       "    </tr>\n",
       "  </tbody>\n",
       "</table>\n",
       "</div>"
      ],
      "text/plain": [
       "   movie_id       sim                                        title  \\\n",
       "0       260  0.901147          Star Wars: Episode IV - A New Hope    \n",
       "1      1210  0.847278  Star Wars: Episode VI - Return of the Jedi    \n",
       "2      1240  0.843912                             Terminator, The    \n",
       "3      1198  0.838579                     Raiders of the Lost Ark    \n",
       "4      1200  0.792017                                      Aliens    \n",
       "5      1291  0.789889          Indiana Jones and the Last Crusade    \n",
       "6      1097  0.722538                  E.T. the Extra-Terrestrial    \n",
       "7      1036  0.691353                                    Die Hard    \n",
       "8      1270  0.677533                          Back to the Future    \n",
       "9      1374  0.674408             Star Trek II: The Wrath of Khan    \n",
       "\n",
       "                                       genres  \n",
       "0             [\"Action\",\"Adventure\",\"Sci-Fi\"]  \n",
       "1             [\"Action\",\"Adventure\",\"Sci-Fi\"]  \n",
       "2              [\"Action\",\"Sci-Fi\",\"Thriller\"]  \n",
       "3                      [\"Action\",\"Adventure\"]  \n",
       "4    [\"Action\",\"Adventure\",\"Horror\",\"Sci-Fi\"]  \n",
       "5                      [\"Action\",\"Adventure\"]  \n",
       "6               [\"Children\",\"Drama\",\"Sci-Fi\"]  \n",
       "7               [\"Action\",\"Crime\",\"Thriller\"]  \n",
       "8             [\"Adventure\",\"Comedy\",\"Sci-Fi\"]  \n",
       "9  [\"Action\",\"Adventure\",\"Sci-Fi\",\"Thriller\"]  "
      ]
     },
     "metadata": {},
     "output_type": "display_data"
    },
    {
     "name": "stdout",
     "output_type": "stream",
     "text": [
      "\n",
      "Toy Story - Toy Story 2 (similar in Doc2Vec): 0.803792550396\n",
      "Toy Story - Raise the Red Lantern (dissimilar in Doc2Vec): 0.0929723063156\n",
      "most similar to Toy Story\n"
     ]
    },
    {
     "data": {
      "text/html": [
       "<div>\n",
       "<table border=\"1\" class=\"dataframe\">\n",
       "  <thead>\n",
       "    <tr style=\"text-align: right;\">\n",
       "      <th></th>\n",
       "      <th>movie_id</th>\n",
       "      <th>sim</th>\n",
       "      <th>title</th>\n",
       "      <th>genres</th>\n",
       "    </tr>\n",
       "  </thead>\n",
       "  <tbody>\n",
       "    <tr>\n",
       "      <th>0</th>\n",
       "      <td>3114</td>\n",
       "      <td>0.803793</td>\n",
       "      <td>Toy Story 2</td>\n",
       "      <td>[\"Adventure\",\"Animation\",\"Children\",\"Comedy\",\"...</td>\n",
       "    </tr>\n",
       "    <tr>\n",
       "      <th>1</th>\n",
       "      <td>34</td>\n",
       "      <td>0.786402</td>\n",
       "      <td>Babe</td>\n",
       "      <td>[\"Children\",\"Drama\"]</td>\n",
       "    </tr>\n",
       "    <tr>\n",
       "      <th>2</th>\n",
       "      <td>1265</td>\n",
       "      <td>0.749167</td>\n",
       "      <td>Groundhog Day</td>\n",
       "      <td>[\"Comedy\",\"Fantasy\",\"Romance\"]</td>\n",
       "    </tr>\n",
       "    <tr>\n",
       "      <th>3</th>\n",
       "      <td>588</td>\n",
       "      <td>0.709012</td>\n",
       "      <td>Aladdin</td>\n",
       "      <td>[\"Adventure\",\"Animation\",\"Children\",\"Comedy\",\"...</td>\n",
       "    </tr>\n",
       "    <tr>\n",
       "      <th>4</th>\n",
       "      <td>2321</td>\n",
       "      <td>0.702970</td>\n",
       "      <td>Pleasantville</td>\n",
       "      <td>[\"Comedy\",\"Drama\",\"Fantasy\"]</td>\n",
       "    </tr>\n",
       "    <tr>\n",
       "      <th>5</th>\n",
       "      <td>1923</td>\n",
       "      <td>0.670119</td>\n",
       "      <td>There\\'s Something About Mary</td>\n",
       "      <td>[\"Comedy\",\"Romance\"]</td>\n",
       "    </tr>\n",
       "    <tr>\n",
       "      <th>6</th>\n",
       "      <td>1641</td>\n",
       "      <td>0.667783</td>\n",
       "      <td>Full Monty, The</td>\n",
       "      <td>[\"Comedy\",\"Drama\"]</td>\n",
       "    </tr>\n",
       "    <tr>\n",
       "      <th>7</th>\n",
       "      <td>3253</td>\n",
       "      <td>0.643787</td>\n",
       "      <td>Wayne\\'s World</td>\n",
       "      <td>[\"Comedy\"]</td>\n",
       "    </tr>\n",
       "    <tr>\n",
       "      <th>8</th>\n",
       "      <td>2384</td>\n",
       "      <td>0.642325</td>\n",
       "      <td>Babe: Pig in the City</td>\n",
       "      <td>[\"Adventure\",\"Children\",\"Drama\"]</td>\n",
       "    </tr>\n",
       "    <tr>\n",
       "      <th>9</th>\n",
       "      <td>2355</td>\n",
       "      <td>0.634753</td>\n",
       "      <td>Bug\\'s Life, A</td>\n",
       "      <td>[\"Adventure\",\"Animation\",\"Children\",\"Comedy\"]</td>\n",
       "    </tr>\n",
       "  </tbody>\n",
       "</table>\n",
       "</div>"
      ],
      "text/plain": [
       "   movie_id       sim                           title  \\\n",
       "0      3114  0.803793                    Toy Story 2    \n",
       "1        34  0.786402                           Babe    \n",
       "2      1265  0.749167                  Groundhog Day    \n",
       "3       588  0.709012                        Aladdin    \n",
       "4      2321  0.702970                  Pleasantville    \n",
       "5      1923  0.670119  There\\'s Something About Mary    \n",
       "6      1641  0.667783                Full Monty, The    \n",
       "7      3253  0.643787                 Wayne\\'s World    \n",
       "8      2384  0.642325          Babe: Pig in the City    \n",
       "9      2355  0.634753                 Bug\\'s Life, A    \n",
       "\n",
       "                                              genres  \n",
       "0  [\"Adventure\",\"Animation\",\"Children\",\"Comedy\",\"...  \n",
       "1                               [\"Children\",\"Drama\"]  \n",
       "2                     [\"Comedy\",\"Fantasy\",\"Romance\"]  \n",
       "3  [\"Adventure\",\"Animation\",\"Children\",\"Comedy\",\"...  \n",
       "4                       [\"Comedy\",\"Drama\",\"Fantasy\"]  \n",
       "5                               [\"Comedy\",\"Romance\"]  \n",
       "6                                 [\"Comedy\",\"Drama\"]  \n",
       "7                                         [\"Comedy\"]  \n",
       "8                   [\"Adventure\",\"Children\",\"Drama\"]  \n",
       "9      [\"Adventure\",\"Animation\",\"Children\",\"Comedy\"]  "
      ]
     },
     "metadata": {},
     "output_type": "display_data"
    }
   ],
   "source": [
    "path = '../models/mfnn/2016-07-06_10.04.44_mfnn_ml-1m_e10_tt-0.7_task-0.h5'\n",
    "print_similarities(path)"
   ]
  },
  {
   "cell_type": "code",
   "execution_count": 47,
   "metadata": {
    "collapsed": false
   },
   "outputs": [
    {
     "name": "stdout",
     "output_type": "stream",
     "text": [
      " Free Willy - Free Willy 2 (similar in Doc2Vec): 0.830533277952\n",
      "Free Willy - Mrs. Brown (dissimilar in Doc2Vec): 0.0976521464148\n",
      "\n",
      "Jurassic Park - Jurassic Park 2 (similar in Doc2Vec): 0.743970298283\n",
      "Jurassic Park - Battling Butler (dissimilar in Doc2Vec): -0.00828452237641\n",
      "\n",
      "Scream - Scream 2 (similar in Doc2Vec): 0.83249561596\n",
      "Scream - Kelly's Heroes (dissimilar in Doc2Vec): -0.0867792155383\n",
      "\n",
      "Species - Species II (similar in Doc2Vec): 0.820342021073\n",
      "Species - Patton (dissimilar in Doc2Vec): 0.0941959938555\n",
      "\n",
      "Star Wars V - Star Wars VI (similar in Doc2Vec): 0.871660045618\n",
      "Star Wars V - Angela's Ashes (dissimilar in Doc2Vec): -0.118271873623\n",
      "\n",
      "Toy Story - Toy Story 2 (similar in Doc2Vec): 0.792862843221\n",
      "Toy Story - Raise the Red Lantern (dissimilar in Doc2Vec): 0.0592982840202\n"
     ]
    }
   ],
   "source": [
    "paths = [\n",
    "'../models/mfnn/2016-07-06_10.04.44_mfnn_ml-1m_e10_tt-0.7_task-0.h5',\n",
    "'../models/mfnn/2016-07-07_19.50.15_mfnn_ml-1m_e10_tt-0.7_train-2.h5',\n",
    "'../models/mfnn/2016-07-07_19.49.55_mfnn_ml-1m_e10_tt-0.7_train-3.h5',\n",
    "'../models/mfnn/2016-07-07_19.51.28_mfnn_ml-1m_e10_tt-0.7_train-4.h5',\n",
    "'../models/mfnn/2016-07-07_19.51.20_mfnn_ml-1m_e10_tt-0.7_train-5.h5',\n",
    "]\n",
    "get_avg_cosine_sim(paths)"
   ]
  },
  {
   "cell_type": "code",
   "execution_count": null,
   "metadata": {
    "collapsed": true
   },
   "outputs": [],
   "source": []
  }
 ],
 "metadata": {
  "kernelspec": {
   "display_name": "Python 2",
   "language": "python",
   "name": "python2"
  },
  "language_info": {
   "codemirror_mode": {
    "name": "ipython",
    "version": 2
   },
   "file_extension": ".py",
   "mimetype": "text/x-python",
   "name": "python",
   "nbconvert_exporter": "python",
   "pygments_lexer": "ipython2",
   "version": "2.7.11"
  }
 },
 "nbformat": 4,
 "nbformat_minor": 0
}
