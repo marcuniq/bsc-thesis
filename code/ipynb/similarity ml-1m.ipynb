{
 "cells": [
  {
   "cell_type": "code",
   "execution_count": 1,
   "metadata": {
    "collapsed": true
   },
   "outputs": [],
   "source": [
    "from gensim.models.doc2vec import Doc2Vec\n",
    "import deepdish as dd\n",
    "import numpy as np\n",
    "from scipy import spatial\n",
    "from sklearn.metrics.pairwise import cosine_similarity"
   ]
  },
  {
   "cell_type": "code",
   "execution_count": 2,
   "metadata": {
    "collapsed": true
   },
   "outputs": [],
   "source": [
    "def cosine_sim(v1, v2):\n",
    "    #return cosine_similarity(v1,v2)\n",
    "    #return 1 - spatial.distance.cosine(v1, v2)\n",
    "    return np.sum(v1 * v2) / (np.sqrt(np.sum(np.square(v1))) * np.sqrt(np.sum(np.square(v2))))\n",
    "\n",
    "def angular_sim(v1, v2):\n",
    "    return 1 - (np.arccos(cosine_sim(v1,v2))/np.pi)"
   ]
  },
  {
   "cell_type": "markdown",
   "metadata": {},
   "source": [
    "# Document Vectors Space"
   ]
  },
  {
   "cell_type": "code",
   "execution_count": 3,
   "metadata": {
    "collapsed": true
   },
   "outputs": [],
   "source": [
    "path = '../doc2vec-models/2016-04-14_17.36.08_20e_pv-dbow_size50_lr0.025_window8_neg5'\n",
    "model = Doc2Vec.load(path)"
   ]
  },
  {
   "cell_type": "code",
   "execution_count": 4,
   "metadata": {
    "collapsed": true
   },
   "outputs": [],
   "source": [
    "# free willy\n",
    "fw_imdb_id = 106965\n",
    "fw_movie_id = 455\n",
    "\n",
    "# free willy 2\n",
    "fw2_imdb_id = 113114\n",
    "fw2_movie_id = 169"
   ]
  },
  {
   "cell_type": "code",
   "execution_count": 5,
   "metadata": {
    "collapsed": false
   },
   "outputs": [
    {
     "data": {
      "text/plain": [
       "0.86940241592695133"
      ]
     },
     "execution_count": 5,
     "metadata": {},
     "output_type": "execute_result"
    }
   ],
   "source": [
    "model.docvecs.similarity('{}.txt'.format(fw_imdb_id),'{}.txt'.format(fw2_imdb_id))"
   ]
  },
  {
   "cell_type": "code",
   "execution_count": 6,
   "metadata": {
    "collapsed": false
   },
   "outputs": [
    {
     "data": {
      "text/plain": [
       "[('113114.txt', 0.8694024085998535),\n",
       " ('119152.txt', 0.8322009444236755),\n",
       " ('91557.txt', 0.6343326568603516),\n",
       " ('77766.txt', 0.629421591758728),\n",
       " ('113028.txt', 0.6236975789070129),\n",
       " ('116329.txt', 0.6219675540924072),\n",
       " ('134619.txt', 0.6181328892707825),\n",
       " ('98627.txt', 0.6160564422607422),\n",
       " ('117427.txt', 0.6138113141059875),\n",
       " ('97388.txt', 0.612464189529419)]"
      ]
     },
     "execution_count": 6,
     "metadata": {},
     "output_type": "execute_result"
    }
   ],
   "source": [
    "# similar movies to free willy\n",
    "# free willy 2 is most similar\n",
    "model.docvecs.most_similar(positive=['{}.txt'.format(fw_imdb_id)])"
   ]
  },
  {
   "cell_type": "code",
   "execution_count": 7,
   "metadata": {
    "collapsed": false
   },
   "outputs": [
    {
     "data": {
      "text/plain": [
       "[('119280.txt', 0.014068834483623505),\n",
       " ('116192.txt', 0.009390600025653839),\n",
       " ('110588.txt', 0.00923667848110199),\n",
       " ('113987.txt', 0.000695057213306427),\n",
       " ('59319.txt', -0.0006838738918304443),\n",
       " ('96332.txt', -0.0033706873655319214),\n",
       " ('117561.txt', -0.019551947712898254),\n",
       " ('144214.txt', -0.020484495908021927),\n",
       " ('112346.txt', -0.023167015984654427),\n",
       " ('125439.txt', -0.028610385954380035)]"
      ]
     },
     "execution_count": 7,
     "metadata": {},
     "output_type": "execute_result"
    }
   ],
   "source": [
    "# disimilar movies to free willy\n",
    "model.docvecs.most_similar(negative=['{}.txt'.format(fw_imdb_id)])"
   ]
  },
  {
   "cell_type": "code",
   "execution_count": 8,
   "metadata": {
    "collapsed": true
   },
   "outputs": [],
   "source": [
    "# dissimilar to free willy\n",
    "# Mrs. Brown, drama/romance\n",
    "brown_imdb_id = 119280\n",
    "brown_movie_id = 1643"
   ]
  },
  {
   "cell_type": "code",
   "execution_count": 9,
   "metadata": {
    "collapsed": false
   },
   "outputs": [
    {
     "data": {
      "text/plain": [
       "-0.014068827695707734"
      ]
     },
     "execution_count": 9,
     "metadata": {},
     "output_type": "execute_result"
    }
   ],
   "source": [
    "model.docvecs.similarity('{}.txt'.format(fw_imdb_id),'{}.txt'.format(brown_imdb_id))"
   ]
  },
  {
   "cell_type": "code",
   "execution_count": 10,
   "metadata": {
    "collapsed": true
   },
   "outputs": [],
   "source": [
    "# jurassic park\n",
    "jp_imdb_id = 107290\n",
    "jp_movie_id = 480\n",
    "\n",
    "# jurassic park 2\n",
    "jp2_imdb_id = 119567\n",
    "jp2_movie_id = 1544"
   ]
  },
  {
   "cell_type": "code",
   "execution_count": 11,
   "metadata": {
    "collapsed": false
   },
   "outputs": [
    {
     "data": {
      "text/plain": [
       "0.67955040301080083"
      ]
     },
     "execution_count": 11,
     "metadata": {},
     "output_type": "execute_result"
    }
   ],
   "source": [
    "model.docvecs.similarity('{}.txt'.format(jp_imdb_id),'{}.txt'.format(jp2_imdb_id))"
   ]
  },
  {
   "cell_type": "code",
   "execution_count": 12,
   "metadata": {
    "collapsed": false
   },
   "outputs": [
    {
     "data": {
      "text/plain": [
       "[('119675.txt', 0.7279843091964722),\n",
       " ('119567.txt', 0.679550290107727),\n",
       " ('120004.txt', 0.6715301871299744),\n",
       " ('90605.txt', 0.6436644792556763),\n",
       " ('118928.txt', 0.633784294128418),\n",
       " ('97443.txt', 0.6167540550231934),\n",
       " ('117998.txt', 0.6146465539932251),\n",
       " ('56931.txt', 0.6136928200721741),\n",
       " ('88760.txt', 0.6116420030593872),\n",
       " ('118689.txt', 0.5930735468864441)]"
      ]
     },
     "execution_count": 12,
     "metadata": {},
     "output_type": "execute_result"
    }
   ],
   "source": [
    "# similar movies to jurassic park\n",
    "# jurassic park 2 is second most similar movie\n",
    "model.docvecs.most_similar(positive=['{}.txt'.format(jp_imdb_id)])"
   ]
  },
  {
   "cell_type": "code",
   "execution_count": 13,
   "metadata": {
    "collapsed": false
   },
   "outputs": [
    {
     "data": {
      "text/plain": [
       "[('16630.txt', 0.11265313625335693),\n",
       " ('36868.txt', 0.09027586132287979),\n",
       " ('98635.txt', 0.08478951454162598),\n",
       " ('89853.txt', 0.08220337331295013),\n",
       " ('99334.txt', 0.0779241994023323),\n",
       " ('57710.txt', 0.07723505795001984),\n",
       " ('113083.txt', 0.07643953710794449),\n",
       " ('168740.txt', 0.07486752420663834),\n",
       " ('189142.txt', 0.06650149822235107),\n",
       " ('156887.txt', 0.04408472776412964)]"
      ]
     },
     "execution_count": 13,
     "metadata": {},
     "output_type": "execute_result"
    }
   ],
   "source": [
    "# disimilar movies to jurassic park\n",
    "model.docvecs.most_similar(negative=['{}.txt'.format(jp_imdb_id)])"
   ]
  },
  {
   "cell_type": "code",
   "execution_count": 14,
   "metadata": {
    "collapsed": true
   },
   "outputs": [],
   "source": [
    "# most dissimilar to jurassic park\n",
    "# Battling Butler, comedy\n",
    "butler_imdb_id = 16630\n",
    "butler_movie_id = 3012"
   ]
  },
  {
   "cell_type": "code",
   "execution_count": 15,
   "metadata": {
    "collapsed": false
   },
   "outputs": [
    {
     "data": {
      "text/plain": [
       "-0.11265313836867154"
      ]
     },
     "execution_count": 15,
     "metadata": {},
     "output_type": "execute_result"
    }
   ],
   "source": [
    "model.docvecs.similarity('{}.txt'.format(jp_imdb_id),'{}.txt'.format(butler_imdb_id))"
   ]
  },
  {
   "cell_type": "code",
   "execution_count": 16,
   "metadata": {
    "collapsed": true
   },
   "outputs": [],
   "source": [
    "# scream\n",
    "scr_imdb_id = 117571\n",
    "scr_movie_id = 1407\n",
    "\n",
    "# scream 2\n",
    "scr2_imdb_id = 120082\n",
    "scr2_movie_id = 1717"
   ]
  },
  {
   "cell_type": "code",
   "execution_count": 17,
   "metadata": {
    "collapsed": false
   },
   "outputs": [
    {
     "data": {
      "text/plain": [
       "0.75141428516212705"
      ]
     },
     "execution_count": 17,
     "metadata": {},
     "output_type": "execute_result"
    }
   ],
   "source": [
    "model.docvecs.similarity('{}.txt'.format(scr_imdb_id),'{}.txt'.format(scr2_imdb_id))"
   ]
  },
  {
   "cell_type": "code",
   "execution_count": 18,
   "metadata": {
    "collapsed": false
   },
   "outputs": [
    {
     "data": {
      "text/plain": [
       "[('134084.txt', 0.7863492369651794),\n",
       " ('120082.txt', 0.7514142394065857),\n",
       " ('91954.txt', 0.6668806076049805),\n",
       " ('155776.txt', 0.6493260264396667),\n",
       " ('111686.txt', 0.6400280594825745),\n",
       " ('146336.txt', 0.636536180973053),\n",
       " ('192731.txt', 0.6228945851325989),\n",
       " ('204626.txt', 0.616219699382782),\n",
       " ('110632.txt', 0.6104223728179932),\n",
       " ('103919.txt', 0.6087551712989807)]"
      ]
     },
     "execution_count": 18,
     "metadata": {},
     "output_type": "execute_result"
    }
   ],
   "source": [
    "# similar movies to scream\n",
    "# scream 2 is second most similar\n",
    "model.docvecs.most_similar(positive=['{}.txt'.format(scr_imdb_id)])"
   ]
  },
  {
   "cell_type": "code",
   "execution_count": 19,
   "metadata": {
    "collapsed": false
   },
   "outputs": [
    {
     "data": {
      "text/plain": [
       "[('65938.txt', 0.0465000718832016),\n",
       " ('92048.txt', 0.03354673832654953),\n",
       " ('120633.txt', 0.027388297021389008),\n",
       " ('85859.txt', 0.026076868176460266),\n",
       " ('200071.txt', 0.0013969168066978455),\n",
       " ('66473.txt', -0.00011243671178817749),\n",
       " ('110167.txt', -0.0009681433439254761),\n",
       " ('98105.txt', -0.00425439327955246),\n",
       " ('181984.txt', -0.007469929754734039),\n",
       " ('62218.txt', -0.007664471864700317)]"
      ]
     },
     "execution_count": 19,
     "metadata": {},
     "output_type": "execute_result"
    }
   ],
   "source": [
    "# disimilar movies to scream\n",
    "model.docvecs.most_similar(negative=['{}.txt'.format(scr_imdb_id)])"
   ]
  },
  {
   "cell_type": "code",
   "execution_count": 20,
   "metadata": {
    "collapsed": true
   },
   "outputs": [],
   "source": [
    "# most dissimilar to scream\n",
    "# Kelly's Heroes\n",
    "kelly_imdb_id = 65938\n",
    "kelly_movie_id = 3836"
   ]
  },
  {
   "cell_type": "code",
   "execution_count": 21,
   "metadata": {
    "collapsed": false
   },
   "outputs": [
    {
     "data": {
      "text/plain": [
       "-0.04650007406425781"
      ]
     },
     "execution_count": 21,
     "metadata": {},
     "output_type": "execute_result"
    }
   ],
   "source": [
    "model.docvecs.similarity('{}.txt'.format(scr_imdb_id),'{}.txt'.format(kelly_imdb_id))"
   ]
  },
  {
   "cell_type": "code",
   "execution_count": 22,
   "metadata": {
    "collapsed": true
   },
   "outputs": [],
   "source": [
    "# species\n",
    "sp_imdb_id = 114508\n",
    "sp_movie_id = 196\n",
    "\n",
    "# species 2\n",
    "sp2_imdb_id = 120841\n",
    "sp2_movie_id = 1862"
   ]
  },
  {
   "cell_type": "code",
   "execution_count": 23,
   "metadata": {
    "collapsed": false
   },
   "outputs": [
    {
     "data": {
      "text/plain": [
       "0.68311800802591438"
      ]
     },
     "execution_count": 23,
     "metadata": {},
     "output_type": "execute_result"
    }
   ],
   "source": [
    "model.docvecs.similarity('{}.txt'.format(sp_imdb_id),'{}.txt'.format(sp2_imdb_id))"
   ]
  },
  {
   "cell_type": "code",
   "execution_count": 24,
   "metadata": {
    "collapsed": false
   },
   "outputs": [
    {
     "data": {
      "text/plain": [
       "[('120841.txt', 0.6831179857254028),\n",
       " ('90583.txt', 0.6602948904037476),\n",
       " ('204626.txt', 0.6501474976539612),\n",
       " ('139239.txt', 0.6449568271636963),\n",
       " ('105226.txt', 0.6214965581893921),\n",
       " ('164052.txt', 0.6181344389915466),\n",
       " ('95179.txt', 0.6133553981781006),\n",
       " ('84783.txt', 0.6096972823143005),\n",
       " ('115710.txt', 0.6073347926139832),\n",
       " ('82533.txt', 0.6071861982345581)]"
      ]
     },
     "execution_count": 24,
     "metadata": {},
     "output_type": "execute_result"
    }
   ],
   "source": [
    "# similar movies to species\n",
    "# species 2 is most similar\n",
    "model.docvecs.most_similar(positive=['{}.txt'.format(sp_imdb_id)])"
   ]
  },
  {
   "cell_type": "code",
   "execution_count": 25,
   "metadata": {
    "collapsed": false
   },
   "outputs": [
    {
     "data": {
      "text/plain": [
       "[('66206.txt', 0.07634155452251434),\n",
       " ('16630.txt', 0.0496206060051918),\n",
       " ('57546.txt', 0.04905722290277481),\n",
       " ('50825.txt', 0.04533801227807999),\n",
       " ('75232.txt', 0.040982794016599655),\n",
       " ('76137.txt', 0.03134193271398544),\n",
       " ('106226.txt', 0.029320180416107178),\n",
       " ('107501.txt', 0.020478807389736176),\n",
       " ('75704.txt', 0.018507108092308044),\n",
       " ('43274.txt', 0.011801136657595634)]"
      ]
     },
     "execution_count": 25,
     "metadata": {},
     "output_type": "execute_result"
    }
   ],
   "source": [
    "# disimilar movies to species\n",
    "model.docvecs.most_similar(negative=['{}.txt'.format(sp_imdb_id)])"
   ]
  },
  {
   "cell_type": "code",
   "execution_count": 26,
   "metadata": {
    "collapsed": true
   },
   "outputs": [],
   "source": [
    "# most disimilar to species\n",
    "# Patton\n",
    "patton_imdb_id = 66206\n",
    "patton_movie_id = 1272"
   ]
  },
  {
   "cell_type": "code",
   "execution_count": 27,
   "metadata": {
    "collapsed": false
   },
   "outputs": [
    {
     "data": {
      "text/plain": [
       "-0.076341565258958299"
      ]
     },
     "execution_count": 27,
     "metadata": {},
     "output_type": "execute_result"
    }
   ],
   "source": [
    "model.docvecs.similarity('{}.txt'.format(sp_imdb_id),'{}.txt'.format(patton_imdb_id))"
   ]
  },
  {
   "cell_type": "code",
   "execution_count": 28,
   "metadata": {
    "collapsed": true
   },
   "outputs": [],
   "source": [
    "# star wars episode v\n",
    "swv_imdb_id = 80684\n",
    "swv_movie_id = 1196\n",
    "\n",
    "# star wars episode vi\n",
    "swvi_imdb_id = 86190\n",
    "swvi_movie_id = 1210"
   ]
  },
  {
   "cell_type": "code",
   "execution_count": 29,
   "metadata": {
    "collapsed": false
   },
   "outputs": [
    {
     "data": {
      "text/plain": [
       "0.92307505174504856"
      ]
     },
     "execution_count": 29,
     "metadata": {},
     "output_type": "execute_result"
    }
   ],
   "source": [
    "model.docvecs.similarity('{}.txt'.format(swv_imdb_id),'{}.txt'.format(swvi_imdb_id))"
   ]
  },
  {
   "cell_type": "code",
   "execution_count": 30,
   "metadata": {
    "collapsed": false
   },
   "outputs": [
    {
     "data": {
      "text/plain": [
       "[('86190.txt', 0.9230749607086182),\n",
       " ('120915.txt', 0.8119794130325317),\n",
       " ('76759.txt', 0.8067136406898499),\n",
       " ('84827.txt', 0.7332901954650879),\n",
       " ('120738.txt', 0.7259986400604248),\n",
       " ('117731.txt', 0.6888055801391602),\n",
       " ('119707.txt', 0.6791511178016663),\n",
       " ('70909.txt', 0.6599252820014954),\n",
       " ('97368.txt', 0.6569679379463196),\n",
       " ('84315.txt', 0.6349420547485352)]"
      ]
     },
     "execution_count": 30,
     "metadata": {},
     "output_type": "execute_result"
    }
   ],
   "source": [
    "# similar movies to star wars episode v\n",
    "# star wars episode vi is most similar\n",
    "model.docvecs.most_similar(positive=['{}.txt'.format(swv_imdb_id)])"
   ]
  },
  {
   "cell_type": "code",
   "execution_count": 31,
   "metadata": {
    "collapsed": false
   },
   "outputs": [
    {
     "data": {
      "text/plain": [
       "[('145653.txt', 0.01300012692809105),\n",
       " ('94155.txt', 0.010185103863477707),\n",
       " ('217630.txt', 0.0010292734950780869),\n",
       " ('104797.txt', 0.0009782575070858002),\n",
       " ('90863.txt', -0.009507261216640472),\n",
       " ('37884.txt', -0.010835811495780945),\n",
       " ('91024.txt', -0.011850625276565552),\n",
       " ('97322.txt', -0.016994968056678772),\n",
       " ('166396.txt', -0.02006503939628601),\n",
       " ('118556.txt', -0.02777113951742649)]"
      ]
     },
     "execution_count": 31,
     "metadata": {},
     "output_type": "execute_result"
    }
   ],
   "source": [
    "# disimilar movies to star wars episode v\n",
    "model.docvecs.most_similar(negative=['{}.txt'.format(swv_imdb_id)])"
   ]
  },
  {
   "cell_type": "code",
   "execution_count": 32,
   "metadata": {
    "collapsed": true
   },
   "outputs": [],
   "source": [
    "# most disimilar to star wars\n",
    "# Angela\\'s Ashes\n",
    "angela_imdb_id = 145653\n",
    "angela_movie_id = 3179"
   ]
  },
  {
   "cell_type": "code",
   "execution_count": 33,
   "metadata": {
    "collapsed": false
   },
   "outputs": [
    {
     "data": {
      "text/plain": [
       "-0.013000124588363082"
      ]
     },
     "execution_count": 33,
     "metadata": {},
     "output_type": "execute_result"
    }
   ],
   "source": [
    "model.docvecs.similarity('{}.txt'.format(swv_imdb_id),'{}.txt'.format(angela_imdb_id))"
   ]
  },
  {
   "cell_type": "code",
   "execution_count": 34,
   "metadata": {
    "collapsed": true
   },
   "outputs": [],
   "source": [
    "# toy story\n",
    "ts_imdb_id = 114709\n",
    "ts_movie_id = 1\n",
    "\n",
    "# toy story 2\n",
    "ts2_imdb_id = 120363\n",
    "ts2_movie_id = 3114"
   ]
  },
  {
   "cell_type": "code",
   "execution_count": 35,
   "metadata": {
    "collapsed": false
   },
   "outputs": [
    {
     "data": {
      "text/plain": [
       "0.75291341575190129"
      ]
     },
     "execution_count": 35,
     "metadata": {},
     "output_type": "execute_result"
    }
   ],
   "source": [
    "model.docvecs.similarity('{}.txt'.format(ts_imdb_id),'{}.txt'.format(ts2_imdb_id))"
   ]
  },
  {
   "cell_type": "code",
   "execution_count": 36,
   "metadata": {
    "collapsed": false
   },
   "outputs": [
    {
     "data": {
      "text/plain": [
       "[('120363.txt', 0.7529133558273315),\n",
       " ('115433.txt', 0.6592516303062439),\n",
       " ('89961.txt', 0.6522800922393799),\n",
       " ('33563.txt', 0.6440500617027283),\n",
       " ('120913.txt', 0.6346996426582336),\n",
       " ('55254.txt', 0.6268846988677979),\n",
       " ('122718.txt', 0.6225907206535339),\n",
       " ('101329.txt', 0.618421196937561),\n",
       " ('96787.txt', 0.6112702488899231),\n",
       " ('84649.txt', 0.6037213802337646)]"
      ]
     },
     "execution_count": 36,
     "metadata": {},
     "output_type": "execute_result"
    }
   ],
   "source": [
    "# similar movies to toy story\n",
    "# toy story 2 is most similar\n",
    "model.docvecs.most_similar(positive=['{}.txt'.format(ts_imdb_id)])"
   ]
  },
  {
   "cell_type": "code",
   "execution_count": 37,
   "metadata": {
    "collapsed": false
   },
   "outputs": [
    {
     "data": {
      "text/plain": [
       "[('101640.txt', 0.02567880228161812),\n",
       " ('112857.txt', 0.02182948589324951),\n",
       " ('118798.txt', 0.019348686560988426),\n",
       " ('74958.txt', 0.018655510619282722),\n",
       " ('112714.txt', 0.014902409166097641),\n",
       " ('109450.txt', 0.0139361172914505),\n",
       " ('48254.txt', 0.01313953846693039),\n",
       " ('123385.txt', 0.007183991372585297),\n",
       " ('96073.txt', 0.003403082489967346),\n",
       " ('119375.txt', -0.0002711638808250427)]"
      ]
     },
     "execution_count": 37,
     "metadata": {},
     "output_type": "execute_result"
    }
   ],
   "source": [
    "# disimilar movies to toy story\n",
    "model.docvecs.most_similar(negative=['{}.txt'.format(ts_imdb_id)])"
   ]
  },
  {
   "cell_type": "code",
   "execution_count": 38,
   "metadata": {
    "collapsed": true
   },
   "outputs": [],
   "source": [
    "# most disimilar to toy story\n",
    "# Raise the Red Lantern\n",
    "lantern_imdb_id = 101640\n",
    "lantern_movie_id = 1280"
   ]
  },
  {
   "cell_type": "code",
   "execution_count": 39,
   "metadata": {
    "collapsed": false
   },
   "outputs": [
    {
     "data": {
      "text/plain": [
       "-0.025678801003992269"
      ]
     },
     "execution_count": 39,
     "metadata": {},
     "output_type": "execute_result"
    }
   ],
   "source": [
    "model.docvecs.similarity('{}.txt'.format(ts_imdb_id),'{}.txt'.format(lantern_imdb_id))"
   ]
  },
  {
   "cell_type": "markdown",
   "metadata": {},
   "source": [
    "# Item Factor Space"
   ]
  },
  {
   "cell_type": "markdown",
   "metadata": {},
   "source": [
    "## MPCFs (No side information)"
   ]
  },
  {
   "cell_type": "code",
   "execution_count": 40,
   "metadata": {
    "collapsed": false
   },
   "outputs": [],
   "source": [
    "loaded = dd.io.load('../models/mpcf/2016-05-27_20.57.43_no-si_ml-1m_e20_tt-0.7_task-22.h5')\n",
    "items_map = loaded['movies'] # maps movie_id to 0-based index\n",
    "item_factors = loaded['params']['Q']\n",
    "\n",
    "fw_id = items_map[fw_movie_id]\n",
    "fw2_id = items_map[fw2_movie_id]\n",
    "brown_id = items_map[brown_movie_id]\n",
    "\n",
    "jp_id = items_map[jp_movie_id]\n",
    "jp2_id = items_map[jp2_movie_id]\n",
    "butler_id = items_map[butler_movie_id]\n",
    "\n",
    "scr_id = items_map[scr_movie_id]\n",
    "scr2_id = items_map[scr2_movie_id]\n",
    "kelly_id = items_map[kelly_movie_id]\n",
    "\n",
    "sp_id = items_map[sp_movie_id]\n",
    "sp2_id = items_map[sp2_movie_id]\n",
    "patton_id = items_map[patton_movie_id]\n",
    "\n",
    "swv_id = items_map[swv_movie_id]\n",
    "swvi_id = items_map[swvi_movie_id]\n",
    "angela_id = items_map[angela_movie_id]\n",
    "\n",
    "ts_id = items_map[ts_movie_id]\n",
    "ts2_id = items_map[ts2_movie_id]\n",
    "lantern_id = items_map[lantern_movie_id]"
   ]
  },
  {
   "cell_type": "code",
   "execution_count": 41,
   "metadata": {
    "collapsed": false
   },
   "outputs": [
    {
     "name": "stdout",
     "output_type": "stream",
     "text": [
      "similar: 0.692309544564\n",
      "disimilar: -0.0310242412934\n"
     ]
    }
   ],
   "source": [
    "print \"similar:\", cosine_sim(item_factors[fw_id], item_factors[fw2_id])\n",
    "print \"disimilar:\", cosine_sim(item_factors[fw_id], item_factors[brown_id])"
   ]
  },
  {
   "cell_type": "code",
   "execution_count": 42,
   "metadata": {
    "collapsed": false
   },
   "outputs": [
    {
     "name": "stdout",
     "output_type": "stream",
     "text": [
      "similar: 0.583736976915\n",
      "disimilar: -0.121387548439\n"
     ]
    }
   ],
   "source": [
    "print \"similar:\", cosine_sim(item_factors[jp_id], item_factors[jp2_id])\n",
    "print \"disimilar:\", cosine_sim(item_factors[jp_id], item_factors[butler_id])"
   ]
  },
  {
   "cell_type": "code",
   "execution_count": 43,
   "metadata": {
    "collapsed": false
   },
   "outputs": [
    {
     "name": "stdout",
     "output_type": "stream",
     "text": [
      "similar: 0.686800923547\n",
      "disimilar: -0.197853290897\n"
     ]
    }
   ],
   "source": [
    "print \"similar:\", cosine_sim(item_factors[scr_id], item_factors[scr2_id])\n",
    "print \"disimilar:\", cosine_sim(item_factors[scr_id], item_factors[kelly_id])"
   ]
  },
  {
   "cell_type": "code",
   "execution_count": 44,
   "metadata": {
    "collapsed": false
   },
   "outputs": [
    {
     "name": "stdout",
     "output_type": "stream",
     "text": [
      "similar: 0.616964580935\n",
      "disimilar: -0.0549698772233\n"
     ]
    }
   ],
   "source": [
    "print \"similar:\", cosine_sim(item_factors[sp_id], item_factors[sp2_id])\n",
    "print \"disimilar:\", cosine_sim(item_factors[sp_id], item_factors[patton_id])"
   ]
  },
  {
   "cell_type": "code",
   "execution_count": 45,
   "metadata": {
    "collapsed": false
   },
   "outputs": [
    {
     "name": "stdout",
     "output_type": "stream",
     "text": [
      "similar: 0.690062467715\n",
      "disimilar: -0.0734449486636\n"
     ]
    }
   ],
   "source": [
    "print \"similar:\", cosine_sim(item_factors[swv_id], item_factors[swvi_id])\n",
    "print \"disimilar:\", cosine_sim(item_factors[swv_id], item_factors[angela_id])"
   ]
  },
  {
   "cell_type": "code",
   "execution_count": 46,
   "metadata": {
    "collapsed": false
   },
   "outputs": [
    {
     "name": "stdout",
     "output_type": "stream",
     "text": [
      "similar: 0.669595461581\n",
      "disimilar: -0.0127149157715\n"
     ]
    }
   ],
   "source": [
    "print \"similar:\", cosine_sim(item_factors[ts_id], item_factors[ts2_id])\n",
    "print \"disimilar:\", cosine_sim(item_factors[ts_id], item_factors[lantern_id])"
   ]
  },
  {
   "cell_type": "markdown",
   "metadata": {},
   "source": [
    "## MPCFs-SI (with side information)"
   ]
  },
  {
   "cell_type": "code",
   "execution_count": 47,
   "metadata": {
    "collapsed": false
   },
   "outputs": [],
   "source": [
    "loaded = dd.io.load('../models/mpcf-si/2016-06-29_13.23.36_si_ml-1m_e20_tt-0.7_task-0.h5')\n",
    "items_map = loaded['items'] # maps movie_id to 0-based index\n",
    "item_factors = loaded['params']['Q']\n",
    "\n",
    "fw_id = items_map[fw_movie_id]\n",
    "fw2_id = items_map[fw2_movie_id]\n",
    "brown_id = items_map[brown_movie_id]\n",
    "\n",
    "jp_id = items_map[jp_movie_id]\n",
    "jp2_id = items_map[jp2_movie_id]\n",
    "butler_id = items_map[butler_movie_id]\n",
    "\n",
    "scr_id = items_map[scr_movie_id]\n",
    "scr2_id = items_map[scr2_movie_id]\n",
    "kelly_id = items_map[kelly_movie_id]\n",
    "\n",
    "sp_id = items_map[sp_movie_id]\n",
    "sp2_id = items_map[sp2_movie_id]\n",
    "patton_id = items_map[patton_movie_id]\n",
    "\n",
    "swv_id = items_map[swv_movie_id]\n",
    "swvi_id = items_map[swvi_movie_id]\n",
    "angela_id = items_map[angela_movie_id]\n",
    "\n",
    "ts_id = items_map[ts_movie_id]\n",
    "ts2_id = items_map[ts2_movie_id]\n",
    "lantern_id = items_map[lantern_movie_id]"
   ]
  },
  {
   "cell_type": "code",
   "execution_count": 48,
   "metadata": {
    "collapsed": false
   },
   "outputs": [
    {
     "name": "stdout",
     "output_type": "stream",
     "text": [
      "similar: 0.705107367023\n",
      "disimilar: -0.0675717988178\n"
     ]
    }
   ],
   "source": [
    "print \"similar:\", cosine_sim(item_factors[fw_id], item_factors[fw2_id])\n",
    "print \"disimilar:\", cosine_sim(item_factors[fw_id], item_factors[brown_id])"
   ]
  },
  {
   "cell_type": "code",
   "execution_count": 49,
   "metadata": {
    "collapsed": false
   },
   "outputs": [
    {
     "name": "stdout",
     "output_type": "stream",
     "text": [
      "similar: 0.617076550583\n",
      "disimilar: -0.190130878462\n"
     ]
    }
   ],
   "source": [
    "print \"similar:\", cosine_sim(item_factors[jp_id], item_factors[jp2_id])\n",
    "print \"disimilar:\", cosine_sim(item_factors[jp_id], item_factors[butler_id])"
   ]
  },
  {
   "cell_type": "code",
   "execution_count": 50,
   "metadata": {
    "collapsed": false
   },
   "outputs": [
    {
     "name": "stdout",
     "output_type": "stream",
     "text": [
      "similar: 0.723297044654\n",
      "disimilar: -0.205559453259\n"
     ]
    }
   ],
   "source": [
    "print \"similar:\", cosine_sim(item_factors[scr_id], item_factors[scr2_id])\n",
    "print \"disimilar:\", cosine_sim(item_factors[scr_id], item_factors[kelly_id])"
   ]
  },
  {
   "cell_type": "code",
   "execution_count": 51,
   "metadata": {
    "collapsed": false
   },
   "outputs": [
    {
     "name": "stdout",
     "output_type": "stream",
     "text": [
      "similar: 0.70643524738\n",
      "disimilar: -0.0306956746373\n"
     ]
    }
   ],
   "source": [
    "print \"similar:\", cosine_sim(item_factors[sp_id], item_factors[sp2_id])\n",
    "print \"disimilar:\", cosine_sim(item_factors[sp_id], item_factors[patton_id])"
   ]
  },
  {
   "cell_type": "code",
   "execution_count": 52,
   "metadata": {
    "collapsed": false
   },
   "outputs": [
    {
     "name": "stdout",
     "output_type": "stream",
     "text": [
      "similar: 0.722052519549\n",
      "disimilar: -0.16142731848\n"
     ]
    }
   ],
   "source": [
    "print \"similar:\", cosine_sim(item_factors[swv_id], item_factors[swvi_id])\n",
    "print \"disimilar:\", cosine_sim(item_factors[swv_id], item_factors[angela_id])"
   ]
  },
  {
   "cell_type": "code",
   "execution_count": 53,
   "metadata": {
    "collapsed": false
   },
   "outputs": [
    {
     "name": "stdout",
     "output_type": "stream",
     "text": [
      "similar: 0.667803907944\n",
      "disimilar: -0.0505249450573\n"
     ]
    }
   ],
   "source": [
    "print \"similar:\", cosine_sim(item_factors[ts_id], item_factors[ts2_id])\n",
    "print \"disimilar:\", cosine_sim(item_factors[ts_id], item_factors[lantern_id])"
   ]
  },
  {
   "cell_type": "code",
   "execution_count": null,
   "metadata": {
    "collapsed": true
   },
   "outputs": [],
   "source": []
  }
 ],
 "metadata": {
  "kernelspec": {
   "display_name": "Python 2",
   "language": "python",
   "name": "python2"
  },
  "language_info": {
   "codemirror_mode": {
    "name": "ipython",
    "version": 2
   },
   "file_extension": ".py",
   "mimetype": "text/x-python",
   "name": "python",
   "nbconvert_exporter": "python",
   "pygments_lexer": "ipython2",
   "version": "2.7.11"
  }
 },
 "nbformat": 4,
 "nbformat_minor": 0
}
