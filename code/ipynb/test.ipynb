{
 "cells": [
  {
   "cell_type": "code",
   "execution_count": 2,
   "metadata": {},
   "outputs": [],
   "source": [
    "import os\n",
    "import gzip"
   ]
  },
  {
   "cell_type": "code",
   "execution_count": 23,
   "metadata": {},
   "outputs": [],
   "source": [
    "data_path = 'data\\\\ml-1m\\\\'\n",
    "filename = data_path + 'toy-story.srt'"
   ]
  },
  {
   "cell_type": "code",
   "execution_count": 7,
   "metadata": {},
   "outputs": [],
   "source": [
    "with open(data_path + 'toy-story.srt') as f:\n",
    "    content = f.read()"
   ]
  },
  {
   "cell_type": "code",
   "execution_count": 15,
   "metadata": {},
   "outputs": [
    {
     "name": "stdout",
     "output_type": "stream",
     "text": [
      "96228\n"
     ]
    }
   ],
   "source": [
    "print len(content)"
   ]
  },
  {
   "cell_type": "code",
   "execution_count": 16,
   "metadata": {},
   "outputs": [],
   "source": [
    "import re"
   ]
  },
  {
   "cell_type": "code",
   "execution_count": 18,
   "metadata": {},
   "outputs": [],
   "source": [
    "result = re.findall(\"(\\d+:\\d+:\\d+,\\d+ --> \\d+:\\d+:\\d+,\\d+)\\s+(.+)\", content)"
   ]
  },
  {
   "cell_type": "code",
   "execution_count": 22,
   "metadata": {},
   "outputs": [
    {
     "data": {
      "text/plain": [
       "'[Boy]All right, everyone! This...'"
      ]
     },
     "execution_count": 22,
     "output_type": "execute_result",
     "metadata": {}
    }
   ],
   "source": [
    "result[0][1]"
   ]
  },
  {
   "cell_type": "code",
   "execution_count": 25,
   "metadata": {},
   "outputs": [],
   "source": [
    "from itertools import groupby\n",
    "# \"chunk\" our input file, delimited by blank lines\n",
    "with open(filename) as f:\n",
    "    res = [list(g) for b,g in groupby(f, lambda x: bool(x.strip())) if b]"
   ]
  },
  {
   "cell_type": "code",
   "execution_count": 28,
   "metadata": {},
   "outputs": [
    {
     "data": {
      "text/plain": [
       "['1\\n',\n '00:00:25,959 --> 00:00:30,896\\n',\n '[Boy]All right, everyone! This...\\n',\n \"is a stickup! Don't anybody move!\\n\"]"
      ]
     },
     "execution_count": 28,
     "output_type": "execute_result",
     "metadata": {}
    }
   ],
   "source": [
    "res[0]"
   ]
  },
  {
   "cell_type": "code",
   "execution_count": 33,
   "metadata": {},
   "outputs": [
    {
     "name": "stdout",
     "output_type": "stream",
     "text": [
      "['[Boy]All right, everyone! This...\\n', \"is a stickup! Don't anybody move!\\n\"]\n"
     ]
    }
   ],
   "source": [
    "print res[0][2:]"
   ]
  },
  {
   "cell_type": "code",
   "execution_count": 51,
   "metadata": {},
   "outputs": [],
   "source": [
    "test = ''\n",
    "for s in res[0][2:]:\n",
    "    test += s + ' '"
   ]
  },
  {
   "cell_type": "code",
   "execution_count": 53,
   "metadata": {},
   "outputs": [
    {
     "data": {
      "text/plain": [
       "\"[Boy]All right, everyone! This... is a stickup! Don't anybody move! \""
      ]
     },
     "execution_count": 53,
     "output_type": "execute_result",
     "metadata": {}
    }
   ],
   "source": [
    "test.replace('\\n', '')"
   ]
  },
  {
   "cell_type": "code",
   "execution_count": 77,
   "metadata": {},
   "outputs": [],
   "source": [
    "asdf = \"*Test asdf*'\""
   ]
  },
  {
   "cell_type": "code",
   "execution_count": 78,
   "metadata": {},
   "outputs": [
    {
     "data": {
      "text/plain": [
       "\"*Test asdf*'\""
      ]
     },
     "execution_count": 78,
     "output_type": "execute_result",
     "metadata": {}
    }
   ],
   "source": [
    "asdf"
   ]
  },
  {
   "cell_type": "code",
   "execution_count": 79,
   "metadata": {},
   "outputs": [
    {
     "data": {
      "text/plain": [
       "'Test asdf'"
      ]
     },
     "execution_count": 79,
     "output_type": "execute_result",
     "metadata": {}
    }
   ],
   "source": [
    "asdf.strip(\"'*-\")"
   ]
  },
  {
   "cell_type": "code",
   "execution_count": 162,
   "metadata": {},
   "outputs": [],
   "source": [
    "reg_replace = '[Boy] This is *a* test... -- [test] <i>\"hi there\"</i>*- <i>- Dis you dig his action?- His action?</i>'"
   ]
  },
  {
   "cell_type": "code",
   "execution_count": 163,
   "metadata": {},
   "outputs": [],
   "source": [
    "reg_replace = re.sub(r\"\\[.*?\\]|<.+?>|['*-]|\\\"\", \"\", reg_replace)\n",
    "reg_replace = re.sub(r\"\\.{2,}\", \".\", reg_replace)\n",
    "reg_replace = re.sub(r\" {2,}\", \" \", reg_replace).lower()"
   ]
  },
  {
   "cell_type": "code",
   "execution_count": 164,
   "metadata": {},
   "outputs": [
    {
     "data": {
      "text/plain": [
       "'this is a test. hi there dis you dig his action? his action?'"
      ]
     },
     "execution_count": 164,
     "output_type": "execute_result",
     "metadata": {}
    }
   ],
   "source": [
    "reg_replace.strip()"
   ]
  },
  {
   "cell_type": "code",
   "execution_count": 86,
   "metadata": {},
   "outputs": [
    {
     "name": "stdout",
     "output_type": "stream",
     "text": [
      "0\n"
     ]
    }
   ],
   "source": [
    "opensubtitles = \"asdf OpenSubtitles.org blabla\"\n",
    "ost_match = re.findall(r\"OpenSubtitles\", opensubtitles)\n",
    "print len(ost_match)"
   ]
  },
  {
   "cell_type": "code",
   "execution_count": 118,
   "metadata": {},
   "outputs": [
    {
     "data": {
      "text/plain": [
       "'test'"
      ]
     },
     "execution_count": 118,
     "output_type": "execute_result",
     "metadata": {}
    }
   ],
   "source": [
    "'!.. test'.lstrip('!. ')"
   ]
  },
  {
   "cell_type": "code",
   "execution_count": 138,
   "metadata": {},
   "outputs": [
    {
     "data": {
      "text/plain": [
       "'Kluft skrams infor pa federal electoral groe'"
      ]
     },
     "execution_count": 138,
     "output_type": "execute_result",
     "metadata": {}
    }
   ],
   "source": [
    "title = u\"Klüft skräms inför på fédéral électoral große\"\n",
    "import unicodedata\n",
    "unicodedata.normalize('NFKD', title).encode('ascii','ignore')"
   ]
  },
  {
   "cell_type": "code",
   "execution_count": 197,
   "metadata": {},
   "outputs": [],
   "source": [
    "import codecs\n",
    "with codecs.open(data_path + 'ascii-test.txt', 'r',encoding='utf8') as f:\n",
    "    asdf = f.read()"
   ]
  },
  {
   "cell_type": "code",
   "execution_count": 196,
   "metadata": {},
   "outputs": [],
   "source": [
    "with open(data_path + 'ascii-test.txt', 'w') as f:\n",
    "    f.write(\"this is a test\")"
   ]
  },
  {
   "cell_type": "code",
   "execution_count": 198,
   "metadata": {},
   "outputs": [
    {
     "data": {
      "text/plain": [
       "u'this is a test'"
      ]
     },
     "execution_count": 198,
     "output_type": "execute_result",
     "metadata": {}
    }
   ],
   "source": [
    "asdf"
   ]
  },
  {
   "cell_type": "code",
   "execution_count": 193,
   "metadata": {},
   "outputs": [
    {
     "ename": "UnicodeEncodeError",
     "evalue": "'ascii' codec can't encode character u'\\xfc' in position 2: ordinal not in range(128)",
     "output_type": "error",
     "traceback": [
      "\u001b[1;31m---------------------------------------------------------------------------\u001b[0m",
      "\u001b[1;31mUnicodeEncodeError\u001b[0m                        Traceback (most recent call last)",
      "\u001b[1;32m<ipython-input-193-b82ecda669d9>\u001b[0m in \u001b[0;36m<module>\u001b[1;34m()\u001b[0m\n\u001b[1;32m----> 1\u001b[1;33m \u001b[0masdf\u001b[0m\u001b[1;33m.\u001b[0m\u001b[0mdecode\u001b[0m\u001b[1;33m(\u001b[0m\u001b[1;34m'utf-8'\u001b[0m\u001b[1;33m)\u001b[0m\u001b[1;33m\u001b[0m\u001b[0m\n\u001b[0m",
      "\u001b[1;32mC:\\Anaconda\\envs\\dato-env\\lib\\encodings\\utf_8.pyc\u001b[0m in \u001b[0;36mdecode\u001b[1;34m(input, errors)\u001b[0m\n\u001b[0;32m     14\u001b[0m \u001b[1;33m\u001b[0m\u001b[0m\n\u001b[0;32m     15\u001b[0m \u001b[1;32mdef\u001b[0m \u001b[0mdecode\u001b[0m\u001b[1;33m(\u001b[0m\u001b[0minput\u001b[0m\u001b[1;33m,\u001b[0m \u001b[0merrors\u001b[0m\u001b[1;33m=\u001b[0m\u001b[1;34m'strict'\u001b[0m\u001b[1;33m)\u001b[0m\u001b[1;33m:\u001b[0m\u001b[1;33m\u001b[0m\u001b[0m\n\u001b[1;32m---> 16\u001b[1;33m     \u001b[1;32mreturn\u001b[0m \u001b[0mcodecs\u001b[0m\u001b[1;33m.\u001b[0m\u001b[0mutf_8_decode\u001b[0m\u001b[1;33m(\u001b[0m\u001b[0minput\u001b[0m\u001b[1;33m,\u001b[0m \u001b[0merrors\u001b[0m\u001b[1;33m,\u001b[0m \u001b[0mTrue\u001b[0m\u001b[1;33m)\u001b[0m\u001b[1;33m\u001b[0m\u001b[0m\n\u001b[0m\u001b[0;32m     17\u001b[0m \u001b[1;33m\u001b[0m\u001b[0m\n\u001b[0;32m     18\u001b[0m \u001b[1;32mclass\u001b[0m \u001b[0mIncrementalEncoder\u001b[0m\u001b[1;33m(\u001b[0m\u001b[0mcodecs\u001b[0m\u001b[1;33m.\u001b[0m\u001b[0mIncrementalEncoder\u001b[0m\u001b[1;33m)\u001b[0m\u001b[1;33m:\u001b[0m\u001b[1;33m\u001b[0m\u001b[0m\n",
      "\u001b[1;31mUnicodeEncodeError\u001b[0m: 'ascii' codec can't encode character u'\\xfc' in position 2: ordinal not in range(128)"
     ]
    }
   ],
   "source": [
    "asdf.decode('utf-8')"
   ]
  },
  {
   "cell_type": "code",
   "execution_count": 199,
   "metadata": {},
   "outputs": [
    {
     "data": {
      "text/plain": [
       "'this is a test'"
      ]
     },
     "execution_count": 199,
     "output_type": "execute_result",
     "metadata": {}
    }
   ],
   "source": [
    "unicodedata.normalize('NFKD', asdf).encode('ascii','ignore')"
   ]
  },
  {
   "cell_type": "code",
   "execution_count": 182,
   "metadata": {},
   "outputs": [
    {
     "data": {
      "text/plain": [
       "'Kl\\xc3\\xbcft skr\\xc3\\xa4ms inf\\xc3\\xb6r p\\xc3\\xa5 f\\xc3\\xa9d\\xc3\\xa9ral \\xc3\\xa9lectoral gro\\xc3\\x9fe'"
      ]
     },
     "execution_count": 182,
     "output_type": "execute_result",
     "metadata": {}
    }
   ],
   "source": [
    "asdf"
   ]
  },
  {
   "cell_type": "code",
   "execution_count": 203,
   "metadata": {},
   "outputs": [],
   "source": [
    "def deaccent(text):\n",
    "    \"\"\"\n",
    "    Remove accentuation from the given string. Input text is either a unicode string or utf8 encoded bytestring.\n",
    "    Return input string with accents removed, as unicode.\n",
    "    deaccent(\"Šéf chomutovských komunistů dostal poštou bílý prášek\")\n",
    "    u'Sef chomutovskych komunistu dostal postou bily prasek'\n",
    "    \"\"\"\n",
    "    if not isinstance(text, unicode):\n",
    "        # assume utf8 for byte strings, use default (strict) error handling\n",
    "        text = text.decode('utf8')\n",
    "    norm = unicodedata.normalize(\"NFD\", text)\n",
    "    result = unicode('').join(ch for ch in norm if unicodedata.category(ch) != 'Mn')\n",
    "    return unicodedata.normalize(\"NFC\", result)"
   ]
  },
  {
   "cell_type": "code",
   "execution_count": 205,
   "metadata": {},
   "outputs": [
    {
     "data": {
      "text/plain": [
       "u'Kluft skrams infor pa federal electoral gro\\xdfe'"
      ]
     },
     "execution_count": 205,
     "output_type": "execute_result",
     "metadata": {}
    }
   ],
   "source": [
    "deaccent(title)"
   ]
  },
  {
   "cell_type": "code",
   "execution_count": 209,
   "metadata": {},
   "outputs": [
    {
     "data": {
      "text/plain": [
       "['this is a test', ' and another one']"
      ]
     },
     "execution_count": 209,
     "output_type": "execute_result",
     "metadata": {}
    }
   ],
   "source": [
    "'this is a test. and another one'.split('.')"
   ]
  },
  {
   "cell_type": "code",
   "execution_count": 211,
   "metadata": {},
   "outputs": [
    {
     "data": {
      "text/plain": [
       "['this', 'isn', 't', 'just', 'a', 'test', '.', 'it', 's', 'everything', '!']"
      ]
     },
     "execution_count": 211,
     "output_type": "execute_result",
     "metadata": {}
    }
   ],
   "source": [
    "from nltk.tokenize import RegexpTokenizer\n",
    "tokenizer = RegexpTokenizer(r'\\w+|[\\.\\,\\!\\?]')\n",
    "test = \"this isn't just a test. it's everything!\"\n",
    "tokenizer.tokenize(test)"
   ]
  },
  {
   "cell_type": "code",
   "execution_count": 1,
   "metadata": {},
   "outputs": [
    {
     "name": "stderr",
     "output_type": "stream",
     "text": [
      "ERROR (theano.sandbox.cuda): nvcc compiler not found on $PATH. Check your nvcc installation and try again.\n"
     ]
    },
    {
     "name": "stderr",
     "output_type": "stream",
     "text": [
      "ERROR:theano.sandbox.cuda:nvcc compiler not found on $PATH. Check your nvcc installation and try again.\n"
     ]
    }
   ],
   "source": [
    "from gensim.models.doc2vec import Doc2Vec\n",
    "model = Doc2Vec.load('data\\\\ml-1m\\\\doc2vec-model')"
   ]
  },
  {
   "cell_type": "code",
   "execution_count": 2,
   "metadata": {},
   "outputs": [
    {
     "data": {
      "text/plain": [
       "[('80801.txt', 0.5618369579315186),\n ('119567.txt', 0.5492377281188965),\n ('114898.txt', 0.4717322587966919),\n ('81633.txt', 0.4550968408584595),\n ('120841.txt', 0.4425843060016632),\n ('120764.txt', 0.4375346302986145),\n ('149261.txt', 0.43743863701820374),\n ('88760.txt', 0.43536368012428284),\n ('113492.txt', 0.4300505220890045),\n ('119675.txt', 0.4281359016895294)]"
      ]
     },
     "execution_count": 2,
     "output_type": "execute_result",
     "metadata": {}
    }
   ],
   "source": [
    "model.docvecs.most_similar('107290.txt') # jurassic park\n",
    "# 119567.txt is Lost World: Jurassic Park"
   ]
  },
  {
   "cell_type": "code",
   "execution_count": 6,
   "metadata": {},
   "outputs": [
    {
     "data": {
      "text/plain": [
       "[('120363.txt', 0.7217620015144348),\n ('120751.txt', 0.5504260659217834),\n ('107131.txt', 0.5067039132118225),\n ('104437.txt', 0.47315818071365356),\n ('177789.txt', 0.45557332038879395),\n ('97523.txt', 0.43696466088294983),\n ('107688.txt', 0.43580278754234314),\n ('183523.txt', 0.43377044796943665),\n ('120029.txt', 0.43368828296661377),\n ('120213.txt', 0.4318397343158722)]"
      ]
     },
     "execution_count": 6,
     "output_type": "execute_result",
     "metadata": {}
    }
   ],
   "source": [
    "model.docvecs.most_similar('114709.txt') # toy story\n",
    "# 120363.txt toy story 2"
   ]
  },
  {
   "cell_type": "code",
   "execution_count": 5,
   "metadata": {},
   "outputs": [
    {
     "name": "stdout",
     "output_type": "stream",
     "text": [
      "jurassic park: 107290\n[('119567.txt', 0.6277036666870117), ('120458.txt', 0.5074722766876221), ('50873.txt', 0.4839754104614258), ('88760.txt', 0.4828440546989441), ('72308.txt', 0.4741674065589905), ('104839.txt', 0.47385504841804504), ('97443.txt', 0.4737377166748047), ('97523.txt', 0.47235530614852905), ('120755.txt', 0.4597739577293396), ('85750.txt', 0.4573855996131897)]\njurassic park 2: 119567\n[('107290.txt', 0.6277036070823669), ('113114.txt', 0.583235502243042), ('106965.txt', 0.5595030188560486), ('56931.txt', 0.5003730654716492), ('115493.txt', 0.4974519610404968), ('116329.txt', 0.475983202457428), ('114852.txt', 0.4682925343513489), ('95652.txt', 0.4642091393470764), ('50873.txt', 0.4640486240386963), ('75648.txt', 0.45731741189956665)]\n\ndie hard: 95016\n[('99423.txt', 0.5647230744361877), ('137494.txt', 0.5314052700996399), ('112864.txt', 0.5268281698226929), ('119874.txt', 0.4652172923088074), ('93870.txt', 0.4619150757789612), ('99939.txt', 0.44646281003952026), ('103776.txt', 0.43634992837905884), ('107286.txt', 0.43348097801208496), ('82817.txt', 0.43177640438079834), ('86856.txt', 0.4297121465206146)]\ndie hard 2: 99423\n[('95016.txt', 0.5647230744361877), ('120390.txt', 0.49251407384872437), ('78740.txt', 0.4880422055721283), ('118571.txt', 0.4827587604522705), ('134033.txt', 0.47833698987960815), ('105698.txt', 0.47483986616134644), ('120179.txt', 0.4742750823497772), ('99785.txt', 0.4688185155391693), ('120815.txt', 0.4643728733062744), ('90605.txt', 0.4580831527709961)]\n\nspecies: 114508\n[('120841.txt', 0.5582891702651978), ('97368.txt', 0.5310168266296387), ('204626.txt', 0.518216073513031), ('120877.txt', 0.4876972734928131), ('82533.txt', 0.48731502890586853), ('119675.txt', 0.4846397042274475), ('115471.txt', 0.4845212697982788), ('120611.txt', 0.47510838508605957), ('120601.txt', 0.47416433691978455), ('120004.txt', 0.4740667939186096)]\nspecies 2: 120841\n[('120764.txt', 0.574373185634613), ('114508.txt', 0.5582892298698425), ('164052.txt', 0.510116457939148), ('186566.txt', 0.4950176179409027), ('112384.txt', 0.4888670742511749), ('97372.txt', 0.48558947443962097), ('183523.txt', 0.48419612646102905), ('158811.txt', 0.4803770184516907), ('171363.txt', 0.47144103050231934), ('83658.txt', 0.46717578172683716)]\n\nstar wars episode 4: 114508\n[('120841.txt', 0.5582891702651978), ('97368.txt', 0.5310168266296387), ('204626.txt', 0.518216073513031), ('120877.txt', 0.4876972734928131), ('82533.txt', 0.48731502890586853), ('119675.txt', 0.4846397042274475), ('115471.txt', 0.4845212697982788), ('120611.txt', 0.47510838508605957), ('120601.txt', 0.47416433691978455), ('120004.txt', 0.4740667939186096)]\nstar wars episode 5: 80684\n[('86190.txt', 0.8696346879005432), ('76759.txt', 0.758433997631073), ('120915.txt', 0.6844009160995483), ('134983.txt', 0.5591842532157898), ('84827.txt', 0.5501075387001038), ('120738.txt', 0.5375176668167114), ('119707.txt', 0.5302658677101135), ('62622.txt', 0.5283323526382446), ('78869.txt', 0.52253657579422), ('131646.txt', 0.5152754187583923)]\nstar wars episode 6: 86190\n[('80684.txt', 0.8696345686912537), ('76759.txt', 0.7718745470046997), ('120915.txt', 0.6468921899795532), ('84827.txt', 0.5806485414505005), ('120738.txt', 0.5344816446304321), ('91431.txt', 0.5238258242607117), ('89893.txt', 0.5097953677177429), ('103060.txt', 0.5085910558700562), ('107952.txt', 0.5078585147857666), ('117731.txt', 0.5058361887931824)]\n\nterminator: 88247\n[('103064.txt', 0.577082097530365), ('107302.txt', 0.5166387557983398), ('109506.txt', 0.5141586065292358), ('176269.txt', 0.5071716904640198), ('120738.txt', 0.5030794739723206), ('103772.txt', 0.4971258044242859), ('74156.txt', 0.49589940905570984), ('48545.txt', 0.494727224111557), ('139668.txt', 0.4887227714061737), ('111323.txt', 0.48701241612434387)]\nterminator 2: 103064\n[('88247.txt', 0.577082097530365), ('118966.txt', 0.5668652653694153), ('115471.txt', 0.5323112607002258), ('95956.txt', 0.5100727677345276), ('100263.txt', 0.48601794242858887), ('83944.txt', 0.4841596186161041), ('171804.txt', 0.48072004318237305), ('104684.txt', 0.47782987356185913), ('87995.txt', 0.4738139808177948), ('104299.txt', 0.4737028479576111)]\n\ntoy story: 114709\n[('120363.txt', 0.7039100527763367), ('120913.txt', 0.5114725828170776), ('113820.txt', 0.5090734362602234), ('158811.txt', 0.5082470178604126), ('90633.txt', 0.4859383702278137), ('107952.txt', 0.48471760749816895), ('107131.txt', 0.4775078296661377), ('78869.txt', 0.4755000174045563), ('116756.txt', 0.4709891974925995), ('80684.txt', 0.46912017464637756)]\ntoy story 2: 120363\n[('114709.txt', 0.7039098739624023), ('61852.txt', 0.44813865423202515), ('104740.txt', 0.44340676069259644), ('107626.txt', 0.43655508756637573), ('182508.txt', 0.4360440671443939), ('96787.txt', 0.42797383666038513), ('111070.txt', 0.4266083836555481), ('89385.txt', 0.425240159034729), ('109040.txt', 0.4220237135887146), ('94625.txt', 0.4218771755695343)]\n\nmatrix: 133093\n[('74812.txt', 0.5364693403244019), ('120184.txt', 0.5269683599472046), ('185183.txt', 0.4882129430770874), ('104692.txt', 0.48728328943252563), ('116421.txt', 0.48707491159439087), ('100802.txt', 0.4849041998386383), ('79945.txt', 0.4829596281051636), ('119654.txt', 0.48044654726982117), ('146516.txt', 0.47658470273017883), ('157016.txt', 0.4744884669780731)]\n"
     ]
    }
   ],
   "source": [
    "from gensim.models.doc2vec import Doc2Vec\n",
    "model3 = Doc2Vec.load('doc2vec-models\\\\doc2vec-model_stopwords-removed')\n",
    "print \"jurassic park: 107290\"\n",
    "print model3.docvecs.most_similar('107290.txt') # jurassic park\n",
    "print \"jurassic park 2: 119567\"\n",
    "print model3.docvecs.most_similar('119567.txt') # Lost World: Jurassic Park\n",
    "print\n",
    "print \"die hard: 95016\"\n",
    "print model3.docvecs.most_similar('95016.txt') # die hard\n",
    "print \"die hard 2: 99423\"\n",
    "print model3.docvecs.most_similar('99423.txt') # die hard 2\n",
    "print\n",
    "print \"species: 114508\"\n",
    "print model3.docvecs.most_similar('114508.txt') # species\n",
    "print \"species 2: 120841\"\n",
    "print model3.docvecs.most_similar('120841.txt') # species 2\n",
    "print \n",
    "print \"star wars episode 4: 114508\"\n",
    "print model3.docvecs.most_similar('114508.txt') # star wars Episode 4 - A New Hope\n",
    "print \"star wars episode 5: 80684\"\n",
    "print model3.docvecs.most_similar('80684.txt') # star wars Episode 5\n",
    "print \"star wars episode 6: 86190\"\n",
    "print model3.docvecs.most_similar('86190.txt') # star wars Episode 6\n",
    "print \n",
    "print \"terminator: 88247\"\n",
    "print model3.docvecs.most_similar('88247.txt')\n",
    "print \"terminator 2: 103064\"\n",
    "print model3.docvecs.most_similar('103064.txt')\n",
    "print \n",
    "print \"toy story: 114709\"\n",
    "print model3.docvecs.most_similar('114709.txt')\n",
    "print \"toy story 2: 120363\"\n",
    "print model3.docvecs.most_similar('120363.txt')\n",
    "print \n",
    "print \"matrix: 133093\" \n",
    "print model3.docvecs.most_similar('133093.txt')"
   ]
  },
  {
   "cell_type": "code",
   "execution_count": 6,
   "metadata": {},
   "outputs": [
    {
     "data": {
      "text/plain": [
       "100"
      ]
     },
     "execution_count": 6,
     "output_type": "execute_result",
     "metadata": {}
    }
   ],
   "source": [
    "int(model2.docvecs['107290.txt'].shape[0])"
   ]
  },
  {
   "cell_type": "code",
   "execution_count": 7,
   "metadata": {},
   "outputs": [
    {
     "data": {
      "text/plain": [
       "<function gensim.models.word2vec.log_accuracy>"
      ]
     },
     "execution_count": 7,
     "output_type": "execute_result",
     "metadata": {}
    }
   ],
   "source": [
    "model2.log_accuracy"
   ]
  },
  {
   "cell_type": "code",
   "execution_count": 1,
   "metadata": {},
   "outputs": [
    {
     "name": "stderr",
     "output_type": "stream",
     "text": [
      "ERROR (theano.sandbox.cuda): nvcc compiler not found on $PATH. Check your nvcc installation and try again.\n"
     ]
    },
    {
     "name": "stderr",
     "output_type": "stream",
     "text": [
      "ERROR:theano.sandbox.cuda:nvcc compiler not found on $PATH. Check your nvcc installation and try again.\n"
     ]
    },
    {
     "data": {
      "text/plain": [
       "[('77766.txt', 0.5221070647239685),\n ('119567.txt', 0.4903046786785126),\n ('120901.txt', 0.4733923375606537),\n ('90605.txt', 0.47303009033203125),\n ('56931.txt', 0.4714515507221222),\n ('74860.txt', 0.4700430631637573),\n ('109676.txt', 0.4690511226654053),\n ('118956.txt', 0.45791003108024597),\n ('101846.txt', 0.45749980211257935),\n ('120338.txt', 0.4544439911842346)]"
      ]
     },
     "execution_count": 1,
     "output_type": "execute_result",
     "metadata": {}
    }
   ],
   "source": [
    "from gensim.models.doc2vec import Doc2Vec\n",
    "model3 = Doc2Vec.load('doc2vec-models/2016-04-11_14.51.44_20e_epoch19')\n",
    "model3.docvecs.most_similar('107290.txt') # jurassic park\n",
    "# 119567.txt is Lost World: Jurassic Park"
   ]
  },
  {
   "cell_type": "code",
   "execution_count": 4,
   "metadata": {},
   "outputs": [
    {
     "data": {
      "text/plain": [
       "[('119567.txt', 0.6061607003211975),\n ('119675.txt', 0.5456262230873108),\n ('118956.txt', 0.4916379451751709),\n ('120004.txt', 0.4827783405780792),\n ('50873.txt', 0.47823476791381836),\n ('118928.txt', 0.46828827261924744),\n ('120184.txt', 0.45656538009643555),\n ('120660.txt', 0.4562648832798004),\n ('90605.txt', 0.4535699784755707),\n ('78748.txt', 0.4527929723262787)]"
      ]
     },
     "execution_count": 4,
     "output_type": "execute_result",
     "metadata": {}
    }
   ],
   "source": [
    "from gensim.models.doc2vec import Doc2Vec\n",
    "model3 = Doc2Vec.load('doc2vec-models/2016-04-11_16.00.28_100e_lr0.01_epoch99')\n",
    "model3.docvecs.most_similar('107290.txt') # jurassic park\n",
    "# 119567.txt is Lost World: Jurassic Park"
   ]
  },
  {
   "cell_type": "code",
   "execution_count": 4,
   "metadata": {},
   "outputs": [
    {
     "name": "stdout",
     "output_type": "stream",
     "text": [
      "[('119567.txt', 0.6268845200538635), ('119675.txt', 0.5617817044258118), ('120755.txt', 0.47830522060394287), ('118928.txt', 0.47602003812789917), ('120458.txt', 0.4706527888774872), ('56931.txt', 0.4632514715194702), ('57546.txt', 0.4614725112915039), ('88760.txt', 0.4592181146144867), ('90605.txt', 0.45524418354034424), ('120179.txt', 0.45521798729896545)]\n\n[('107290.txt', 0.6268845200538635), ('113114.txt', 0.5145420432090759), ('112715.txt', 0.5128551125526428), ('50873.txt', 0.4985804259777069), ('106965.txt', 0.4952640235424042), ('56931.txt', 0.4707258641719818), ('118665.txt', 0.46690449118614197), ('47034.txt', 0.45557770133018494), ('90605.txt', 0.4542960226535797), ('116329.txt', 0.45401930809020996)]\n\n"
     ]
    }
   ],
   "source": [
    "from gensim.models.doc2vec import Doc2Vec\n",
    "model3 = Doc2Vec.load('doc2vec-models/2016-04-11_17.48.40_100e_lr0.01_window8_neg4')\n",
    "print model3.docvecs.most_similar('107290.txt') # jurassic park\n",
    "print\n",
    "print model3.docvecs.most_similar('119567.txt') # Lost World: Jurassic Park\n",
    "print"
   ]
  },
  {
   "cell_type": "code",
   "execution_count": 1,
   "metadata": {},
   "outputs": [
    {
     "name": "stdout",
     "output_type": "stream",
     "text": [
      "[('119567.txt', 0.5445228815078735), ('56931.txt', 0.5231914520263672), ('118928.txt', 0.5142638087272644), ('120004.txt', 0.5026988983154297), ('119675.txt', 0.48388150334358215), ('113114.txt', 0.4799053370952606), ('120755.txt', 0.4731082320213318), ('104114.txt', 0.4707070589065552), ('118956.txt', 0.4641301929950714), ('56195.txt', 0.4626386761665344)]\n\n[('107290.txt', 0.5445228815078735), ('50873.txt', 0.5087046027183533), ('116329.txt', 0.5072171688079834), ('117998.txt', 0.5018925666809082), ('112715.txt', 0.486945778131485), ('119173.txt', 0.4843507707118988), ('115857.txt', 0.48055776953697205), ('113114.txt', 0.4793751835823059), ('134983.txt', 0.4750833213329315), ('72308.txt', 0.4637608528137207)]\n\n"
     ]
    }
   ],
   "source": [
    "from gensim.models.doc2vec import Doc2Vec\n",
    "model3 = Doc2Vec.load('doc2vec-models/2016-04-14_16.14.23_20e_pw-dm_lr0.025_window10_neg5')\n",
    "print model3.docvecs.most_similar('107290.txt') # jurassic park\n",
    "print\n",
    "print model3.docvecs.most_similar('119567.txt') # Lost World: Jurassic Park\n",
    "print"
   ]
  },
  {
   "cell_type": "code",
   "execution_count": 3,
   "metadata": {},
   "outputs": [
    {
     "name": "stdout",
     "output_type": "stream",
     "text": [
      "[('119567.txt', 0.37594127655029297), ('108255.txt', 0.31444209814071655), ('117427.txt', 0.3133801221847534), ('105698.txt', 0.31074437499046326), ('66811.txt', 0.3067178726196289), ('113492.txt', 0.3049705922603607), ('91431.txt', 0.29440489411354065), ('101329.txt', 0.29253441095352173), ('155267.txt', 0.28365811705589294), ('87363.txt', 0.2820146083831787)]\n\n[('107290.txt', 0.37594127655029297), ('112715.txt', 0.36757692694664), ('120685.txt', 0.3411584794521332), ('113114.txt', 0.33676210045814514), ('114852.txt', 0.33307334780693054), ('106965.txt', 0.3314782381057739), ('149261.txt', 0.3307674527168274), ('259974.txt', 0.3277110457420349), ('116329.txt', 0.32630032300949097), ('134983.txt', 0.32539498805999756)]\n\n"
     ]
    }
   ],
   "source": [
    "from gensim.models.doc2vec import Doc2Vec\n",
    "model3 = Doc2Vec.load('doc2vec-models/2016-04-14_17.11.01_20e_pv-dm_size300_lr0.025_window10_neg5')\n",
    "print model3.docvecs.most_similar('107290.txt') # jurassic park\n",
    "print\n",
    "print model3.docvecs.most_similar('119567.txt') # Lost World: Jurassic Park\n",
    "print"
   ]
  },
  {
   "cell_type": "code",
   "execution_count": 7,
   "metadata": {},
   "outputs": [
    {
     "name": "stdout",
     "output_type": "stream",
     "text": [
      "jurassic park: 107290\n[('119675.txt', 0.7279843091964722), ('119567.txt', 0.679550290107727), ('120004.txt', 0.6715301871299744), ('90605.txt', 0.6436644792556763), ('118928.txt', 0.6337842345237732), ('97443.txt', 0.6167541146278381), ('117998.txt', 0.6146464943885803), ('56931.txt', 0.6136928200721741), ('88760.txt', 0.6116420030593872), ('118689.txt', 0.5930734872817993)]\njurassic park 2: 119567\n[('117998.txt', 0.703741192817688), ('107290.txt', 0.6795504689216614), ('48215.txt', 0.6699178814888), ('97368.txt', 0.6384050250053406), ('56931.txt', 0.6249889731407166), ('66473.txt', 0.6154401302337646), ('106452.txt', 0.6148790121078491), ('117731.txt', 0.6092559695243835), ('99810.txt', 0.6045732498168945), ('118615.txt', 0.6002902388572693)]\n\ndie hard: 95016\n[('89003.txt', 0.6158862113952637), ('92857.txt', 0.5996342897415161), ('97216.txt', 0.59710294008255), ('113326.txt', 0.5600196123123169), ('100403.txt', 0.5567359328269958), ('92105.txt', 0.555894136428833), ('70355.txt', 0.5538268089294434), ('73802.txt', 0.5478305816650391), ('105698.txt', 0.5445008277893066), ('211938.txt', 0.5342406630516052)]\ndie hard 2: 99423\n[('109686.txt', 0.6406033039093018), ('120587.txt', 0.6221325397491455), ('120710.txt', 0.6064726114273071), ('96061.txt', 0.5991802215576172), ('111419.txt', 0.5978178977966309), ('83722.txt', 0.5915874242782593), ('114279.txt', 0.5901936292648315), ('136244.txt', 0.5891173481941223), ('91431.txt', 0.5832710266113281), ('198386.txt', 0.5783184170722961)]\n\nspecies: 114508\n[('120841.txt', 0.6831179857254028), ('90583.txt', 0.6602948904037476), ('204626.txt', 0.650147557258606), ('139239.txt', 0.6449568867683411), ('105226.txt', 0.6214964985847473), ('164052.txt', 0.6181344389915466), ('95179.txt', 0.6133553981781006), ('84783.txt', 0.6096972823143005), ('115710.txt', 0.6073347926139832), ('82533.txt', 0.6071861982345581)]\nspecies 2: 120841\n[('114508.txt', 0.6831179261207581), ('97368.txt', 0.6303450465202332), ('164052.txt', 0.626392662525177), ('115857.txt', 0.6032724380493164), ('82533.txt', 0.6024057269096375), ('93185.txt', 0.5961866974830627), ('162711.txt', 0.5909173488616943), ('100802.txt', 0.590594470500946), ('204626.txt', 0.5899686813354492), ('86014.txt', 0.5891294479370117)]\n\nstar wars episode 4: 114508\n[('120841.txt', 0.6831179857254028), ('90583.txt', 0.6602948904037476), ('204626.txt', 0.650147557258606), ('139239.txt', 0.6449568867683411), ('105226.txt', 0.6214964985847473), ('164052.txt', 0.6181344389915466), ('95179.txt', 0.6133553981781006), ('84783.txt', 0.6096972823143005), ('115710.txt', 0.6073347926139832), ('82533.txt', 0.6071861982345581)]\nstar wars episode 5: 80684\n[('86190.txt', 0.9230750203132629), ('120915.txt', 0.8119794130325317), ('76759.txt', 0.8067137002944946), ('84827.txt', 0.7332901954650879), ('120738.txt', 0.7259986996650696), ('117731.txt', 0.6888056397438049), ('119707.txt', 0.6791511178016663), ('70909.txt', 0.6599252223968506), ('97368.txt', 0.6569679379463196), ('84315.txt', 0.6349420547485352)]\nstar wars episode 6: 86190\n[('80684.txt', 0.9230751395225525), ('76759.txt', 0.8034204840660095), ('120915.txt', 0.7833722829818726), ('84827.txt', 0.7418139576911926), ('111282.txt', 0.6876243948936462), ('95956.txt', 0.6754801273345947), ('120762.txt', 0.6612713932991028), ('108333.txt', 0.6466556191444397), ('119707.txt', 0.6457018256187439), ('51337.txt', 0.6367716789245605)]\n\nterminator: 88247\n[('103064.txt', 0.6807304620742798), ('120738.txt', 0.6484323740005493), ('109254.txt', 0.6114210486412048), ('118688.txt', 0.5964720249176025), ('101917.txt', 0.5904226899147034), ('146675.txt', 0.588788628578186), ('114825.txt', 0.5853644013404846), ('138703.txt', 0.5745067000389099), ('63350.txt', 0.5728777050971985), ('176269.txt', 0.5704566836357117)]\nterminator 2: 103064\n[('97368.txt', 0.6879885196685791), ('117468.txt', 0.687351644039154), ('88247.txt', 0.6807304620742798), ('88024.txt', 0.6593269109725952), ('146675.txt', 0.6551843285560608), ('87344.txt', 0.613326907157898), ('160620.txt', 0.6116070747375488), ('117603.txt', 0.609268307685852), ('104299.txt', 0.6072198748588562), ('118771.txt', 0.6054908037185669)]\n\ntoy story: 114709\n[('120363.txt', 0.7529134154319763), ('115433.txt', 0.6592516303062439), ('89961.txt', 0.6522800326347351), ('33563.txt', 0.6440500617027283), ('120913.txt', 0.6346995830535889), ('55254.txt', 0.6268847584724426), ('122718.txt', 0.6225906610488892), ('101329.txt', 0.618421196937561), ('96787.txt', 0.6112702488899231), ('84649.txt', 0.6037213206291199)]\ntoy story 2: 120363\n[('114709.txt', 0.7529134154319763), ('89385.txt', 0.6090517640113831), ('120623.txt', 0.5961110591888428), ('160236.txt', 0.588861346244812), ('104740.txt', 0.5870641469955444), ('113198.txt', 0.5795533657073975), ('113321.txt', 0.5702536106109619), ('91778.txt', 0.56478351354599), ('113117.txt', 0.5610805749893188), ('106941.txt', 0.5603072047233582)]\n\nmatrix: 133093\n[('125659.txt', 0.673446536064148), ('104692.txt', 0.6585234999656677), ('139809.txt', 0.6525924801826477), ('82933.txt', 0.6470757126808167), ('119081.txt', 0.6417146921157837), ('106452.txt', 0.615886390209198), ('70909.txt', 0.6158247590065002), ('113481.txt', 0.614305317401886), ('93177.txt', 0.6020263433456421), ('117688.txt', 0.5914855003356934)]\n13th floor: 139809\n[('133093.txt', 0.6525924205780029), ('120577.txt', 0.6037299633026123), ('125659.txt', 0.5876634120941162), ('95294.txt', 0.5740694999694824), ('208988.txt', 0.5717867612838745), ('88247.txt', 0.5688417553901672), ('88763.txt', 0.5621041655540466), ('86200.txt', 0.5564598441123962), ('116225.txt', 0.5556601285934448), ('99088.txt', 0.5544265508651733)]\n"
     ]
    }
   ],
   "source": [
    "from gensim.models.doc2vec import Doc2Vec\n",
    "model3 = Doc2Vec.load('doc2vec-models/2016-04-14_17.36.08_20e_pv-dbow_size50_lr0.025_window8_neg5')\n",
    "print \"jurassic park: 107290\"\n",
    "print model3.docvecs.most_similar('107290.txt') # jurassic park\n",
    "print \"jurassic park 2: 119567\"\n",
    "print model3.docvecs.most_similar('119567.txt') # Lost World: Jurassic Park\n",
    "print\n",
    "print \"die hard: 95016\"\n",
    "print model3.docvecs.most_similar('95016.txt') # die hard\n",
    "print \"die hard 2: 99423\"\n",
    "print model3.docvecs.most_similar('99423.txt') # die hard 2\n",
    "print\n",
    "print \"species: 114508\"\n",
    "print model3.docvecs.most_similar('114508.txt') # species\n",
    "print \"species 2: 120841\"\n",
    "print model3.docvecs.most_similar('120841.txt') # species 2\n",
    "print \n",
    "print \"star wars episode 4: 114508\"\n",
    "print model3.docvecs.most_similar('114508.txt') # star wars Episode 4 - A New Hope\n",
    "print \"star wars episode 5: 80684\"\n",
    "print model3.docvecs.most_similar('80684.txt') # star wars Episode 5\n",
    "print \"star wars episode 6: 86190\"\n",
    "print model3.docvecs.most_similar('86190.txt') # star wars Episode 6\n",
    "print \n",
    "print \"terminator: 88247\"\n",
    "print model3.docvecs.most_similar('88247.txt')\n",
    "print \"terminator 2: 103064\"\n",
    "print model3.docvecs.most_similar('103064.txt')\n",
    "print \n",
    "print \"toy story: 114709\"\n",
    "print model3.docvecs.most_similar('114709.txt')\n",
    "print \"toy story 2: 120363\"\n",
    "print model3.docvecs.most_similar('120363.txt')\n",
    "print \n",
    "print \"matrix: 133093\" \n",
    "print model3.docvecs.most_similar('133093.txt')\n",
    "print \"13th floor: 139809\"\n",
    "print model3.docvecs.most_similar('139809.txt')"
   ]
  },
  {
   "cell_type": "code",
   "execution_count": 1,
   "metadata": {},
   "outputs": [],
   "source": [
    "import multiprocessing\n",
    "cores = multiprocessing.cpu_count()"
   ]
  },
  {
   "cell_type": "code",
   "execution_count": 3,
   "metadata": {},
   "outputs": [
    {
     "data": {
      "text/plain": [
       "8"
      ]
     },
     "execution_count": 3,
     "output_type": "execute_result",
     "metadata": {}
    }
   ],
   "source": [
    "cores"
   ]
  },
  {
   "cell_type": "code",
   "execution_count": null,
   "metadata": {},
   "outputs": [],
   "source": [
    ""
   ]
  }
 ],
 "metadata": {},
 "nbformat": 4,
 "nbformat_minor": 0
}