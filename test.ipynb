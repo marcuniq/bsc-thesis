{
 "cells": [
  {
   "cell_type": "code",
   "execution_count": 2,
   "metadata": {},
   "outputs": [],
   "source": [
    "import os\n",
    "import gzip"
   ]
  },
  {
   "cell_type": "code",
   "execution_count": 23,
   "metadata": {},
   "outputs": [],
   "source": [
    "data_path = 'data\\\\ml-1m\\\\'\n",
    "filename = data_path + 'toy-story.srt'"
   ]
  },
  {
   "cell_type": "code",
   "execution_count": 7,
   "metadata": {},
   "outputs": [],
   "source": [
    "with open(data_path + 'toy-story.srt') as f:\n",
    "    content = f.read()"
   ]
  },
  {
   "cell_type": "code",
   "execution_count": 15,
   "metadata": {},
   "outputs": [
    {
     "name": "stdout",
     "output_type": "stream",
     "text": [
      "96228\n"
     ]
    }
   ],
   "source": [
    "print len(content)"
   ]
  },
  {
   "cell_type": "code",
   "execution_count": 16,
   "metadata": {},
   "outputs": [],
   "source": [
    "import re"
   ]
  },
  {
   "cell_type": "code",
   "execution_count": 18,
   "metadata": {},
   "outputs": [],
   "source": [
    "result = re.findall(\"(\\d+:\\d+:\\d+,\\d+ --> \\d+:\\d+:\\d+,\\d+)\\s+(.+)\", content)"
   ]
  },
  {
   "cell_type": "code",
   "execution_count": 22,
   "metadata": {},
   "outputs": [
    {
     "data": {
      "text/plain": [
       "'[Boy]All right, everyone! This...'"
      ]
     },
     "execution_count": 22,
     "output_type": "execute_result",
     "metadata": {}
    }
   ],
   "source": [
    "result[0][1]"
   ]
  },
  {
   "cell_type": "code",
   "execution_count": 25,
   "metadata": {},
   "outputs": [],
   "source": [
    "from itertools import groupby\n",
    "# \"chunk\" our input file, delimited by blank lines\n",
    "with open(filename) as f:\n",
    "    res = [list(g) for b,g in groupby(f, lambda x: bool(x.strip())) if b]"
   ]
  },
  {
   "cell_type": "code",
   "execution_count": 28,
   "metadata": {},
   "outputs": [
    {
     "data": {
      "text/plain": [
       "['1\\n',\n '00:00:25,959 --> 00:00:30,896\\n',\n '[Boy]All right, everyone! This...\\n',\n \"is a stickup! Don't anybody move!\\n\"]"
      ]
     },
     "execution_count": 28,
     "output_type": "execute_result",
     "metadata": {}
    }
   ],
   "source": [
    "res[0]"
   ]
  },
  {
   "cell_type": "code",
   "execution_count": 33,
   "metadata": {},
   "outputs": [
    {
     "name": "stdout",
     "output_type": "stream",
     "text": [
      "['[Boy]All right, everyone! This...\\n', \"is a stickup! Don't anybody move!\\n\"]\n"
     ]
    }
   ],
   "source": [
    "print res[0][2:]"
   ]
  },
  {
   "cell_type": "code",
   "execution_count": 51,
   "metadata": {},
   "outputs": [],
   "source": [
    "test = ''\n",
    "for s in res[0][2:]:\n",
    "    test += s + ' '"
   ]
  },
  {
   "cell_type": "code",
   "execution_count": 53,
   "metadata": {},
   "outputs": [
    {
     "data": {
      "text/plain": [
       "\"[Boy]All right, everyone! This... is a stickup! Don't anybody move! \""
      ]
     },
     "execution_count": 53,
     "output_type": "execute_result",
     "metadata": {}
    }
   ],
   "source": [
    "test.replace('\\n', '')"
   ]
  },
  {
   "cell_type": "code",
   "execution_count": 77,
   "metadata": {},
   "outputs": [],
   "source": [
    "asdf = \"*Test asdf*'\""
   ]
  },
  {
   "cell_type": "code",
   "execution_count": 78,
   "metadata": {},
   "outputs": [
    {
     "data": {
      "text/plain": [
       "\"*Test asdf*'\""
      ]
     },
     "execution_count": 78,
     "output_type": "execute_result",
     "metadata": {}
    }
   ],
   "source": [
    "asdf"
   ]
  },
  {
   "cell_type": "code",
   "execution_count": 79,
   "metadata": {},
   "outputs": [
    {
     "data": {
      "text/plain": [
       "'Test asdf'"
      ]
     },
     "execution_count": 79,
     "output_type": "execute_result",
     "metadata": {}
    }
   ],
   "source": [
    "asdf.strip(\"'*-\")"
   ]
  },
  {
   "cell_type": "code",
   "execution_count": 162,
   "metadata": {},
   "outputs": [],
   "source": [
    "reg_replace = '[Boy] This is *a* test... -- [test] <i>\"hi there\"</i>*- <i>- Dis you dig his action?- His action?</i>'"
   ]
  },
  {
   "cell_type": "code",
   "execution_count": 163,
   "metadata": {},
   "outputs": [],
   "source": [
    "reg_replace = re.sub(r\"\\[.*?\\]|<.+?>|['*-]|\\\"\", \"\", reg_replace)\n",
    "reg_replace = re.sub(r\"\\.{2,}\", \".\", reg_replace)\n",
    "reg_replace = re.sub(r\" {2,}\", \" \", reg_replace).lower()"
   ]
  },
  {
   "cell_type": "code",
   "execution_count": 164,
   "metadata": {},
   "outputs": [
    {
     "data": {
      "text/plain": [
       "'this is a test. hi there dis you dig his action? his action?'"
      ]
     },
     "execution_count": 164,
     "output_type": "execute_result",
     "metadata": {}
    }
   ],
   "source": [
    "reg_replace.strip()"
   ]
  },
  {
   "cell_type": "code",
   "execution_count": 86,
   "metadata": {},
   "outputs": [
    {
     "name": "stdout",
     "output_type": "stream",
     "text": [
      "0\n"
     ]
    }
   ],
   "source": [
    "opensubtitles = \"asdf OpenSubtitles.org blabla\"\n",
    "ost_match = re.findall(r\"OpenSubtitles\", opensubtitles)\n",
    "print len(ost_match)"
   ]
  },
  {
   "cell_type": "code",
   "execution_count": 118,
   "metadata": {},
   "outputs": [
    {
     "data": {
      "text/plain": [
       "'test'"
      ]
     },
     "execution_count": 118,
     "output_type": "execute_result",
     "metadata": {}
    }
   ],
   "source": [
    "'!.. test'.lstrip('!. ')"
   ]
  },
  {
   "cell_type": "code",
   "execution_count": 138,
   "metadata": {},
   "outputs": [
    {
     "data": {
      "text/plain": [
       "'Kluft skrams infor pa federal electoral groe'"
      ]
     },
     "execution_count": 138,
     "output_type": "execute_result",
     "metadata": {}
    }
   ],
   "source": [
    "title = u\"Klüft skräms inför på fédéral électoral große\"\n",
    "import unicodedata\n",
    "unicodedata.normalize('NFKD', title).encode('ascii','ignore')"
   ]
  },
  {
   "cell_type": "code",
   "execution_count": 197,
   "metadata": {},
   "outputs": [],
   "source": [
    "import codecs\n",
    "with codecs.open(data_path + 'ascii-test.txt', 'r',encoding='utf8') as f:\n",
    "    asdf = f.read()"
   ]
  },
  {
   "cell_type": "code",
   "execution_count": 196,
   "metadata": {},
   "outputs": [],
   "source": [
    "with open(data_path + 'ascii-test.txt', 'w') as f:\n",
    "    f.write(\"this is a test\")"
   ]
  },
  {
   "cell_type": "code",
   "execution_count": 198,
   "metadata": {},
   "outputs": [
    {
     "data": {
      "text/plain": [
       "u'this is a test'"
      ]
     },
     "execution_count": 198,
     "output_type": "execute_result",
     "metadata": {}
    }
   ],
   "source": [
    "asdf"
   ]
  },
  {
   "cell_type": "code",
   "execution_count": 193,
   "metadata": {},
   "outputs": [
    {
     "ename": "UnicodeEncodeError",
     "evalue": "'ascii' codec can't encode character u'\\xfc' in position 2: ordinal not in range(128)",
     "output_type": "error",
     "traceback": [
      "\u001b[1;31m---------------------------------------------------------------------------\u001b[0m",
      "\u001b[1;31mUnicodeEncodeError\u001b[0m                        Traceback (most recent call last)",
      "\u001b[1;32m<ipython-input-193-b82ecda669d9>\u001b[0m in \u001b[0;36m<module>\u001b[1;34m()\u001b[0m\n\u001b[1;32m----> 1\u001b[1;33m \u001b[0masdf\u001b[0m\u001b[1;33m.\u001b[0m\u001b[0mdecode\u001b[0m\u001b[1;33m(\u001b[0m\u001b[1;34m'utf-8'\u001b[0m\u001b[1;33m)\u001b[0m\u001b[1;33m\u001b[0m\u001b[0m\n\u001b[0m",
      "\u001b[1;32mC:\\Anaconda\\envs\\dato-env\\lib\\encodings\\utf_8.pyc\u001b[0m in \u001b[0;36mdecode\u001b[1;34m(input, errors)\u001b[0m\n\u001b[0;32m     14\u001b[0m \u001b[1;33m\u001b[0m\u001b[0m\n\u001b[0;32m     15\u001b[0m \u001b[1;32mdef\u001b[0m \u001b[0mdecode\u001b[0m\u001b[1;33m(\u001b[0m\u001b[0minput\u001b[0m\u001b[1;33m,\u001b[0m \u001b[0merrors\u001b[0m\u001b[1;33m=\u001b[0m\u001b[1;34m'strict'\u001b[0m\u001b[1;33m)\u001b[0m\u001b[1;33m:\u001b[0m\u001b[1;33m\u001b[0m\u001b[0m\n\u001b[1;32m---> 16\u001b[1;33m     \u001b[1;32mreturn\u001b[0m \u001b[0mcodecs\u001b[0m\u001b[1;33m.\u001b[0m\u001b[0mutf_8_decode\u001b[0m\u001b[1;33m(\u001b[0m\u001b[0minput\u001b[0m\u001b[1;33m,\u001b[0m \u001b[0merrors\u001b[0m\u001b[1;33m,\u001b[0m \u001b[0mTrue\u001b[0m\u001b[1;33m)\u001b[0m\u001b[1;33m\u001b[0m\u001b[0m\n\u001b[0m\u001b[0;32m     17\u001b[0m \u001b[1;33m\u001b[0m\u001b[0m\n\u001b[0;32m     18\u001b[0m \u001b[1;32mclass\u001b[0m \u001b[0mIncrementalEncoder\u001b[0m\u001b[1;33m(\u001b[0m\u001b[0mcodecs\u001b[0m\u001b[1;33m.\u001b[0m\u001b[0mIncrementalEncoder\u001b[0m\u001b[1;33m)\u001b[0m\u001b[1;33m:\u001b[0m\u001b[1;33m\u001b[0m\u001b[0m\n",
      "\u001b[1;31mUnicodeEncodeError\u001b[0m: 'ascii' codec can't encode character u'\\xfc' in position 2: ordinal not in range(128)"
     ]
    }
   ],
   "source": [
    "asdf.decode('utf-8')"
   ]
  },
  {
   "cell_type": "code",
   "execution_count": 199,
   "metadata": {},
   "outputs": [
    {
     "data": {
      "text/plain": [
       "'this is a test'"
      ]
     },
     "execution_count": 199,
     "output_type": "execute_result",
     "metadata": {}
    }
   ],
   "source": [
    "unicodedata.normalize('NFKD', asdf).encode('ascii','ignore')"
   ]
  },
  {
   "cell_type": "code",
   "execution_count": 182,
   "metadata": {},
   "outputs": [
    {
     "data": {
      "text/plain": [
       "'Kl\\xc3\\xbcft skr\\xc3\\xa4ms inf\\xc3\\xb6r p\\xc3\\xa5 f\\xc3\\xa9d\\xc3\\xa9ral \\xc3\\xa9lectoral gro\\xc3\\x9fe'"
      ]
     },
     "execution_count": 182,
     "output_type": "execute_result",
     "metadata": {}
    }
   ],
   "source": [
    "asdf"
   ]
  },
  {
   "cell_type": "code",
   "execution_count": 203,
   "metadata": {},
   "outputs": [],
   "source": [
    "def deaccent(text):\n",
    "    \"\"\"\n",
    "    Remove accentuation from the given string. Input text is either a unicode string or utf8 encoded bytestring.\n",
    "    Return input string with accents removed, as unicode.\n",
    "    deaccent(\"Šéf chomutovských komunistů dostal poštou bílý prášek\")\n",
    "    u'Sef chomutovskych komunistu dostal postou bily prasek'\n",
    "    \"\"\"\n",
    "    if not isinstance(text, unicode):\n",
    "        # assume utf8 for byte strings, use default (strict) error handling\n",
    "        text = text.decode('utf8')\n",
    "    norm = unicodedata.normalize(\"NFD\", text)\n",
    "    result = unicode('').join(ch for ch in norm if unicodedata.category(ch) != 'Mn')\n",
    "    return unicodedata.normalize(\"NFC\", result)"
   ]
  },
  {
   "cell_type": "code",
   "execution_count": 205,
   "metadata": {},
   "outputs": [
    {
     "data": {
      "text/plain": [
       "u'Kluft skrams infor pa federal electoral gro\\xdfe'"
      ]
     },
     "execution_count": 205,
     "output_type": "execute_result",
     "metadata": {}
    }
   ],
   "source": [
    "deaccent(title)"
   ]
  },
  {
   "cell_type": "code",
   "execution_count": 209,
   "metadata": {},
   "outputs": [
    {
     "data": {
      "text/plain": [
       "['this is a test', ' and another one']"
      ]
     },
     "execution_count": 209,
     "output_type": "execute_result",
     "metadata": {}
    }
   ],
   "source": [
    "'this is a test. and another one'.split('.')"
   ]
  },
  {
   "cell_type": "code",
   "execution_count": 211,
   "metadata": {},
   "outputs": [
    {
     "data": {
      "text/plain": [
       "['this', 'isn', 't', 'just', 'a', 'test', '.', 'it', 's', 'everything', '!']"
      ]
     },
     "execution_count": 211,
     "output_type": "execute_result",
     "metadata": {}
    }
   ],
   "source": [
    "from nltk.tokenize import RegexpTokenizer\n",
    "tokenizer = RegexpTokenizer(r'\\w+|[\\.\\,\\!\\?]')\n",
    "test = \"this isn't just a test. it's everything!\"\n",
    "tokenizer.tokenize(test)"
   ]
  },
  {
   "cell_type": "code",
   "execution_count": 1,
   "metadata": {},
   "outputs": [
    {
     "name": "stderr",
     "output_type": "stream",
     "text": [
      "ERROR (theano.sandbox.cuda): nvcc compiler not found on $PATH. Check your nvcc installation and try again.\n"
     ]
    },
    {
     "name": "stderr",
     "output_type": "stream",
     "text": [
      "ERROR:theano.sandbox.cuda:nvcc compiler not found on $PATH. Check your nvcc installation and try again.\n"
     ]
    }
   ],
   "source": [
    "from gensim.models.doc2vec import Doc2Vec\n",
    "model = Doc2Vec.load('data\\\\ml-1m\\\\doc2vec-model')"
   ]
  },
  {
   "cell_type": "code",
   "execution_count": 2,
   "metadata": {},
   "outputs": [
    {
     "data": {
      "text/plain": [
       "[('80801.txt', 0.5618369579315186),\n ('119567.txt', 0.5492377281188965),\n ('114898.txt', 0.4717322587966919),\n ('81633.txt', 0.4550968408584595),\n ('120841.txt', 0.4425843060016632),\n ('120764.txt', 0.4375346302986145),\n ('149261.txt', 0.43743863701820374),\n ('88760.txt', 0.43536368012428284),\n ('113492.txt', 0.4300505220890045),\n ('119675.txt', 0.4281359016895294)]"
      ]
     },
     "execution_count": 2,
     "output_type": "execute_result",
     "metadata": {}
    }
   ],
   "source": [
    "model.docvecs.most_similar('107290.txt') # jurassic park\n",
    "# 119567.txt is Lost World: Jurassic Park"
   ]
  },
  {
   "cell_type": "code",
   "execution_count": 6,
   "metadata": {},
   "outputs": [
    {
     "data": {
      "text/plain": [
       "[('120363.txt', 0.7217620015144348),\n ('120751.txt', 0.5504260659217834),\n ('107131.txt', 0.5067039132118225),\n ('104437.txt', 0.47315818071365356),\n ('177789.txt', 0.45557332038879395),\n ('97523.txt', 0.43696466088294983),\n ('107688.txt', 0.43580278754234314),\n ('183523.txt', 0.43377044796943665),\n ('120029.txt', 0.43368828296661377),\n ('120213.txt', 0.4318397343158722)]"
      ]
     },
     "execution_count": 6,
     "output_type": "execute_result",
     "metadata": {}
    }
   ],
   "source": [
    "model.docvecs.most_similar('114709.txt') # toy story\n",
    "# 120363.txt toy story 2"
   ]
  },
  {
   "cell_type": "code",
   "execution_count": 5,
   "metadata": {},
   "outputs": [
    {
     "name": "stderr",
     "output_type": "stream",
     "text": [
      "ERROR (theano.sandbox.cuda): nvcc compiler not found on $PATH. Check your nvcc installation and try again.\n"
     ]
    },
    {
     "name": "stderr",
     "output_type": "stream",
     "text": [
      "ERROR:theano.sandbox.cuda:nvcc compiler not found on $PATH. Check your nvcc installation and try again.\n"
     ]
    },
    {
     "data": {
      "text/plain": [
       "[('119567.txt', 0.6277036666870117),\n ('120458.txt', 0.5074722766876221),\n ('50873.txt', 0.4839754104614258),\n ('88760.txt', 0.4828440546989441),\n ('72308.txt', 0.4741674065589905),\n ('104839.txt', 0.47385504841804504),\n ('97443.txt', 0.4737377166748047),\n ('97523.txt', 0.47235530614852905),\n ('120755.txt', 0.4597739577293396),\n ('85750.txt', 0.4573855996131897)]"
      ]
     },
     "execution_count": 5,
     "output_type": "execute_result",
     "metadata": {}
    }
   ],
   "source": [
    "from gensim.models.doc2vec import Doc2Vec\n",
    "model2 = Doc2Vec.load('data\\\\ml-1m\\\\doc2vec-model_stopwords-removed')\n",
    "model2.docvecs.most_similar('107290.txt') # jurassic park\n",
    "# 119567.txt is Lost World: Jurassic Park"
   ]
  },
  {
   "cell_type": "code",
   "execution_count": 1,
   "metadata": {},
   "outputs": [],
   "source": [
    "import multiprocessing\n",
    "cores = multiprocessing.cpu_count()"
   ]
  },
  {
   "cell_type": "code",
   "execution_count": 3,
   "metadata": {},
   "outputs": [
    {
     "data": {
      "text/plain": [
       "8"
      ]
     },
     "execution_count": 3,
     "output_type": "execute_result",
     "metadata": {}
    }
   ],
   "source": [
    "cores"
   ]
  },
  {
   "cell_type": "code",
   "execution_count": null,
   "metadata": {},
   "outputs": [],
   "source": [
    ""
   ]
  }
 ],
 "metadata": {},
 "nbformat": 4,
 "nbformat_minor": 0
}